{
 "cells": [
  {
   "cell_type": "markdown",
   "metadata": {},
   "source": [
    "### Før du begynner:\n",
    "* Pass på at notebook-filen er merket som \"Trusted\" slik at alle komponentene i dokumentet initialiseres. Du gjør dette ved å trykke der det eventuelt står \"Not Trusted\" oppe til høyre i verktøylinjen, og velg \"Trust\" i menyvalget som kommer opp.\n",
    "* Det anbefales også å trykke på \"Restart and run all cells\", slik at alt av videoceller aktiveres."
   ]
  },
  {
   "cell_type": "markdown",
   "metadata": {},
   "source": [
    "# Video 1: Introduksjon til Digitale Filtre"
   ]
  },
  {
   "cell_type": "code",
   "execution_count": 1,
   "metadata": {
    "hide_input": false
   },
   "outputs": [
    {
     "data": {
      "text/html": [
       "\n",
       "        <iframe\n",
       "            width=\"720\"\n",
       "            height=\"405\"\n",
       "            src=\"https://ntnu.cloud.panopto.eu/Panopto/Pages/Embed.aspx?id=69349327-ca79-4755-8652-ae3c010f5418&autoplay=false&offerviewer=true&showtitle=true&showbrand=true&captions=false&interactivity=all?style=border%3A+1px+solid+%23464646%3B\"\n",
       "            frameborder=\"0\"\n",
       "            allowfullscreen\n",
       "            \n",
       "        ></iframe>\n",
       "        "
      ],
      "text/plain": [
       "<IPython.lib.display.IFrame at 0x1a77946b860>"
      ]
     },
     "execution_count": 1,
     "metadata": {},
     "output_type": "execute_result"
    }
   ],
   "source": [
    "# Video\n",
    "from IPython.display import IFrame\n",
    "IFrame(src=\"https://ntnu.cloud.panopto.eu/Panopto/Pages/Embed.aspx?id=69349327-ca79-4755-8652-ae3c010f5418&autoplay=false&offerviewer=true&showtitle=true&showbrand=true&captions=false&interactivity=all\", height=\"405\", width=\"720\", style=\"border: 1px solid #464646;\")"
   ]
  },
  {
   "cell_type": "markdown",
   "metadata": {
    "editable": true,
    "slideshow": {
     "slide_type": "slide"
    },
    "tags": []
   },
   "source": [
    "# Nøkkelpunkt fra video"
   ]
  },
  {
   "cell_type": "markdown",
   "metadata": {
    "slideshow": {
     "slide_type": "slide"
    }
   },
   "source": [
    "## Signal og System\n",
    "\n",
    "* Signal og system er begrep som går igjenn gjennom hele faget, og det er lurt å etablere en konkret definisjon for begge disse begrepene.\n",
    "\n",
    "### Generell terminologi\n",
    "\n",
    "* **Signal:**\n",
    "    * En funksjon som formidler informasjon om et målbart fenomen.\n",
    "* **System:**\n",
    "    * Tar imot inngangssignal og produserer et nytt utgangssignal. \n",
    "        * Alle digitale filtre passer inn under kategorien \"system\".\n",
    "    \n",
    "    \n",
    "* Eksempel på modell av system:\n",
    "<img src=\"Figurer/10_Digitale Filtre Intro/Fig0_DSPSystem.png\" width=\"50%\" margin-left=\"100px\" />"
   ]
  },
  {
   "cell_type": "markdown",
   "metadata": {
    "editable": true,
    "slideshow": {
     "slide_type": "slide"
    },
    "tags": []
   },
   "source": [
    "## Digitale Filtre\n",
    "\n",
    "* Et digital filter er et *system* som demper enkelte aspekter ved et inngangssignal, samtidig som det bevarer andre aspekter ved signalet.\n",
    "* Digitale filtre er i bunn og grunn en software-rutine som prosesserer én og én sample etter hvert som nye sampleverdier blir gjort tilgjengelig for filteret. Dette lar oss ta i bruk det digitale filteret på et system som skal operere i *sanntid*, slik som illustrert i animasjonen nedenfor:\n",
    "\n",
    "<img src=\"Figurer/10_Digitale Filtre Intro/Fig5_FilterAnimation.gif\" width=\"50%\"/>\n",
    "\n",
    "* **Design** og **analyse** av digitale filtre utføres kan gjøres med bruk av f.eks. python og alle ressursene som er tilgjengelig via `scipy`, `matplotlib` osv...\n",
    "* **Implementasjon** av digitale filtre kan også gjøres med python, men ofte skal filtre kjøre på dedikerte mikrokontrollere som må programmeres med et noe mer lavnivå programmeringsspråk. For implementasjons-eksempler vil vi ofte bruke `Arduino C` som en mulig implementasjons-metode."
   ]
  },
  {
   "cell_type": "markdown",
   "metadata": {},
   "source": [
    "### Forenklet eksempel på implementasjon på MCU med `Arduino C`:\n",
    "\n",
    "<pre>\n",
    "<font color=\"#00979c\">void</font> <font color=\"#5e6d03\">loop</font><font color=\"#000000\">(</font><font color=\"#000000\">)</font> <font color=\"#000000\">\n",
    "{</font>\n",
    " &nbsp;<font color=\"#5e6d03\">if</font> <font color=\"#000000\">(</font><font color=\"#000000\">sampleTimer</font><font color=\"#434f54\">.</font><font color=\"#000000\">hasExpired</font><font color=\"#000000\">(</font><font color=\"#000000\">)</font><font color=\"#000000\">)</font>\n",
    " &nbsp;<font color=\"#000000\">{</font>\n",
    " &nbsp;&nbsp;&nbsp;<font color=\"#000000\">sampleTimer</font><font color=\"#434f54\">.</font><font color=\"#000000\">start</font><font color=\"#000000\">(</font><font color=\"#000000\">T_S</font><font color=\"#000000\">)</font><font color=\"#000000\">;</font> &nbsp;&nbsp;&nbsp;&nbsp;&nbsp;&nbsp;&nbsp;&nbsp;&nbsp;&nbsp;&nbsp;&nbsp;&nbsp;&nbsp;&nbsp;&nbsp;&nbsp;&nbsp;&nbsp;&nbsp;&nbsp;&nbsp;&nbsp;&nbsp;&nbsp;&nbsp;&nbsp;&nbsp;\n",
    " &nbsp;&nbsp;&nbsp;<font color=\"#00979c\">float</font> <font color=\"#000000\">input_sample</font> <font color=\"#434f54\">=</font> <font color=\"#000000\">(</font><font color=\"#00979c\">float</font><font color=\"#000000\">)</font><font color=\"#d35400\">analogRead</font><font color=\"#000000\">(</font><font color=\"#000000\">SIG_INPUT</font><font color=\"#000000\">)</font><font color=\"#000000\">;</font> &nbsp;&nbsp;&nbsp;&nbsp;&nbsp;&nbsp;<font color=\"#434f54\">&#47;&#47; Get Input Sample</font>\n",
    " &nbsp;&nbsp;&nbsp;<font color=\"#00979c\">float</font> <font color=\"#000000\">output_sample</font> <font color=\"#434f54\">=</font> <font color=\"#000000\">filter_sample</font><font color=\"#000000\">(</font><font color=\"#000000\">input_sample</font><font color=\"#000000\">)</font><font color=\"#000000\">;</font> &nbsp;&nbsp;&nbsp;&nbsp;&nbsp;&nbsp;<font color=\"#434f54\">&#47;&#47; Filter latest input sample</font>\n",
    " &nbsp;&nbsp;&nbsp;<font color=\"#d35400\">analogWrite</font><font color=\"#000000\">(</font><font color=\"#000000\">SIG_OUTPUT</font><font color=\"#434f54\">,</font> <font color=\"#d35400\">round</font><font color=\"#000000\">(</font><font color=\"#000000\">output_sample</font><font color=\"#000000\">)</font><font color=\"#000000\">)</font><font color=\"#000000\">;</font> &nbsp;&nbsp;&nbsp;&nbsp;&nbsp;&nbsp;&nbsp;&nbsp;&nbsp;&nbsp;<font color=\"#434f54\">&#47;&#47; Set output level</font>\n",
    " &nbsp;<font color=\"#000000\">}</font>\n",
    "<font color=\"#000000\">}</font>\n",
    "</pre>\n",
    "\n",
    "* Funksjonen `filter_sample()` er en funksjon som utfører selve filtreringen av én signal-sample. Nøyaktig hvordan denne funksjonen kan lages ser du et eksempel på lengre nede i dette dokumentet."
   ]
  },
  {
   "cell_type": "markdown",
   "metadata": {
    "slideshow": {
     "slide_type": "slide"
    }
   },
   "source": [
    "## Blokkskjema\n",
    "\n",
    "\n",
    "* Et blokkskjema er en *visuell framstilling* av filterets *algoritme*, og illustrerer hvordan programvaren som utfører filtreringen er strukturert.\n",
    " \n",
    "<img src=\"Figurer/10_Digitale Filtre Intro/Fig9_Blocks_v2.png\" style=\"width: 70%; margin-right: 30%\"/>\n",
    "\n",
    "\n",
    "\n"
   ]
  },
  {
   "cell_type": "markdown",
   "metadata": {},
   "source": [
    "# Video 2: LTI-system"
   ]
  },
  {
   "cell_type": "code",
   "execution_count": 5,
   "metadata": {
    "hide_input": false
   },
   "outputs": [
    {
     "data": {
      "text/html": [
       "<iframe src=\"https://ntnu.cloud.panopto.eu/Panopto/Pages/Embed.aspx?id=251ffbb2-83e2-40ef-970b-ae4a00cccd6d&autoplay=false&offerviewer=true&showtitle=true&showbrand=true&captions=false&interactivity=all\" height=\"405\" width=\"720\" style=\"border: 1px solid #464646;\" allowfullscreen allow=\"autoplay\"></iframe>\n"
      ],
      "text/plain": [
       "<IPython.core.display.HTML object>"
      ]
     },
     "metadata": {},
     "output_type": "display_data"
    }
   ],
   "source": [
    "%%html\n",
    "<iframe src=\"https://ntnu.cloud.panopto.eu/Panopto/Pages/Embed.aspx?id=251ffbb2-83e2-40ef-970b-ae4a00cccd6d&autoplay=false&offerviewer=true&showtitle=true&showbrand=true&captions=false&interactivity=all\" height=\"405\" width=\"720\" style=\"border: 1px solid #464646;\" allowfullscreen allow=\"autoplay\"></iframe>"
   ]
  },
  {
   "cell_type": "markdown",
   "metadata": {
    "slideshow": {
     "slide_type": "skip"
    }
   },
   "source": [
    "# Nøkkelpunkt fra video\n",
    "## LTI-system\n",
    "\n",
    "* LTI-system er en benevning for signalbehanlingsstemer som er både ***Lineære*** og ***Tids-Invariante***.\n",
    "    * Det mest sentrale kjennetegnet på LTI-system er at sinusformede inngangssignal ***alltid*** vil gi sinusformede utgangssignal.\n",
    "        * Utgangssignalet kan dog ha en annen *Amplitude* og *Fase*"
   ]
  },
  {
   "cell_type": "markdown",
   "metadata": {
    "slideshow": {
     "slide_type": "slide"
    }
   },
   "source": [
    "## Nøkkelegenskap: Linearitet\n",
    "\n",
    "* Et system kan regnes som lineært dersom det oppfyller to enkle krav:\n",
    "* Gitt $y[n] = F(x[n])$, der $F$ er funksjonen til systemet:\n",
    "\n",
    "    * **Additivitet:**\n",
    "    $$F(x_1[n] + x_2[n]) = F(x_1[n])+F(x_2[n])$$\n",
    "    \n",
    "    * **Homogenitet:**\n",
    "    $$F(\\alpha \\cdot x[n]) = \\alpha \\cdot F(x[n])$$"
   ]
  },
  {
   "cell_type": "markdown",
   "metadata": {},
   "source": [
    "### Illustrasjon av kriterier for linearitet:\n",
    "\n",
    "\n",
    "<img src=\"Figurer/10_Digitale Filtre Intro/Fig7_Additivity_v2.png\" style=\"width: 60%\" />"
   ]
  },
  {
   "cell_type": "markdown",
   "metadata": {},
   "source": [
    "## Nøkkelegenskap: Tidsinvarians\n",
    "\n",
    "\n",
    "* Gitt $y[n] = F(x[n])$, der $F$ er funksjonen til systemet:\n",
    "$$F(x[n-N]) = y[n-N]$$\n",
    "\n",
    "* Illustrasjon:\n",
    "<img src=\"Figurer/10_Digitale Filtre Intro/Fig8_TimeInv.png\" style=\"width: 60%\" />"
   ]
  },
  {
   "cell_type": "markdown",
   "metadata": {
    "slideshow": {
     "slide_type": "skip"
    }
   },
   "source": [
    "## FIR-type LTI-filter - generell form:\n",
    "\n",
    "* **FIR** - **F**inite **I**mpulse **R**esponse\n",
    "    * Fellesbetegnelse for filter som regner ut utgangsveriden $y[n]$ *kun* basert på en lineær kombinasjon av verdiene til inngangssignalet $x[n]$ ved forskjellige sampletidspunkt.\n",
    "* Kan beskrives matematisk med bruk av ***filterkoeffisienter*** $b_k$.\n",
    "    * Uttrykket nedenfor er kjent som en ***differanseligning***\n",
    "\n",
    "### $$y[n] = \\sum_{k=0}^{M} b_k \\cdot x[n-k]$$\n",
    "\n",
    "* Filterordenen til et FIR filter er gitt ved konstanten $M$\n",
    "    * Avgjør hvor langt tilbake i tid et filter må \"huske\" når det regner ut den filtrerte utgangsveriden $y[n]$.\n",
    "* Digital filterdesign sentrerer seg rundt å finne passende verdier for filterkoeffisientene. \n",
    "    * Disse verdiene anvendes så *direkte* i filteralgoritmen uten behov for å tenke på kretskomponenter som kondensatorer etc..."
   ]
  },
  {
   "cell_type": "markdown",
   "metadata": {},
   "source": [
    "## Blokkskjemarepresentasjon for FIR-filtre\n",
    "\n",
    "* Visuell fremstilling av en filteralgoritme\n",
    "* Følgende generelle form for FIR filter\n",
    "\n",
    "<img src=\"Figurer/10_Digitale Filtre Intro/Fig13_FIR_struct.png\" style=\"width: 80%\" />\n"
   ]
  },
  {
   "cell_type": "markdown",
   "metadata": {},
   "source": [
    "## Regneeksempel\n",
    "* Utled hvorvidt systemet $y[n] = 2 + x[n] + \\frac{1}{2}x[n-5]$ tilfredsstiller kravet for linearitet og tidsinvarians."
   ]
  },
  {
   "cell_type": "code",
   "execution_count": 3,
   "metadata": {},
   "outputs": [
    {
     "data": {
      "text/html": [
       "<iframe src=\"https://ntnu.cloud.panopto.eu/Panopto/Pages/Embed.aspx?id=2b96ada4-30c2-4c14-b30f-ae4e00becdac&autoplay=false&offerviewer=true&showtitle=true&showbrand=true&captions=false&interactivity=all\" height=\"405\" width=\"720\" style=\"border: 1px solid #464646;\" allowfullscreen allow=\"autoplay\"></iframe>"
      ],
      "text/plain": [
       "<IPython.core.display.HTML object>"
      ]
     },
     "execution_count": 3,
     "metadata": {},
     "output_type": "execute_result"
    }
   ],
   "source": [
    "# Video\n",
    "from IPython.display import HTML\n",
    "HTML('<iframe src=\"https://ntnu.cloud.panopto.eu/Panopto/Pages/Embed.aspx?id=2b96ada4-30c2-4c14-b30f-ae4e00becdac&autoplay=false&offerviewer=true&showtitle=true&showbrand=true&captions=false&interactivity=all\" height=\"405\" width=\"720\" style=\"border: 1px solid #464646;\" allowfullscreen allow=\"autoplay\"></iframe>')\n"
   ]
  },
  {
   "cell_type": "markdown",
   "metadata": {},
   "source": [
    "## Kontrollspørsmål"
   ]
  },
  {
   "cell_type": "markdown",
   "metadata": {
    "slideshow": {
     "slide_type": "slide"
    },
    "solution2": "hidden",
    "solution2_first": true
   },
   "source": [
    "**1.** Hva er filterorden og filterkoeffisenter $b_k$ til systemet nedenfor?\n",
    "$$ y[n] = 1 \\cdot x[n] + 2 \\cdot x[n-2] + 1 \\cdot x[n-4]$$"
   ]
  },
  {
   "cell_type": "markdown",
   "metadata": {
    "solution2": "hidden"
   },
   "source": [
    "---\n",
    "**Svar:**  \n",
    "Ettersom signalverdiene $x[n-1]$ og $x[n-3]$ ikke tar del i differanselikningen, tilsvarer dette at filterkoeffisientene $b_1$ og $b_3$ er lik $0$. Rekken med filterkoeffisienter er derfor:\n",
    "$$b_k \\in \\{1, 0, 2, 0, 1\\}$$\n",
    "\n",
    "Den \"bakerste\" filter-koeffisienten vil ved utregning av filtrert sampleverdi $y[n]$ multipliseres med $x[n-4]$, altså må programmet \"huske\" sampleverdier for $x[n]$ fire sampler tilbake i tid. Derfor er filterorden lik 4.\n",
    "\n",
    "---"
   ]
  },
  {
   "cell_type": "markdown",
   "metadata": {
    "solution2": "hidden",
    "solution2_first": true
   },
   "source": [
    "**2.** Avgjør hvorvidt systemene nedenfor er Lineære:\n",
    "\n",
    "1. $y[n] = \\cos(x[n])$\n",
    "2. $y[n] = x[n+10] + x[n-10]$"
   ]
  },
  {
   "cell_type": "markdown",
   "metadata": {
    "solution2": "hidden"
   },
   "source": [
    "---\n",
    "\n",
    "**Svar:**\n",
    "1. Tester for homogenitet ved substituere $F()$ med uttrykket for $y[n]$.\n",
    "\\begin{align}\n",
    "    F(\\alpha \\cdot x[n]) & \\stackrel{?}{=} \\alpha \\cdot F(x[n])\\\\\n",
    "    \\cos(\\alpha \\cdot x[n]) & \\neq \\alpha \\cdot \\cos(x[n])\n",
    "\\end{align}\n",
    "Systemet er altså *ikke* lineært\n",
    "\n",
    "\n",
    "2. Tester for homogenitet ved substituere $F()$ med uttrykket for $y[n]$.\n",
    "\\begin{align}\n",
    "    F(\\alpha \\cdot x[n]) & \\stackrel{?}{=} \\alpha \\cdot F(x[n])\\\\\n",
    "    (\\alpha \\cdot x[n+10]) + (\\alpha \\cdot x[n+10]) & \\stackrel{?}{=} \\alpha \\cdot (x[n+10] + x[n-10])\\\\\n",
    "    \\alpha \\cdot x[n+10] + \\alpha \\cdot x[n+10] &= \\alpha \\cdot x[n+10] + \\alpha \\cdot x[n+10]\n",
    "\\end{align}\n",
    "Systemet er altså lineært\n",
    "\n",
    "---"
   ]
  },
  {
   "cell_type": "markdown",
   "metadata": {
    "solution2": "hidden",
    "solution2_first": true
   },
   "source": [
    "**3.** Avgjør hvorvidt systemene nedenfor er Tidsinvariante:\n",
    "\n",
    "1. $y[n] = \\frac{1}{2}\\cdot x[2\\cdot n]$\n",
    "2. $y[n] = \\log_{10}(x[n])$"
   ]
  },
  {
   "cell_type": "markdown",
   "metadata": {
    "solution2": "hidden"
   },
   "source": [
    "**Svar:**\n",
    "\n",
    "\n",
    "1. Tester for tidsinvarians ved substituere $F()$ med uttrykket for $y[n]$.\n",
    "\\begin{align}\n",
    "    F( x[n-N]) & \\stackrel{?}{=} y[n-N]\\\\\n",
    "    \\frac{1}{2}\\cdot x[(2\\cdot n) - N] & \\stackrel{?}{=} \\frac{1}{2}\\cdot x[2\\cdot (n-N)]\\\\\n",
    "    \\frac{1}{2}\\cdot x[2\\cdot n - N] & \\neq \\frac{1}{2}\\cdot x[2\\cdot n-2N]\n",
    "\\end{align}\n",
    "Systemet er altså *ikke* tidsinvariant\n",
    "\n",
    "\n",
    "2. Tester for tidsinvarians ved substituere $F()$ med uttrykket for $y[n]$.\n",
    "\\begin{align}\n",
    "    F( x[n-N]) & \\stackrel{?}{=} y[n-N]\\\\\n",
    "    \\log_{10}(x[(n)-N]) & \\stackrel{?}{=}  \\log_{10}(x[(n-N)]) \\\\\n",
    "    \\log_{10}(x[n-N]) & = \\log_{10}(x[n-N]) \\\\\n",
    "\\end{align}\n",
    "Systemet er altså tidsinvariant (*men ikke lineært*)\n"
   ]
  },
  {
   "cell_type": "markdown",
   "metadata": {},
   "source": [
    "# Video 3 - Kausalitet"
   ]
  },
  {
   "cell_type": "code",
   "execution_count": 6,
   "metadata": {
    "hide_input": false
   },
   "outputs": [
    {
     "data": {
      "text/html": [
       "<iframe src=\"https://ntnu.cloud.panopto.eu/Panopto/Pages/Embed.aspx?id=69b2f602-8393-4e79-9eb6-ae4a017d4c3a&autoplay=false&offerviewer=true&showtitle=true&showbrand=true&captions=false&interactivity=all\" height=\"405\" width=\"720\" style=\"border: 1px solid #464646;\" allowfullscreen allow=\"autoplay\"></iframe>\n"
      ],
      "text/plain": [
       "<IPython.core.display.HTML object>"
      ]
     },
     "metadata": {},
     "output_type": "display_data"
    }
   ],
   "source": [
    "%%html\n",
    "<iframe src=\"https://ntnu.cloud.panopto.eu/Panopto/Pages/Embed.aspx?id=69b2f602-8393-4e79-9eb6-ae4a017d4c3a&autoplay=false&offerviewer=true&showtitle=true&showbrand=true&captions=false&interactivity=all\" height=\"405\" width=\"720\" style=\"border: 1px solid #464646;\" allowfullscreen allow=\"autoplay\"></iframe>"
   ]
  },
  {
   "cell_type": "markdown",
   "metadata": {
    "slideshow": {
     "slide_type": "slide"
    }
   },
   "source": [
    "# Nøkkelpunkt fra video\n",
    "\n",
    "## Forklaring av kausalitet\n",
    "* Aksjon $\\rightarrow$ Reaksjon\n",
    "    * Filteret må altså ta imot en sampleverdi før det kan reagere på den.\n",
    "* Kausale systemer avhenger kun av nåværende signalverdi og input til systemet som allerede har skjedd.\n",
    "    * dvs. $x[n]$, $x[n-1]$, $x[n-2]$ osv...\n",
    "* Absolutt nødvendig for systemer som skal operere i sanntid (f.eks. digitale kontrollere).\n",
    "    * Alle fysiske system er kausale.\n",
    "    \n",
    "* Systemer som prosesserer f.eks. komplette mediefiler/datafiler kan være  ikke-kausale.\n",
    "\n",
    "* Når vi arbeider med hele datafiler i øvingene mister kausalitet som begrep noe av betydningen, men dersom man skal implementere et digitalt filter på f.eks. en arduino er det helt sentralt."
   ]
  },
  {
   "cell_type": "markdown",
   "metadata": {
    "slideshow": {
     "slide_type": "slide"
    }
   },
   "source": [
    "## Kausalitet illustrert\n",
    "\n",
    "* \"Fortids-vinduet\" vokser med 1 sample for hver nye sample vi tar.\n",
    "<img src=\"Figurer/10_Digitale Filtre Intro/Fig3_Kausalitet.png\" style=\"width: 80%\" />"
   ]
  },
  {
   "cell_type": "markdown",
   "metadata": {},
   "source": [
    "## Eksempel på enkelt kausalt filter:\n",
    "\n",
    "* Førsteordens differansefilter\n",
    "    * Målet er å finne en numerisk tilnærming til den deriverte av et analogt signal $x(t)$ basert på samplene i $x[n]$<br><br>\n",
    "    $$y[n]  \\approx \\frac{d x(t)}{dt} \\bigg|_{t=n\\cdot T_s}$$<br>\n",
    "    * En enkel metode er å finne differansen mellom $x[n]$ og $x[n-1]$<br>    \n",
    "$$y[n] = x[n]-x[n-1]$$<br>\n",
    "    * For å omregne til *endringsrate per sekund* istedenfor *endringsrate per sample*, må vi skalere hele utgangsverdien med $\\frac{1}{T_s}$.<br>\n",
    "$$y[n] = \\left( x[n] - x[n-1] \\right) \\cdot \\frac{1}{T_s}$$\n",
    "\n",
    "* Ettersom filtreringen kun er avhengig av samplene $x[n]$ og $x[n-1]$ (og ikke f.eks. $x[n+1]$), regnes filteret som kausalt. En foreslått implementasjon med arduino er vist nedenfor:\n",
    "\n",
    "<pre>\n",
    "<font color=\"#00979c\">float</font> <font color=\"#000000\">previous_sample</font> <font color=\"#434f54\">=</font> <font color=\"#000000\">0.0</font><font color=\"#000000\">;</font>\n",
    "\n",
    "<font color=\"#00979c\">float</font> <font color=\"#000000\">differentiate</font><font color=\"#000000\">(</font><font color=\"#00979c\">float</font> <font color=\"#000000\">current_sample</font><font color=\"#000000\">)</font>\n",
    "<font color=\"#000000\">{</font>\n",
    " &nbsp;<font color=\"#00979c\">float</font> <font color=\"#000000\">output_sample</font> <font color=\"#434f54\">=</font> <font color=\"#000000\">current_sample</font> <font color=\"#434f54\">-</font> <font color=\"#000000\">previous_sample</font><font color=\"#000000\">;</font>\n",
    " &nbsp;<font color=\"#000000\">previous_sample</font> <font color=\"#434f54\">=</font> <font color=\"#000000\">current_sample</font><font color=\"#000000\">;</font>\n",
    " &nbsp;<font color=\"#5e6d03\">return</font> <font color=\"#000000\">output_sample</font><font color=\"#000000\">;</font>\n",
    "<font color=\"#000000\">}</font>\n",
    "</pre>"
   ]
  },
  {
   "cell_type": "markdown",
   "metadata": {},
   "source": [
    "## Kontrollspørsmål"
   ]
  },
  {
   "cell_type": "markdown",
   "metadata": {
    "solution2": "hidden",
    "solution2_first": true
   },
   "source": [
    "1. Figuren nedenfor viser et inngangssignal $x[n]$ som er en forsinket stegfunksjon, samt utgangssignalet $y[n]$ et ukjent system produserer når det prosesserer signalet $x[n]$. Basert på det du ser i figuren, vil du si at systemet er kausalt?\n",
    "<img src=\"Figurer/10_Digitale Filtre Intro/Fig15_CausalityQ.png\" width=\" 50%\" />"
   ]
  },
  {
   "cell_type": "markdown",
   "metadata": {
    "editable": true,
    "slideshow": {
     "slide_type": "slide"
    },
    "solution2": "hidden",
    "tags": []
   },
   "source": [
    "---\n",
    "\n",
    "**Svar:**<br>\n",
    "Inngangssignalet holder en konstant verdi lik 0 helt til sample $n=10$, da endrer signalverdien seg til å være lik 1. I utgangssignalet ser vi tydelig at ingen endringer forekomm er før sample $n=10$. Dette tyder på at systemet er kausalt."
   ]
  }
 ],
 "metadata": {
  "celltoolbar": "Edit Metadata",
  "hide_input": true,
  "kernelspec": {
   "display_name": "Python 3 (ipykernel)",
   "language": "python",
   "name": "python3"
  },
  "language_info": {
   "codemirror_mode": {
    "name": "ipython",
    "version": 3
   },
   "file_extension": ".py",
   "mimetype": "text/x-python",
   "name": "python",
   "nbconvert_exporter": "python",
   "pygments_lexer": "ipython3",
   "version": "3.12.2"
  },
  "toc": {
   "base_numbering": 1,
   "nav_menu": {},
   "number_sections": false,
   "sideBar": true,
   "skip_h1_title": false,
   "title_cell": "Table of Contents",
   "title_sidebar": "Contents",
   "toc_cell": false,
   "toc_position": {},
   "toc_section_display": true,
   "toc_window_display": false
  },
  "varInspector": {
   "cols": {
    "lenName": 16,
    "lenType": 16,
    "lenVar": 40
   },
   "kernels_config": {
    "python": {
     "delete_cmd_postfix": "",
     "delete_cmd_prefix": "del ",
     "library": "var_list.py",
     "varRefreshCmd": "print(var_dic_list())"
    },
    "r": {
     "delete_cmd_postfix": ") ",
     "delete_cmd_prefix": "rm(",
     "library": "var_list.r",
     "varRefreshCmd": "cat(var_dic_list()) "
    }
   },
   "types_to_exclude": [
    "module",
    "function",
    "builtin_function_or_method",
    "instance",
    "_Feature"
   ],
   "window_display": false
  }
 },
 "nbformat": 4,
 "nbformat_minor": 4
}
