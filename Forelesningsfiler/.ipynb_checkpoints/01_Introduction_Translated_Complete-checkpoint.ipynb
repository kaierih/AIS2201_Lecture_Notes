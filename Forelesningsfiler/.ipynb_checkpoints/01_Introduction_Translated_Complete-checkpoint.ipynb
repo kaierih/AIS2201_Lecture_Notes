{
 "cells": [
  {
   "cell_type": "markdown",
   "metadata": {
    "slideshow": {
     "slide_type": "slide"
    }
   },
   "source": [
    "<img src=\"Figurer/NTNU_Logo.png\" align=\"left\" width=\"30%\">\n",
    "<br clear=\"all\" />\n",
    "<br></br>\n",
    "\n",
    "# Introduction\n",
    "\n",
    "* **Course AIS2201 - Signal Processing**\n",
    "* **Week 34, 2024**\n",
    "* **Instructor: Kai Erik Hoff**\n",
    "\n"
   ]
  },
  {
   "cell_type": "markdown",
   "metadata": {
    "slideshow": {
     "slide_type": "slide"
    }
   },
   "source": [
    "# Topics for the lecture\n",
    "\n",
    "* Introduction to Signal Processing\n",
    "* Practical Information\n",
    "* Digital Signal Processing with Python"
   ]
  },
  {
   "cell_type": "markdown",
   "metadata": {
    "slideshow": {
     "slide_type": "slide"
    }
   },
   "source": [
    "# Hva er Signalbehandling?"
   ]
  },
  {
   "cell_type": "markdown",
   "metadata": {
    "slideshow": {
     "slide_type": "fragment"
    }
   },
   "source": [
    "* La oss komme tilbake til det litt senere."
   ]
  },
  {
   "cell_type": "markdown",
   "metadata": {
    "slideshow": {
     "slide_type": "slide"
    }
   },
   "source": [
    "# Hvor brukes signalbehandling?"
   ]
  },
  {
   "cell_type": "markdown",
   "metadata": {
    "slideshow": {
     "slide_type": "fragment"
    }
   },
   "source": [
    "* Noen eksempel på situasjoner/teknologiløsninger der signalbehandling blir tatt i bruk?"
   ]
  },
  {
   "cell_type": "markdown",
   "metadata": {
    "slideshow": {
     "slide_type": "slide"
    }
   },
   "source": [
    "# Abstract definition:\n",
    "\n"
   ]
  },
  {
   "cell_type": "markdown",
   "metadata": {
    "slideshow": {
     "slide_type": "fragment"
    }
   },
   "source": [
    "1. ***Signalbehandling*** omfatter kunsten å uthente informasjon fra eller framheve ønskede egenskaper i et *signal*."
   ]
  },
  {
   "cell_type": "markdown",
   "metadata": {
    "slideshow": {
     "slide_type": "fragment"
    }
   },
   "source": [
    "2. Et ***Signal*** kan være hvilken som helst målbar informasjonsbærende størresle, som varierer med tid/avstand/etd.. "
   ]
  },
  {
   "cell_type": "markdown",
   "metadata": {
    "slideshow": {
     "slide_type": "fragment"
    }
   },
   "source": [
    "I dette emnet fokuserer vi primært på ***Digital Signalbehandling***, alstå signaler som blir prosessert i en datamaskin og ikke f.eks. en analog filterkrets."
   ]
  },
  {
   "cell_type": "markdown",
   "metadata": {
    "slideshow": {
     "slide_type": "slide"
    }
   },
   "source": [
    "# Hvorfor Digital Signalbehandling?\n",
    "    \n",
    "    \n",
    "<div style=\"width: 100%;\">\n",
    "    <img src=\"Figurer/01_Introduksjon/Fig1_sensorer.png\" width=\"30%\" align=\"right\" />\n",
    "    <div style=\"width: 60%\">\n",
    "    <br>\n",
    "    <ul>\n",
    "        <li>Datamaskiner i ulike former henter og <i>digitiserer</i> input fra den fysiske verden for å utføre et utall av oppgaver:</li>\n",
    "      <ul><li>Datasyn</li>\n",
    "        <li>Digitale kontrollsystem</li>\n",
    "        <li>Trådløs kommunikasjon</li>\n",
    "        <li>Sensorsystem som radar, lidar, MRI, ultralyd osv.</li>\n",
    "        <li>Og mye mer</li></ul>\n",
    "    </ul>  \n",
    "    </div>\n",
    "</div> "
   ]
  },
  {
   "cell_type": "markdown",
   "metadata": {
    "slideshow": {
     "slide_type": "slide"
    }
   },
   "source": [
    " # Hva skal vi gjennomgå i AIS2201 - Signalbehandling?\n",
    " \n",
    "* Introduksjon til et omfattende fagområde\n",
    "    * Vi skal gjennomgå grunnprinsippene i signalbehandling. \n",
    "    \n",
    "    * Gir et godt grunnlag til videre fordypning i f.eks. diskrét reguleringsteknikk, datasyn eller maskinlæring.\n",
    "<br>\n",
    "\n",
    "* Signalbehandlingsteori i sammenheng med praktisk anvendelse\n",
    "    * Teoretiske prinsipp vil utforskes med prosessering av *hele* signal i form av bildefiler, lydfiler m.m. \n",
    "    \n",
    "    * Praktisk bruk involverer ofte behandling av signaler i *sanntid* med hjelp av f.eks. en mikrokontroller. "
   ]
  },
  {
   "cell_type": "markdown",
   "metadata": {
    "slideshow": {
     "slide_type": "notes"
    }
   },
   "source": [
    "* Mange lignende fag (typisk kalt \"signals and systems\" internasjonalt) fungerer hovedsakelig som en introduksjon til fagfeltet, og forutsetter nesten at man tar flere fag før man begynner å ta teorien skikkelig i bruk.\n",
    "* Selv om jeg ønsker å gi dere forutsetningene for å spesialisere videre i området dersom dere tar mastergrad senere, ønsker jeg i hovedsak å utruste derre med kunnskap om å bruke noen grunnleggende verktøy som dukker opp i mange sammenhenger. Selv om man ikke nødvendigvis hanvner i et typisk \"signalbehandlings-yrke\"."
   ]
  },
  {
   "cell_type": "markdown",
   "metadata": {
    "slideshow": {
     "slide_type": "slide"
    }
   },
   "source": [
    "# Sammenheng mellom teori og anvendelse i Signalbehandling\n",
    "<img src=\"Figurer/01_Introduksjon/Fig1_1_Verktøy.png\" width=\"60%\" style=\"padding:100px\" />"
   ]
  },
  {
   "cell_type": "markdown",
   "metadata": {
    "slideshow": {
     "slide_type": "notes"
    }
   },
   "source": [
    "Diagrammet viser noen sentrale eksempler på verktøy og beslutningsprosesser (skrevet i kursiv). Det finnes naturligvis utallige flere eksempler som kunne vært inkludert også, men de som er inkludert her er sentrale for dette emnet."
   ]
  },
  {
   "cell_type": "markdown",
   "metadata": {
    "slideshow": {
     "slide_type": "slide"
    }
   },
   "source": [
    "# Hvordan arbeide med faget\n",
    "\n",
    "* Modningsfag - krever jevnt arbeid gjennom semesteret\n",
    "* Øvingene er en viktig del av faget.\n",
    "    * Dataøvingene er ikke \"bare\" programmering.\n",
    "* Fokuser på forståelse.\n",
    "    * Ikke anbefalt å støtte seg på å lære \"Kokebok-oppskrifter\". \n",
    "* Still spørsmål, og ta gjerne i bruk diskusjonstavlen på BlackBoard.\n",
    "\n",
    "\n",
    "*Faget er krevende, men utstyrer deg med verktøy som er nyttige i et bredt spekter av områder. Det er verdt en innsats!*"
   ]
  },
  {
   "cell_type": "markdown",
   "metadata": {
    "slideshow": {
     "slide_type": "slide"
    }
   },
   "source": [
    "# Signalbehandling og Matematikk\n",
    "\n",
    "* Emnet er i stor grad anvendt matematikk\n",
    "    * Matematiske utregninger for hånd med formeloppslag kan være god trening, men gjør det ikke lett å se sammenhenger.\n",
    "* Mange regneoperasjoner kan løses intuitivt med en grafisk tilnærming, og kan også gi en bedre forståelse av sammenhengene.\n",
    "<img src=\"Figurer/01_Introduksjon/Fig3_GraphicalMath.png\" width=\"60%\" align=\"right\"/>"
   ]
  },
  {
   "cell_type": "markdown",
   "metadata": {
    "slideshow": {
     "slide_type": "slide"
    }
   },
   "source": [
    "# Programmering\n",
    "\n",
    "* ***Veldig*** nyttig for å vise grafiske representasjoner av signal- og systemegenskaper.\n",
    "    * Grafisk representasjon sentralt for signal- og systemanalyse.\n",
    "    * I dette emnet vil Python være programmeringsverktøy.\n",
    "* I forelesningene vil det tas i bruk både *programmeringseksempel* og *demoer*\n",
    "    * *Programmeringseksempel* for å vise hvordan utføre signalbehandlingsoperasjoner i python.\n",
    "    * *Demoer* for å visualisere signalbehandlingsprinsipp.\n",
    "* Så godt som all praktisk anvendelse av digital signalbehandling vil involvere programmering."
   ]
  },
  {
   "cell_type": "markdown",
   "metadata": {
    "slideshow": {
     "slide_type": "slide"
    }
   },
   "source": [
    "## Programmeringseksempel: *Sinusbølge*"
   ]
  },
  {
   "cell_type": "code",
   "execution_count": 2,
   "metadata": {
    "slideshow": {
     "slide_type": "fragment"
    }
   },
   "outputs": [
    {
     "data": {
      "text/plain": [
       "[<matplotlib.lines.Line2D at 0x7fe1c94e6b00>]"
      ]
     },
     "execution_count": 2,
     "metadata": {},
     "output_type": "execute_result"
    },
    {
     "data": {
      "image/png": "[encoded data removed]",
      "text/plain": [
       "<Figure size 1200x500 with 1 Axes>"
      ]
     },
     "metadata": {},
     "output_type": "display_data"
    }
   ],
   "source": [
    "import numpy as np\n",
    "import matplotlib.pyplot as plt\n",
    "# %matplotilb notebook kan også brukes, men er ikke alltid like \"up to date\".\n",
    "%matplotlib inline\n",
    "\n",
    "t = np.linspace(0, 1, 501)\n",
    "x_t = np.cos(6*np.pi*t)\n",
    "\n",
    "plt.figure(1, figsize=(12, 5))\n",
    "plt.plot(t, x_t, color='tab:orange')"
   ]
  },
  {
   "cell_type": "markdown",
   "metadata": {
    "slideshow": {
     "slide_type": "slide"
    }
   },
   "source": [
    "# Anbefalte Forkunnskaper\n",
    "\n",
    "* Matematiske metoder 2\n",
    "    * Generell algebra\n",
    "    * Komplekse tall og regneoperasjoner\n",
    "    * Fourierrekker\n",
    "        * Fourier spiller en svært sentral rolle i Signalbehandling\n",
    "* Statistikk\n",
    "* Programmering i Python og C/C++\n",
    "<br>\n",
    "<br>\n",
    "\n",
    "* I tillegg blir det etter hvert en betydelig overlapp med Reguleringsteknikk. \n",
    "    * Hovedforskjellen er at vi nå skal arbeide med *digitale* signal og system.\n"
   ]
  },
  {
   "cell_type": "markdown",
   "metadata": {
    "slideshow": {
     "slide_type": "slide"
    }
   },
   "source": [
    "# [Praktisk informasjon](https://ntnu.blackboard.com/webapps/blackboard/content/listContentEditable.jsp?content_id=_2147668_1&course_id=_44682_1&mode=reset)"
   ]
  },
  {
   "cell_type": "markdown",
   "metadata": {
    "slideshow": {
     "slide_type": "slide"
    }
   },
   "source": [
    "# Referansegruppe\n",
    "\n",
    "* Faget skal evalueres gjennom semesteret\n",
    "* Egen referansegruppe blant studentene må etableres\n",
    "* Møter:\n",
    "    * Semesterstart\n",
    "    * Midtsemester\n",
    "    * Etter eksamen\n",
    "* Se innsida for detaljer [her](https://innsida.ntnu.no/wiki/-/wiki/Norsk/Referansegruppe+-+for+studenter).\n",
    "* Interesserte kan ta kontakt i øvingstimen."
   ]
  },
  {
   "cell_type": "markdown",
   "metadata": {
    "slideshow": {
     "slide_type": "slide"
    }
   },
   "source": [
    "# Introduksjon til Digitale Signal\n",
    "\n",
    "* Korresponderer med delkapittel 1.1 i boka."
   ]
  },
  {
   "cell_type": "markdown",
   "metadata": {
    "slideshow": {
     "slide_type": "slide"
    }
   },
   "source": [
    "# Hvorfor er digitale signal aktuelle?\n",
    "\n",
    "* Tillater lagring og/eller videre prosessering som kompresjon, kryptering, matematisk og statistisk analyse m.m.\n",
    "* Behandling av digitale signal skjer på programvarenivå\n",
    "    * Signalbehandlingssystem kan endres og oppdateres ved behov\n",
    "    * Tillater adaptive system\n",
    "* Kostnadseffektivt\n",
    "    * Et digitalt filter på en mikrokontroller er mye billigere enn et nøye kalibrert analogt filter."
   ]
  },
  {
   "cell_type": "markdown",
   "metadata": {
    "slideshow": {
     "slide_type": "fragment"
    }
   },
   "source": [
    "#### *Men:*\n",
    "* Et digitalt signal må lages ved å *digitalisere* et analogt signal."
   ]
  },
  {
   "cell_type": "markdown",
   "metadata": {
    "slideshow": {
     "slide_type": "slide"
    }
   },
   "source": [
    "# Kort om analoge signal\n",
    "* Genereres av f.eks. en temperatursensor.\n",
    "* Har en målbar verdi (f.eks. spenningsverdi).\n",
    "* Tidskontinuerlige\n",
    "    - Signalverdien eksisterer for alle mulige tidspunkt.\n",
    "    \n",
    "<div style=\"width: 80%;\">\n",
    "    <img src=\"Figurer/01_Introduksjon/Fig4_AnalogSig.png\" width=\"55%\" align=\"left\" />\n",
    "    <div style=\"float: right; width: 35%\">\n",
    "    <br>\n",
    "        <b>Notasjon</b>:\n",
    "        $$x(t)$$\n",
    "    <ul>\n",
    "        <li><i>Temperatursignalet i figuren er en kontinuerlig funksjon av tid</i></li>\n",
    "    </ul>  \n",
    "    </div>\n",
    "</div> "
   ]
  },
  {
   "cell_type": "markdown",
   "metadata": {
    "slideshow": {
     "slide_type": "slide"
    }
   },
   "source": [
    "# Signaleksempler - tale/lyd & bilde\n",
    "<br>\n",
    "<img src=\"Figurer/01_Introduksjon/Fig8_SigEx.png\" style=\"width: 80%; padding:10px\" />\n",
    "\n",
    "* Dette faget vil i hovedsak ta for seg 1-dimensjonale signal, typisk en fysisk verdi som varierer med tid."
   ]
  },
  {
   "cell_type": "markdown",
   "metadata": {
    "slideshow": {
     "slide_type": "slide"
    }
   },
   "source": [
    "# Digitalisering av signal\n",
    "* Signalet må representeres som en serie med måleverdier.\n",
    "* Oppnås ved å ta punktprøver ved **jevne intervall**.\n",
    "* Denne prosessen er kjent som sampling.\n",
    "\n",
    "<div style=\"width: 80%;\">\n",
    "    <img src=\"Figurer/01_Introduksjon/Fig5_DigitalSig.png\" style=\"float: left; width: 55%\" />\n",
    "    <div style=\"float: right; width: 35%\">\n",
    "    <br>\n",
    "        <b>Notasjon</b>:\n",
    "        $$x[n] \\text{ eller } x(n)$$\n",
    "    <ul>\n",
    "        <li><i>Temperatursignalet i figuren er en \"tidsdiskret\" funksjon av samplenummer \n",
    "            </i> $n \\in \\mathbb{Z}$.</li>\n",
    "    </ul>  \n",
    "    </div>\n",
    "</div> "
   ]
  },
  {
   "cell_type": "markdown",
   "metadata": {
    "slideshow": {
     "slide_type": "notes"
    }
   },
   "source": [
    "Det er viktig å merke seg at for digitale signal så eksisterer ikke signalverdiene utenom heltallsverdier av samplenummer $n$. Uten videre informasjon enn kun sampleverdiene er det i prinsippet mulig at verdier det analoge signalet $x(t)$ har mellom sampletidspunkt kan være hva som helst (mer om dette i kalenderuke 4)."
   ]
  },
  {
   "cell_type": "markdown",
   "metadata": {
    "slideshow": {
     "slide_type": "slide"
    }
   },
   "source": [
    "# Digitalisering av signal\n",
    "<br>\n",
    "<img src=\"Figurer/01_Introduksjon/Fig6_SamplingSys.png\" style=\"width: 50%; margin-left: 20%\" />\n",
    "<div style=\"width: 90%;\">\n",
    "    <img src=\"Figurer/01_Introduksjon/Fig7_SampleTable.png\" style=\"float: right; width: 50%; padding: 20px\" />\n",
    "    <div style=\"float: right; width: 40%\">\n",
    "    <br>\n",
    "    <ul>\n",
    "        <li>Digitalt signal en serie med måleverdier.</li>\n",
    "        <li>Signalverdi kun kjent akkurat i måletidspunktene.</li>\n",
    "        <li>Kan nå behandles av en datamaskin.</li>\n",
    "    </ul>  \n",
    "    </div>\n",
    "</div> "
   ]
  },
  {
   "cell_type": "markdown",
   "metadata": {
    "slideshow": {
     "slide_type": "slide"
    }
   },
   "source": [
    "# Sampleperiode $T_s$\n",
    "\n",
    "* Hovedforutsetningen for å kunne arbeide$^*$ med digitale signal er at punktprøvene/samplene er tatt med jevne tidsintervall.\n",
    "* Dette tidsintervallet fra ett sampletidspunkt til neste kalles en ***sampleperiode*** $T_s$.\n",
    "<br><br>\n",
    "<img src=\"Figurer/01_Introduksjon/Fig9_Ts.png\" style=\"width: 80%; margin-left: 100px\" />"
   ]
  },
  {
   "cell_type": "markdown",
   "metadata": {
    "slideshow": {
     "slide_type": "notes"
    }
   },
   "source": [
    "$^*$ Det er i prinsippet *mulig* å arbeide med og analysere signal som ikke er samplet med uniform sampletid, men matematikken blir raskt mye, mye mer komplisert."
   ]
  },
  {
   "cell_type": "markdown",
   "metadata": {
    "slideshow": {
     "slide_type": "slide"
    }
   },
   "source": [
    "# Samplingsfrekvens $f_s$\n",
    "\n",
    "* ***Samplingsfrekvens*** $f_s$ er et tall på hvor mange sampler som tas i løpet av ett sekund.\n",
    "* Relasjon til sampleperiode:\n",
    "$$f_s = \\frac{1}{T_s}$$\n",
    "* Sammenheng mellom måletidspunkt og samplenummer:\n",
    "$$t = n\\cdot T_s = \\frac{n}{f_s}$$\n",
    "$$n = \\frac{t}{T_s} = t\\cdot f_s$$\n",
    "* Sammenheng mellom analogt og digitalt signal:\n",
    "$$x[n] = x(t)|_{t = n\\cdot T_s}$$"
   ]
  },
  {
   "cell_type": "markdown",
   "metadata": {
    "slideshow": {
     "slide_type": "slide"
    }
   },
   "source": [
    "# Eksempel på systemmodell for samplingssystem\n",
    "<br><br>\n",
    "<img src=\"Figurer/01_Introduksjon/Fig10_SampleSys.png\" style=\"width: 80%; margin-left: 100px\" />"
   ]
  },
  {
   "cell_type": "markdown",
   "metadata": {
    "slideshow": {
     "slide_type": "slide"
    }
   },
   "source": [
    "# Forslag til realisering av modell med Arduino\n",
    "<br>\n",
    "<div>\n",
    "<pre>\n",
    "<font color=\"#5e6d03\">#include</font> <font color=\"#005c5f\">&#34;Timer.h&#34;</font>\n",
    "<br><font color=\"#00979c\">const</font> <font color=\"#00979c\">int</font> <font color=\"#000000\">INPUT_PIN</font> <font color=\"#434f54\">=</font> <font color=\"#000000\">A0</font><font color=\"#000000\">;</font> <font color=\"#434f54\">&#47;&#47; Analog inngang</font>\n",
    "<font color=\"#00979c\">const</font> <font color=\"#00979c\">int</font> <font color=\"#000000\">T_S</font> <font color=\"#434f54\">=</font> <font color=\"#000000\">50</font><font color=\"#000000\">;</font> &nbsp;&nbsp;&nbsp;&nbsp;&nbsp;&nbsp;<font color=\"#434f54\">&#47;&#47; Sampleperiode i millisekund</font>\n",
    "<font color=\"#000000\">Timer</font> <font color=\"#000000\">sampleTimer</font><font color=\"#000000\">;</font>\n",
    "<br><font color=\"#00979c\">void</font> <font color=\"#5e6d03\">setup</font><font color=\"#000000\">(</font><font color=\"#000000\">)</font> <font color=\"#000000\">{</font>\n",
    " &nbsp;<font color=\"#d35400\">pinMode</font><font color=\"#000000\">(</font><font color=\"#000000\">INPUT_PIN</font><font color=\"#434f54\">,</font> <font color=\"#00979c\">INPUT</font><font color=\"#000000\">)</font><font color=\"#000000\">;</font>\n",
    "<font color=\"#000000\">}</font>\n",
    "<br><font color=\"#00979c\">void</font> <font color=\"#5e6d03\">loop</font><font color=\"#000000\">(</font><font color=\"#000000\">)</font> <font color=\"#000000\">{</font>\n",
    " &nbsp;<font color=\"#5e6d03\">if</font><font color=\"#000000\">(</font><font color=\"#000000\">sampleTimer</font><font color=\"#434f54\">.</font><font color=\"#000000\">hasExpired</font><font color=\"#000000\">(</font><font color=\"#000000\">)</font><font color=\"#000000\">)</font><font color=\"#000000\">{</font>\n",
    " &nbsp;&nbsp;&nbsp;<font color=\"#000000\">sampleTimer</font><font color=\"#434f54\">.</font><font color=\"#000000\">start</font><font color=\"#000000\">(</font><font color=\"#000000\">T_S</font><font color=\"#000000\">)</font><font color=\"#000000\">;</font>\n",
    " &nbsp;&nbsp;&nbsp;<font color=\"#00979c\">int</font> <font color=\"#000000\">new_sample</font> <font color=\"#434f54\">=</font> <font color=\"#d35400\">analogRead</font><font color=\"#000000\">(</font><font color=\"#000000\">INPUT_PIN</font><font color=\"#000000\">)</font><font color=\"#000000\">;</font>\n",
    " &nbsp;&nbsp;&nbsp;<font color=\"#95a5a6\">&#47;* -----------------------------------</font>\n",
    "<font color=\"#95a5a6\"> &nbsp;&nbsp;&nbsp;&nbsp;* Digital signalbehandling skjer her!</font>\n",
    "<font color=\"#95a5a6\"> &nbsp;&nbsp;&nbsp;&nbsp;* -----------------------------------</font>\n",
    "<font color=\"#95a5a6\"> &nbsp;&nbsp;&nbsp;&nbsp;*&#47;</font>\n",
    " &nbsp;<font color=\"#000000\">}</font>\n",
    "<font color=\"#000000\">}</font>\n",
    "</pre>\n",
    "</div>"
   ]
  },
  {
   "cell_type": "markdown",
   "metadata": {
    "slideshow": {
     "slide_type": "notes"
    }
   },
   "source": [
    "* The library `\"Timer.h\"` is from the course IELEA1002 - Computer Technology and uses `millis()` to perform timed operations.\n",
    "* This example is primarily to illustrate the principle and has some weaknesses.\n",
    "    * If the processing in the if-statement at any point takes more than 50 milliseconds, the sampling period will no longer be uniform.\n",
    "* A more robust implementation would involve the use of interrupt handling (Interrupt Service Routine). However, this is quite a deep rabbit hole..."
   ]
  },
  {
   "cell_type": "markdown",
   "metadata": {
    "slideshow": {
     "slide_type": "slide"
    }
   },
   "source": [
    "# Calculation Example\n",
    "\n",
    "1. An analog voice recording is sampled with a sampling frequency $f_s = 8000Hz$, with the first sample taken at time $t=0$.\n",
    "    - Which samples represent the sound recording in the time interval $0.25s \\leq t < 0.625s$?\n",
    "    - Assume we use 16 bits to store each sample. How much storage space is needed to store one second of voice recording without compression?"
   ]
  },
  {
   "cell_type": "markdown",
   "metadata": {
    "slideshow": {
     "slide_type": "slide"
    }
   },
   "source": [
    "# Questions?"
   ]
  }
 ],
 "metadata": {
  "celltoolbar": "Slideshow",
  "hide_input": false,
  "kernelspec": {
   "display_name": "Python 3 (ipykernel)",
   "language": "python",
   "name": "python3"
  },
  "language_info": {
   "codemirror_mode": {
    "name": "ipython",
    "version": 3
   },
   "file_extension": ".py",
   "mimetype": "text/x-python",
   "name": "python",
   "nbconvert_exporter": "python",
   "pygments_lexer": "ipython3",
   "version": "3.12.2"
  },
  "toc": {
   "base_numbering": 1,
   "nav_menu": {},
   "number_sections": false,
   "sideBar": true,
   "skip_h1_title": false,
   "title_cell": "Innholdstabell",
   "title_sidebar": "Innhold",
   "toc_cell": false,
   "toc_position": {
    "height": "828.167px",
    "left": "24px",
    "top": "110.433px",
    "width": "392.533px"
   },
   "toc_section_display": true,
   "toc_window_display": false
  },
  "varInspector": {
   "cols": {
    "lenName": 16,
    "lenType": 16,
    "lenVar": 40
   },
   "kernels_config": {
    "python": {
     "delete_cmd_postfix": "",
     "delete_cmd_prefix": "del ",
     "library": "var_list.py",
     "varRefreshCmd": "print(var_dic_list())"
    },
    "r": {
     "delete_cmd_postfix": ") ",
     "delete_cmd_prefix": "rm(",
     "library": "var_list.r",
     "varRefreshCmd": "cat(var_dic_list()) "
    }
   },
   "position": {
    "height": "495.85px",
    "left": "1665.2px",
    "right": "20px",
    "top": "121px",
    "width": "277.467px"
   },
   "types_to_exclude": [
    "module",
    "function",
    "builtin_function_or_method",
    "instance",
    "_Feature"
   ],
   "window_display": false
  }
 },
 "nbformat": 4,
 "nbformat_minor": 4
}
