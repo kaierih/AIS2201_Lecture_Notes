{
 "cells": [
  {
   "cell_type": "code",
   "execution_count": null,
   "metadata": {
    "slideshow": {
     "slide_type": "skip"
    }
   },
   "outputs": [],
   "source": [
    "# Generelle moduler og funksjonsbeskrivelser brukt i forelesningen\n",
    "from numpy import sin, cos, pi, exp\n",
    "import numpy as np\n",
    "import scipy.signal as sig\n",
    "import matplotlib.pyplot as plt\n",
    "from Kildekode._12_IIRFilt import *\n",
    "from Kildekode._14_Z_transformasjon import *\n",
    "\n",
    "plt.rcParams[\"figure.figsize\"] = [8.00, 4.5]\n",
    "plt.rcParams[\"figure.autolayout\"] = True\n",
    "plt.rcParams[\"axes.grid\"] = True\n",
    "plt.rcParams[\"axes.xmargin\"] = 0.0\n",
    "\n",
    "%matplotlib ipympl"
   ]
  },
  {
   "cell_type": "markdown",
   "metadata": {
    "slideshow": {
     "slide_type": "slide"
    }
   },
   "source": [
    "<img src=\"Figurer/NTNU_Logo.png\" align=\"left\" style=\"width: 30%\">\n",
    "<br clear=\"all\" />\n",
    "<br></br>\n",
    "\n",
    "# Z-transformasjon del 1\n",
    "\n",
    "* **Emne AIS2201 - Signalbehandling**\n",
    "* **Uke 44, 2023**\n",
    "* **Underviser: Kai Erik Hoff**"
   ]
  },
  {
   "cell_type": "markdown",
   "metadata": {
    "slideshow": {
     "slide_type": "slide"
    }
   },
   "source": [
    "## Tema:\n",
    "* Repetisjon IIR-filtre\n",
    "* Kontinuerlige LTI-system, laplacetransformasjon og transferfunksjonen $H(s)$\n",
    "* Diskrete LTI-system, Z-transformasjon og transferfunksjonen $H(z)$\n",
    "* Analyse av Transferfunksjon $H(z)$ \n",
    "* Transferfunksjon og frekvensrespons"
   ]
  },
  {
   "cell_type": "markdown",
   "metadata": {
    "slideshow": {
     "slide_type": "slide"
    }
   },
   "source": [
    "## Repetisjon IIR filtre\n",
    "\n",
    "* **IIR** - **I**nfinite **I**mpulse **R**esponse\n",
    "* Fellesbetegnelse for filter som kalkulerer utgangsveriden $y[n]$ basert på en lineær kombinasjon av verdiene til inngangssignalet ved foregående sampletidspunkt $x[n-k], \\ \\ k\\in \\{0, 1, 2, \\ldots\\}$ ***og*** tidligere kalkulerte verdier til utgangssignalet $y[n-k], \\ \\ k \\in \\{1, 2, \\ldots\\}$.\n",
    "\n",
    "\n",
    "* **Differanseligning:**\n",
    "$$\\sum_{k=0}^{N} a_k \\cdot y[n-k] = \\sum_{k=0}^{M} b_k \\cdot x[n-k]$$\n",
    "* **Filteralgoritme:**\n",
    "$$y[n] = \\frac{1}{a_0}\\cdot \\left(\\sum_{k=0}^{M} b_k \\cdot x[n-k] - \\sum_{k=1}^{N}a_k\\cdot  y[n-k] \\right)$$"
   ]
  },
  {
   "cell_type": "markdown",
   "metadata": {
    "slideshow": {
     "slide_type": "slide"
    }
   },
   "source": [
    "# Nøkkelegenskaper IIR filtre\n",
    "\n",
    "* Impulsresponsen $h[n]$ vil som regel være eksponentielt avtagende i verdi, men aldri bli nøyaktig lik 0. \n",
    "    * $h[n]$ har altså uendelig varighet, derav navnet \"Infinite Impulse Response Filter\".\n",
    "* Det vil finnes et analogt filter der den kontinuerlige stegresponsen er en kontinuerlig utgave av IIR-filterets diskrete stegrespons $h[n]$.\n",
    "<img src=\"Figurer/14_Ztransform/Fig1_StepResponses.png\" style=\"width: 80%; margin-left: 10%\" />\n",
    "* Design av IIR filtre kan utføres ved å ***diskretisere*** et analogt filter.\n",
    "    * Design og analyse av analoge filtre gjøres ofte ved hjelp av ***laplacetransformasjon***."
   ]
  },
  {
   "cell_type": "markdown",
   "metadata": {
    "slideshow": {
     "slide_type": "slide"
    }
   },
   "source": [
    "# Hvordan designes IIR-filtre?\n",
    "\n",
    "<img src=\"Figurer/12_IIR%20Filtre/Fig4_IIRdesign.png\" style=\"width: 60%; margin-left: 200px\" />"
   ]
  },
  {
   "cell_type": "markdown",
   "metadata": {
    "slideshow": {
     "slide_type": "slide"
    }
   },
   "source": [
    "# *Laplacetransformasjon*"
   ]
  },
  {
   "cell_type": "markdown",
   "metadata": {
    "slideshow": {
     "slide_type": "fragment"
    }
   },
   "source": [
    "* Vi ser på sammenhengen mellom egenfunksjoner, konvolusjon og transferfunksjoner."
   ]
  },
  {
   "cell_type": "markdown",
   "metadata": {
    "slideshow": {
     "slide_type": "slide"
    }
   },
   "source": [
    "# Tidskontinuerlige LTI-system og konvolusjon\n",
    "\n",
    "* Beskrevet med en *differensialligning*\n",
    "    * Eksempel:\n",
    "\n",
    "$$\\frac{d^2y(t)}{d t^2} + 2\\frac{d y(t)}{d t} + 10\\cdot y(t) = \\frac{d x(t)}{d t} + x(t) $$\n",
    "\n",
    "\n",
    "\n",
    "* Utgangssignalet $y(t)$ til et tidskontinuerlig system vil være lik $h(t)*x(t)$\n",
    "* Konvolusjonsintegralet for kausale system:\n",
    "\n",
    "$$y(t) = \\int_{0}^{\\infty} x(t-\\tau) \\cdot h(\\tau) d\\tau$$\n",
    "\n",
    "* Forklaring:\n",
    "\n",
    "<img src=\"Figurer/14_Ztransform/ContConv.png\" style=\"width: 80%; margin-left: 100px\" />"
   ]
  },
  {
   "cell_type": "markdown",
   "metadata": {
    "slideshow": {
     "slide_type": "slide"
    }
   },
   "source": [
    "## Tidskontinuerlig konvolusjon animert"
   ]
  },
  {
   "cell_type": "code",
   "execution_count": null,
   "metadata": {},
   "outputs": [],
   "source": [
    "# Hentet fra kompendie signals_and_systems\n",
    "import sympy as sym\n",
    "import matplotlib.pyplot as plt\n",
    "import numpy as np\n",
    "from Kildekode.animation import animate_convolution\n",
    "class rect(sym.Function):\n",
    "\n",
    "    @classmethod\n",
    "    def eval(cls, arg):\n",
    "        return sym.Heaviside(arg + sym.S.Half) - sym.Heaviside(arg - sym.S.Half)\n",
    "\n",
    "plt.rcParams['animation.html'] = 'jshtml'\n",
    "\n",
    "t, tau = sym.symbols('t tau', real=True)\n",
    "h = sym.exp(-t) * sym.Heaviside(t)\n",
    "x = sym.Rational(3, 4) * rect(t - 1/2)\n",
    "y = sym.integrate(h.subs(t, t-tau) * x.subs(t, tau), (tau, 0, t))\n",
    "\n",
    "anim = animate_convolution(x, h, y, t, tau, np.arange(-2, 5, .1), np.arange(-5, 5, 0.02))\n",
    "anim"
   ]
  },
  {
   "cell_type": "markdown",
   "metadata": {
    "slideshow": {
     "slide_type": "slide"
    }
   },
   "source": [
    "# LTI-system og *Egenfunksjoner*"
   ]
  },
  {
   "cell_type": "markdown",
   "metadata": {
    "slideshow": {
     "slide_type": "fragment"
    }
   },
   "source": [
    "* **Egenfunksjon**:\n",
    "    * Inngangssignalet $x(t)$ som produserer et utgangssignal $y(t) = \\lambda \\cdot x(t), \\ \\ \\lambda \\in \\mathbb{C}$\n",
    "    * $\\lambda$ er systemets *egenverdi*\n",
    "    * $x(t) = e^{s\\cdot t}$ er *egenfunksjonen* til LTI-system\n",
    "        * **Sentral egenskap:** $\\frac{d e^{s \\cdot t}}{dt} = s \\cdot e^{s \\cdot t}$\n",
    "        * $s$ er et komplekst tall: $s = \\sigma + j \\omega$\n",
    "        * Egenverdien $\\lambda$ vil avhenge av $s$, dvs.: $\\lambda = \\lambda(s)$\n",
    "        * $\\lambda(s)$ er ekvivalent med LTI-systemets *transferfunksjon*: $H(s) = \\lambda(s)$"
   ]
  },
  {
   "cell_type": "code",
   "execution_count": null,
   "metadata": {
    "slideshow": {
     "slide_type": "fragment"
    }
   },
   "outputs": [],
   "source": [
    "# Angi punkt på s-planet,\n",
    "s = -0.2 + 4j\n",
    "# Regn ut e^(-st),\n",
    "showOscillation(s, T=10)"
   ]
  },
  {
   "cell_type": "markdown",
   "metadata": {
    "slideshow": {
     "slide_type": "slide"
    }
   },
   "source": [
    "# Konvolusjon og transferfunksjonen $H(s)$"
   ]
  },
  {
   "cell_type": "markdown",
   "metadata": {
    "slideshow": {
     "slide_type": "fragment"
    }
   },
   "source": [
    "* Konvolusjon gir utgangssignalet $y(t)$:\n",
    "\\begin{equation}\n",
    "y(t) = x(t) * h(t) = \\int_{0}^{\\infty} x(t-\\tau) \\cdot h(\\tau) \\; d\\tau\n",
    "\\end{equation}"
   ]
  },
  {
   "cell_type": "markdown",
   "metadata": {
    "slideshow": {
     "slide_type": "fragment"
    }
   },
   "source": [
    "* Når $x(t) = e^{s\\cdot t}$, blir $y(t) = \\lambda \\cdot e^{s\\cdot t} = H(s) \\cdot e^{s\\cdot t}$:\n",
    "$$\\begin{align}\n",
    "H(s) \\cdot e^{st} &= \\int_{0}^{\\infty} e^{s(t -\\tau)} \\cdot h(\\tau) \\; d\\tau \\\\\n",
    "H(s) \\cdot e^{st} &= \\int_{0}^{\\infty} e^{st} \\cdot e^{-s \\tau} \\cdot h(\\tau) \\; d\\tau \\\\\n",
    "H(s) \\cdot e^{st} &= e^{st}\\cdot \\int_{0}^{\\infty}  e^{-s \\tau} \\cdot h(\\tau) \\; d\\tau \\\\\n",
    "H(s)  &= \\int_{0}^{\\infty}  e^{-s \\tau} \\cdot h(\\tau) \\; d\\tau = \\int_{0}^{\\infty}  h(t)\\cdot e^{-s t}  \\; dt = \\mathcal{L}(h(t))\n",
    "\\end{align}$$"
   ]
  },
  {
   "cell_type": "markdown",
   "metadata": {
    "slideshow": {
     "slide_type": "fragment"
    }
   },
   "source": [
    "* **Konklusjon:** \n",
    "    * Transferfunksjonen $H(s)$ til et LTI-system forteller hvordan systemet responderer til et inngangssignal $x(t) = e^{s\\cdot t}$\n",
    "    * $H(s)$ er laplacetransformen av systemets impulsrespons $h(t)$"
   ]
  },
  {
   "cell_type": "markdown",
   "metadata": {
    "slideshow": {
     "slide_type": "slide"
    }
   },
   "source": [
    "# Utledning av transferfunksjon\n",
    "\n",
    "* Det tilhører sjeldenhetene at man faktisk bruker den formelle definisjonen til å utlede laplacetransformen av $h(s)$."
   ]
  },
  {
   "cell_type": "markdown",
   "metadata": {
    "slideshow": {
     "slide_type": "fragment"
    }
   },
   "source": [
    "1. Når $x(t)$ er antatt å være egenfunksjonen $e^{s\\cdot t}$ omformes en *differensialligning* til en *algebraisk ligning*\n",
    "    * Eksempel:\n",
    "    \n",
    "$$\n",
    "\\begin{align}\n",
    "\\frac{d^2 y(t)}{d^2 t} + 2\\frac{d y(t)}{d t} + 10\\cdot y(t) &=  \\frac{d x(t)}{d t} + x(t) \\\\ \\\\\n",
    "&\\Downarrow \\text{sett } x(t) = e^{s\\cdot t} \\text{ og } y(t) = H(s) \\cdot e^{s \\cdot t}\\\\ \\\\\n",
    "\\frac{d^2 H(s) \\cdot e^{s \\cdot t}}{d^2 t} + 2\\frac{d H(s) \\cdot e^{s \\cdot t}}{d t} + 10 H(s) \\cdot e^{s \\cdot t} &= \\frac{d e^{s \\cdot t}}{dt} + e^{s \\cdot t} \\\\ \\\\\n",
    "s^2 H(s) \\cdot e^{s \\cdot t} + 2s H(s) \\cdot e^{s \\cdot t} + 10 H(s) \\cdot e^{s \\cdot t} &= s\\cdot e^{s \\cdot t} + e^{s \\cdot t} \\\\ \\\\\n",
    "s^2 H(s) + 2s H(s) + 10 H(s) &= s + 1 \\\\ \n",
    "H(s) \\cdot \\left(s^2 + 2s + 10\\right) &= s+1 \\\\\n",
    "H(s) &= \\frac{s+1}{s^2+2s+10}\n",
    "\\end{align}\n",
    "$$\n",
    "\n"
   ]
  },
  {
   "cell_type": "markdown",
   "metadata": {
    "slideshow": {
     "slide_type": "slide"
    }
   },
   "source": [
    "# Poler og nullpunkt\n",
    "\n",
    "* Faktorisering av *transferfunksjonen* $H(s)$ gir *poler* og *nullpunkt*\n",
    "    * Eksempel:\n",
    "$$H(s) = \\frac{s - (-1)}{\\left(s-(-1 + 3j)\\right)\\left(s-(-1-3j)\\right)}$$\n",
    "        * Nullpunkt: $s=-1$\n",
    "        * Poler: $s=-1\\pm 3j$"
   ]
  },
  {
   "cell_type": "code",
   "execution_count": null,
   "metadata": {},
   "outputs": [],
   "source": [
    "from Kildekode._14_Z_transformasjon import HsPlot\n",
    "plt.close(2); plt.figure(2, figsize=(9,6))\n",
    "\n",
    "HsPlot([1, 1],[1, 2, 10],axes=[-4, 0, -6, 6]) # Ikke en standard funksjon, men skrevet for å kunne lage denne visualiseringen"
   ]
  },
  {
   "cell_type": "markdown",
   "metadata": {
    "slideshow": {
     "slide_type": "slide"
    }
   },
   "source": [
    "# Transferfunksjonen $H(s)$ og frekvensresponsen $H(\\omega)$\n",
    "\n",
    "* \"Korketrekkerfunksjonen\" $e^{j\\omega t}$ er et spesialtilfelle av egenfunksjonen $e^{s\\cdot t}$ der funksjonen er *periodisk*\n",
    "\n",
    "$$H(\\omega) = H(s)\\big|_{s = j\\cdot \\omega}$$\n",
    "\n",
    "* Vi kan \"lese av\" frekvensresponsen $H(\\omega)$ til et LTI-system ved å analysere den imaginære aksen i frekvensplanet"
   ]
  },
  {
   "cell_type": "markdown",
   "metadata": {
    "slideshow": {
     "slide_type": "slide"
    }
   },
   "source": [
    "# Forskjellen mellom tidsdiskréte tidskontinuerlige LTI-system"
   ]
  },
  {
   "cell_type": "markdown",
   "metadata": {
    "slideshow": {
     "slide_type": "fragment"
    }
   },
   "source": [
    "* Den mest vesentlige forskjellen mellom tidskontinuerlige system og digitale system er at ***derivasjon*** er erstattet med ***tidsforskyvning*** i differanseligningen.\n",
    "    * Interessant å begynne med et digitalt system som utfører tidsforskyvning: \n",
    "    $$y[n] = x[n-1]$$"
   ]
  },
  {
   "cell_type": "markdown",
   "metadata": {
    "slideshow": {
     "slide_type": "fragment"
    }
   },
   "source": [
    "* Hva blir egenfunksjonen til et tidsdiskret LTI-system?"
   ]
  },
  {
   "cell_type": "markdown",
   "metadata": {
    "slideshow": {
     "slide_type": "fragment"
    }
   },
   "source": [
    "1. Diskretisér egenfunksjonen $x(t) = e^{s\\cdot t}$:\n",
    "$$x[n] = x(t)\\big|_{t = n\\cdot T_s} = e^{s \\cdot T_s \\cdot n}$$"
   ]
  },
  {
   "cell_type": "markdown",
   "metadata": {
    "slideshow": {
     "slide_type": "fragment"
    }
   },
   "source": [
    "2. Substituer $e^{s\\cdot T_s}$ med en kompleks verdi $z$ slik at $x[n-1] = z^{-1}\\cdot x[n]$ når $x[n] = z^n$:\n",
    "\n",
    "$$x[n-1] = z^{n-1} = z^n\\cdot z^{-1} = x[n] \\cdot z^{-1}$$ \n",
    "\n"
   ]
  },
  {
   "cell_type": "markdown",
   "metadata": {
    "slideshow": {
     "slide_type": "fragment"
    }
   },
   "source": [
    "3. Utled konvolusjon mellom egenfunksjonen $x[n] = z^n$ og en diskrét impulsrespons $h[n]$\n",
    "$$y[n] = x[n] * h[n] = \\sum_{k= 0}^{\\infty} x[n-k] \\cdot h[k]$$\n",
    "    * Sett $y[n]=H(z)\\cdot z^n$ og $x[n] = z^n$\n",
    "$$\n",
    "\\begin{align}\n",
    "H(z)\\cdot z^n &= \\sum_{k= 0}^{\\infty} z^{n-k} \\cdot h[k] \\\\\n",
    "H(z)\\cdot z^n &= \\sum_{k= 0}^{\\infty} z^n\\cdot z^{-k} \\cdot h[k] \\\\\n",
    "H(z)\\cdot z^n &= z^n\\sum_{k= 0}^{\\infty} z^{-k} \\cdot h[k] \\\\\n",
    "H(z) &= \\sum_{k= 0}^{\\infty} z^{-k} \\cdot h[k] \n",
    "\\end{align}\n",
    "$$"
   ]
  },
  {
   "cell_type": "markdown",
   "metadata": {
    "slideshow": {
     "slide_type": "slide"
    }
   },
   "source": [
    "# Z-transformasjon\n",
    "#### Notasjon:\n",
    "$$\\textbf{Z}(h[n]) = H(z)$$\n",
    "\n",
    "#### Formel definisjon:\n",
    "\\begin{align}\n",
    "H(z) &= \\sum_{n=0}^{\\infty} h[n]\\cdot z^{-n}\\\\\n",
    "& \\text{der}\\\\\n",
    "z &= r\\cdot e^{j\\hat{\\omega}}\n",
    "\\end{align}"
   ]
  },
  {
   "cell_type": "markdown",
   "metadata": {
    "slideshow": {
     "slide_type": "fragment"
    }
   },
   "source": [
    "#### For LTI-system\n",
    "* Dersom $h[n]$ er impulsresponsen til et LTI-system, forteller dette hvordan systemet vil respondere til et inngangssignal $x[n] = z^{n} = r^{n} \\cdot e^{j \\hat{\\omega}\\cdot n}$.\n",
    "* Refleksjoner:\n",
    "    * Dersom $|r| = 1$, reduseres den 2-dimensjonale Z-transformen til DTFT. \n",
    "    * Dersom $|r| > 1$, vil amplitudent til $z^{n}$ øke over tid.\n",
    "    * Dersom $|r| < 1$, vil amplituden til $z^{n}$ synke over tid."
   ]
  },
  {
   "cell_type": "code",
   "execution_count": null,
   "metadata": {
    "slideshow": {
     "slide_type": "slide"
    }
   },
   "outputs": [],
   "source": [
    "z = 0.96*exp(8j*pi/5)\n",
    "showDiscreteOscillation(z, N=32, fig_num = 3)"
   ]
  },
  {
   "cell_type": "markdown",
   "metadata": {
    "slideshow": {
     "slide_type": "slide"
    }
   },
   "source": [
    "# S-plan og Z-plan\n",
    "## $$z = e^{s\\cdot T_s}$$\n",
    "<img src=\"Figurer/14_Ztransform/Fig2_SandZ.png\" style=\"width: 80%; margin-left: 100px\" />"
   ]
  },
  {
   "cell_type": "markdown",
   "metadata": {
    "slideshow": {
     "slide_type": "slide"
    }
   },
   "source": [
    "## Regneeksempel 1:\n",
    "\n",
    "* Utfør Z-transformasjon av impulsresponsen $h[n] = \\frac{u[n] - u[n-4]}{4}$."
   ]
  },
  {
   "cell_type": "code",
   "execution_count": null,
   "metadata": {},
   "outputs": [],
   "source": [
    "# Filter fra regneeksempel 1:\n",
    "b = [0.25, 0.25, 0.25, 0.25] \n",
    "a = [1]\n",
    "plt.close(4); plt.figure(4, figsize=(9,6))\n",
    "tfPlot(b, a) # Ikke standardfunksjon, definert i kildekoden til forelesningen."
   ]
  },
  {
   "cell_type": "markdown",
   "metadata": {
    "slideshow": {
     "slide_type": "slide"
    }
   },
   "source": [
    "# Tidsforskyvning i Z-planet\n",
    "\n",
    "* Hver sample tidsforskyvning tilsvarer multiplikasjon med $z^{-1}$ i z-planet. \n",
    "$$\\textbf{Z}(x[n-D]) = z^{-D}\\cdot X(z)$$\n",
    "\n",
    "* I blokkskjemarepresentasjon av filter brukes derfor $z^{-1}$ for å symbolisere tidsforskyvning/delay.\n",
    "\n",
    "<br>\n",
    "\n",
    "<img src=\"Figurer/14_Ztransform/Fig4_Delay.png\" style=\"width: 70%; margin-left: 100px\" />"
   ]
  },
  {
   "cell_type": "markdown",
   "metadata": {
    "slideshow": {
     "slide_type": "skip"
    }
   },
   "source": [
    "# LTI-filter i Z-domene\n",
    "\n",
    "<br>\n",
    "\n",
    "<img src=\"Figurer/14_Ztransform/Fig3_TF.png\" style=\"width: 70%\" align=\"left\"/>"
   ]
  },
  {
   "cell_type": "markdown",
   "metadata": {
    "slideshow": {
     "slide_type": "slide"
    }
   },
   "source": [
    "# Transferfunksjon / overføringsfunksjon\n",
    "\n",
    "* Z-transformen av impulsresponen $h[n]$ til et LTI-system kalles systemets *transferfunksjon*\n",
    "* For ethvert kausalt LTI-system med filterkoeffisienter **a** og **b**, vil transferfunksjonen være:\n",
    "\\begin{align}\n",
    "H(z) = \\frac{Y(z)}{X(z)} &= \\frac{\\sum_{k=0}^{M} b_k \\cdot z^{-k}}{\\sum_{k=0}^{N} a_k \\cdot z^{-k}}\\\\\n",
    "&\\text{eller}\\\\\n",
    "&= \\frac{b_0 + b_1\\cdot z^{-1} + b_2 \\cdot z^{-2} + \\ldots + b_M \\cdot z^{-M}}{a_0 + a_1\\cdot z^{-1} + a_2 \\cdot z^{-2} + \\ldots + a_N \\cdot z^{-N}}\n",
    "\\end{align}\n",
    "* Teller og nevner er polynomer\n",
    "* *samme utledning som for DTFT av differanseligning*"
   ]
  },
  {
   "cell_type": "markdown",
   "metadata": {
    "slideshow": {
     "slide_type": "slide"
    }
   },
   "source": [
    "## Regneeksempel 2:\n",
    "\n",
    "* Finn transferfunksjonen $H(z)$ til filteret i vist i figuren:\n",
    "<br>\n",
    "\n",
    "<img src=\"Figurer/14_Ztransform/Fig5_ExFilt.png\" style=\"width: 70%; margin-left: 100px\" />"
   ]
  },
  {
   "cell_type": "markdown",
   "metadata": {
    "slideshow": {
     "slide_type": "slide"
    }
   },
   "source": [
    "## Generell utledning av transferfunksjon:\n",
    "<img src=\"Figurer/14_Ztransform/Fig9_Diff2TF.png\" style=\"width: 70%; margin-left: 50px\" />"
   ]
  },
  {
   "cell_type": "markdown",
   "metadata": {
    "slideshow": {
     "slide_type": "slide"
    }
   },
   "source": [
    "# Visualisering av $H(z)$\n",
    "\n",
    "* $H(z)$ funksjon av et komplekst tall.\n",
    "    * \"Gain\" i transferfunksjonen av størst interesse\n",
    "    * Et \"Surface Plot\" av $|H(z)|$ vil kunne gi informasjon om forsterkningen av ulike typer signal.\n",
    "    * Amplituderesponsen vil kunne leses av ved å studere konturene langs enhetssirkelen."
   ]
  },
  {
   "cell_type": "code",
   "execution_count": null,
   "metadata": {
    "slideshow": {
     "slide_type": "slide"
    }
   },
   "outputs": [],
   "source": [
    "# Filter fra regneeksempel 1:\n",
    "b = [0.5, 0.5] \n",
    "a = [1, 0, -0.64]\n",
    "#plt.close(4); plt.figure(4, figsize=(9,6))\n",
    "visualizeTF(b, a) # Ikke standardfunksjon, definert i kildekoden til forelesningen."
   ]
  },
  {
   "cell_type": "code",
   "execution_count": null,
   "metadata": {
    "slideshow": {
     "slide_type": "slide"
    }
   },
   "outputs": [],
   "source": [
    "zeroes = [-1, 1j, -1j] \n",
    "poles = [-0.7j+0.2, 0.7j+0.2]\n",
    "\n",
    "b, a  = sig.zpk2tf(zeroes, poles, 1)\n",
    "visualizeTF(b, a) # Ikke standardfunksjon, definert i kildekoden til forelesningen."
   ]
  },
  {
   "cell_type": "markdown",
   "metadata": {
    "slideshow": {
     "slide_type": "slide"
    }
   },
   "source": [
    "# Poler og nullpunkt\n",
    "\n",
    "\n",
    "* Faktorisering av *transferfunksjonen* $H(s)$ gir *poler* og *nullpunkt*\n",
    "    * Eksempel:\n",
    "$$H(z) = \\frac{z - (-1)}{\\left(z-(-0.8)\\right)\\left(z-0.8\\right)}$$\n",
    "        * Nullpunkt: $z=-1$\n",
    "        * Poler: $z=\\pm 0.8$"
   ]
  },
  {
   "cell_type": "markdown",
   "metadata": {
    "slideshow": {
     "slide_type": "slide"
    }
   },
   "source": [
    "## Repetisjon DTFT\n",
    "#### Formel\n",
    "\n",
    "$$H\\left(\\hat{\\omega}\\right) = \\sum_{n=0}^{\\infty}h[n]\\cdot e^{-j\\hat{\\omega}\\cdot n}$$\n",
    "\n",
    "#### For LTI-system\n",
    "\n",
    "* Dersom $h[n]$ er impulsresponsen til et LTI-system, forteller dette hvordan systemet vil påvirke et inngangssignal $x[n] = e^{-j\\omega \\cdot n}$ med vinkelfrekvens $\\hat{\\omega}$.\n",
    "    * Gjelder også sinusformede signal da  $\\cos(\\hat{\\omega}\\cdot n) = \\frac{1}{2} e^{j\\hat{\\omega}\\cdot n} + \\frac{1}{2} e^{-j \\hat{\\omega} \\cdot n}$."
   ]
  },
  {
   "cell_type": "markdown",
   "metadata": {
    "slideshow": {
     "slide_type": "slide"
    }
   },
   "source": [
    "# Z-plan og frekvensrespons\n",
    "\n",
    "* Substitusjonen $z=e^{j\\hat{\\omega}}$ i transferfunksjonen $H(z)$ gir systemets frekvensrespons $H(\\hat{\\omega})$.\n",
    "\n",
    "$$ H(\\hat{\\omega}) = H(z)\\bigg|_{z = e^{j\\hat{\\omega}}}$$\n",
    "\n",
    "* Frekvensresponsen er oppgitt langs ***enhetssirkelen*** i z-planet.\n",
    "    * Sirkulær \"frekvensakse\" medfører at alle aliaser av et digitalt signal er representert av samme punkt i z-planet.\n",
    "    \n",
    "<img src=\"Figurer/14_Ztransform/Fig11_Hz2Hw.png\" style=\"width: 90%\" />"
   ]
  },
  {
   "cell_type": "markdown",
   "metadata": {
    "slideshow": {
     "slide_type": "slide"
    }
   },
   "source": [
    "## Regneeksempel 3:\n",
    "* Finn frekvensresponsen til transferfunksjonen\n",
    "$$H(z) = \\frac{0.5 + 0.5z^{-1}}{1-0.64z^{-2}}$$"
   ]
  },
  {
   "cell_type": "code",
   "execution_count": null,
   "metadata": {
    "slideshow": {
     "slide_type": "slide"
    }
   },
   "outputs": [],
   "source": [
    "# Filter fra regneeksempel 1:\n",
    "b = [0.5, 0.5] \n",
    "a = [1, 0, 0.64]\n",
    "visualizeTF(b, a, fig_num=5) # Ikke standardfunksjon, definert i kildekoden til forelesningen."
   ]
  },
  {
   "cell_type": "markdown",
   "metadata": {
    "slideshow": {
     "slide_type": "slide"
    }
   },
   "source": [
    "# Oppsummering\n",
    "\n",
    "* Analyse av IIR filtre utføres med *Z-transformasjon*\n",
    "    * \"Mapper\" IIR-filteret til $z$-planet basert på hva responsen til et signal på formen $z^{-n}$.\n",
    "    \n",
    "    \n",
    "* Sammenhengen mellom $s$-planet for laplace og $z$-planet fremgår av substitusjonen\n",
    "$$z = e^{s \\cdot T_s}$$\n",
    "    * Frekvensaksen i $s$-planet avgrenses til $-\\frac{F_s}{2} < f < \\frac{F_s}{2}$ og \"pakkes\" rundt enhetssirkelen.\n",
    "    * Venstre halvplan i $s$-planet flyttes til innsiden av enhetssirkelen på $z$-planet.\n",
    "    \n",
    "    \n",
    "* Z-transforamsjon omformer en *differanseligning* til en *algebraisk ligning*\n",
    "$$\\begin{align}\n",
    "a_0\\cdot y[n] + a_1 \\cdot y[n-1] + \\ldots + a_N\\cdot y[n-N] &= b_0\\cdot x[n] + b_1 \\cdot x[n-1] + \\ldots + b_N\\cdot x[n-M] \\\\\n",
    "& \\Downarrow \\text{Z-transformasjon} \\\\\n",
    "Y(z)\\left(a_0 + a_1 \\cdot z^{-1} + \\ldots + a_N\\cdot z^{-N} \\right) &= X(z)\\left(b_0 + b_1 \\cdot z^{-1} + \\ldots + b_N\\cdot z^{-M} \\right)\n",
    "\\end{align}$$\n",
    "\n",
    "\n",
    "* Filterets frekvensrespons $H(\\hat{\\omega})$ finner vi ved å se på $H(z)$ langs enhetssirkelen.\n",
    "$$ H(\\hat{\\omega}) = H(z)\\big|_{z=e^{j\\hat{\\omega}}}$$"
   ]
  },
  {
   "cell_type": "markdown",
   "metadata": {
    "slideshow": {
     "slide_type": "slide"
    }
   },
   "source": [
    "# Egenskaper Z-transformasjon\n",
    "\n",
    "<img src=\"Figurer/14_Ztransform/Fig10_ZtransProps.png\" style=\"width: 85%; margin-left: 50px\" />"
   ]
  },
  {
   "cell_type": "markdown",
   "metadata": {
    "slideshow": {
     "slide_type": "slide"
    }
   },
   "source": [
    "# Spørsmål?"
   ]
  }
 ],
 "metadata": {
  "celltoolbar": "Slideshow",
  "hide_input": false,
  "kernelspec": {
   "display_name": "Python 3 (ipykernel)",
   "language": "python",
   "name": "python3"
  },
  "language_info": {
   "codemirror_mode": {
    "name": "ipython",
    "version": 3
   },
   "file_extension": ".py",
   "mimetype": "text/x-python",
   "name": "python",
   "nbconvert_exporter": "python",
   "pygments_lexer": "ipython3",
   "version": "3.11.6"
  },
  "toc": {
   "base_numbering": 1,
   "nav_menu": {},
   "number_sections": false,
   "sideBar": true,
   "skip_h1_title": false,
   "title_cell": "Innholdstabell",
   "title_sidebar": "Innhold",
   "toc_cell": false,
   "toc_position": {},
   "toc_section_display": true,
   "toc_window_display": false
  },
  "varInspector": {
   "cols": {
    "lenName": 16,
    "lenType": 16,
    "lenVar": 40
   },
   "kernels_config": {
    "python": {
     "delete_cmd_postfix": "",
     "delete_cmd_prefix": "del ",
     "library": "var_list.py",
     "varRefreshCmd": "print(var_dic_list())"
    },
    "r": {
     "delete_cmd_postfix": ") ",
     "delete_cmd_prefix": "rm(",
     "library": "var_list.r",
     "varRefreshCmd": "cat(var_dic_list()) "
    }
   },
   "types_to_exclude": [
    "module",
    "function",
    "builtin_function_or_method",
    "instance",
    "_Feature"
   ],
   "window_display": false
  }
 },
 "nbformat": 4,
 "nbformat_minor": 4
}
