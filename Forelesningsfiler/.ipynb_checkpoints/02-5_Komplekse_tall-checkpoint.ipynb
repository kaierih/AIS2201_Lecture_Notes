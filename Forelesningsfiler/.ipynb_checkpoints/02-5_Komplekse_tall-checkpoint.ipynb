{
 "cells": [
  {
   "cell_type": "code",
   "execution_count": 1,
   "metadata": {
    "slideshow": {
     "slide_type": "skip"
    }
   },
   "outputs": [],
   "source": [
    "# Generelle moduler og funksjonsbeskrivelser brukt i forelesningen\n",
    "from numpy import sin, cos, pi, arctan2, exp\n",
    "import numpy as np\n",
    "import matplotlib.pyplot as plt\n",
    "\n",
    "%matplotlib ipympl"
   ]
  },
  {
   "cell_type": "markdown",
   "metadata": {
    "slideshow": {
     "slide_type": "slide"
    }
   },
   "source": [
    "<img src=\"Figurer/NTNU_Logo.png\" align=\"left\" style=\"width: 30%\">\n",
    "<br clear=\"all\" />\n",
    "<br></br>\n",
    "\n",
    "# Komplekse tall\n",
    "\n",
    "* **Emne AIS2201 - Signalbehandling**\n",
    "* **Uke 33, 2023**\n",
    "* **Underviser: Kai Erik Hoff**"
   ]
  },
  {
   "cell_type": "markdown",
   "metadata": {
    "slideshow": {
     "slide_type": "slide"
    }
   },
   "source": [
    "# Tema\n",
    "* Komplekse tall oppfriskning\n",
    "    - Addisjon, subtraksjon, multiplikasjon, divisjon og potensregning med komplekse tall"
   ]
  },
  {
   "cell_type": "markdown",
   "metadata": {
    "slideshow": {
     "slide_type": "slide"
    }
   },
   "source": [
    "<div style=\"width: 100%;\">\n",
    "    <img src=\"Figurer/03_Sinussignal/Fig7_xkcd_eipi.png\" style=\"float: right; width: 50%\" />\n",
    "    <div style=\"width: 30%\">\n",
    "        <br>\n",
    "    <h1>Komplekse tall:</h1>\n",
    "        <h2><i>En oppfriskning</i></h2>\n",
    "    </div>\n",
    "</div> "
   ]
  },
  {
   "cell_type": "markdown",
   "metadata": {
    "slideshow": {
     "slide_type": "notes"
    }
   },
   "source": [
    "* Dersom du har 3.14 minutter å avse, finnes en youtube-video med en veldig god forklaring på dette [her](https://www.youtube.com/watch?v=v0YEaeIClKY&vl=en)."
   ]
  },
  {
   "cell_type": "markdown",
   "metadata": {
    "slideshow": {
     "slide_type": "slide"
    }
   },
   "source": [
    "## Imaginære tall\n",
    "\n",
    "<br>\n",
    "\n",
    "* Uttrykk på formen $a \\cdot \\sqrt{-1}$ har en *imaginær verdi*, da det ikke finnes noe reelt tall $x$ der $x^2= -1$.\n",
    "* Det kan allikevel være fordelaktig å arbeide med imaginære tall ($a \\cdot \\sqrt{-1}$).\n",
    "    - Så lenge vi ikke faktisk prøver å regne ut verdien til $\\sqrt{-1}$, er det fullt mulig å ta med $\\sqrt{-1}$ i videre utregninger.\n",
    "* Eksempel: \n",
    "\\begin{align*}\n",
    "x^2 + 9 &= 0\\\\\n",
    "x^2 &= -9\\\\\n",
    "x &= \\sqrt{-9}\\\\\n",
    "&= \\sqrt{-1\\cdot 3^2}\\\\\n",
    "&= \\sqrt{3^2}\\cdot\\sqrt{-1}\\\\\n",
    "&= \\pm 3 \\cdot \\sqrt{-1}\n",
    "\\end{align*}"
   ]
  },
  {
   "cell_type": "markdown",
   "metadata": {
    "slideshow": {
     "slide_type": "slide"
    }
   },
   "source": [
    "## Regneoperasjoner med imaginære tall\n",
    "\n",
    "<br>\n",
    "\n",
    "* Vi kan ta i bruk kjente regneregler når vi regner med imaginære tall\n",
    "* **Addisjon:**\n",
    "\\begin{align}\n",
    "a \\cdot \\sqrt{-1} + b \\cdot \\sqrt{-1} &= (a + b) \\sqrt{-1}\n",
    "\\end{align}\n",
    "* **Multiplikasjon:**\n",
    "\\begin{align*}\n",
    "\\left(a \\cdot \\sqrt{-1}\\right) \\cdot \\left( b \\cdot \\sqrt{-1}\\right) &= a \\cdot b \\cdot  \\left(\\sqrt{-1}\\right)^2 \\\\\n",
    "&= a \\cdot b \\cdot \\left( (-1) ^{\\frac{1}{2}} \\right) ^2 \\\\\n",
    "&= a \\cdot b \\cdot (-1)^{\\frac{1}{2}\\cdot 2}\\\\\n",
    "&= a \\cdot b \\cdot (-1)^1\\\\\n",
    "&= - a \\cdot b\n",
    "\\end{align*}"
   ]
  },
  {
   "cell_type": "markdown",
   "metadata": {
    "slideshow": {
     "slide_type": "slide"
    }
   },
   "source": [
    "## Kompleske tall\n",
    "\n",
    "* Består av reelle og imaginære komponenter\n",
    "* Substituerer *imaginær enhet* $\\sqrt{-1}$ med et eget symbol $j$:\n",
    "$$\\sqrt{-1} = j$$\n",
    "* Komplekse tall notasjon:\n",
    "$$z = x + j\\cdot y $$\n",
    "\n",
    "\n",
    "<img src=\"Figurer/03_Sinussignal/Fig08_compNum.png\" width=\"70%\" />"
   ]
  },
  {
   "cell_type": "markdown",
   "metadata": {
    "slideshow": {
     "slide_type": "notes"
    }
   },
   "source": [
    "* I matematiske fag brukes i stor grad $i$ som symbol for imaginær enhet. I fagfeltene elektro og automasjon brukes heller $j$, da $i$ typisk er forbeholdt *strøm*."
   ]
  },
  {
   "cell_type": "markdown",
   "metadata": {
    "slideshow": {
     "slide_type": "slide"
    }
   },
   "source": [
    "# Komplekse tall som vektorer\n",
    "\n",
    "<img src=\"Figurer/03_Sinussignal/Fig09_compVect.jpg\" width=\"80%\"/>"
   ]
  },
  {
   "cell_type": "markdown",
   "metadata": {
    "slideshow": {
     "slide_type": "slide"
    }
   },
   "source": [
    "## Kompleks addisjon (vektoraddisjon)\n",
    "* Enklest å regne ut på _kartesisk form_.\n",
    "    - For å legge sammen to komplekse tall på polarform er det ofte mest hensiktsmessig å skrive om til kartesisk form.\n",
    "    \n",
    "<img src=\"Figurer/03_Sinussignal/Fig12_compAdd.jpg\" width=\"80%\" />"
   ]
  },
  {
   "cell_type": "markdown",
   "metadata": {
    "slideshow": {
     "slide_type": "slide"
    }
   },
   "source": [
    "## Kompleks subtraksjon\n",
    "* Benytter vektoraddisjon\n",
    "* Negativ vektor peker i motsatt retning\n",
    "\n",
    "<img src=\"Figurer/03_Sinussignal/Fig13_compSub.jpg\" width=\"80%\" />"
   ]
  },
  {
   "cell_type": "markdown",
   "metadata": {
    "slideshow": {
     "slide_type": "slide"
    }
   },
   "source": [
    "## Komplekse tall i python\n",
    "\n",
    "* Bokstaven `j` kan benyttes til å designere en numerisk verdi som imaginær."
   ]
  },
  {
   "cell_type": "code",
   "execution_count": 2,
   "metadata": {
    "slideshow": {
     "slide_type": "fragment"
    }
   },
   "outputs": [
    {
     "name": "stdout",
     "output_type": "stream",
     "text": [
      "z1 = (3+4j)\n",
      "z2 = (-4+2j)\n",
      "z1 + z2 = (-1+6j)\n"
     ]
    }
   ],
   "source": [
    "z1 = 3 + 4j\n",
    "print('z1 =', z1)\n",
    "\n",
    "z2 = -4 + 2j\n",
    "print('z2 =', z2)\n",
    "\n",
    "print('z1 + z2 =', z1 + z2)\n"
   ]
  },
  {
   "cell_type": "markdown",
   "metadata": {
    "slideshow": {
     "slide_type": "slide"
    }
   },
   "source": [
    "## Polarform\n",
    "\n",
    "<br>\n",
    "<div style=\"width: 100%;\">\n",
    "    <img src=\"Figurer/03_Sinussignal/Fig10_polarform.jpg\" align=\"right\" width=\"40%\" />\n",
    "    <div style=\"width: 50%\">\n",
    "    <ul>\n",
    "      <li>Vektorform</li>\n",
    "      <ul><li>Lengde = $r$</li>\n",
    "          <li>Vinkel = $\\theta$ </li></ul>\n",
    "      <li>Vanlige verdier</li>\n",
    "      <ul><li>$j$ har vinkelen $\\theta = \\frac{\\pi}{2}$</li>\n",
    "        <li>$-1$ har vinkelen $\\theta = \\pi$</li>\n",
    "        <li>$-j$ har vinkelen $\\theta = \\frac{3\\pi}{2}$</li>\n",
    "        <li>$-j$kan også sies å ha vinkelen $\\theta = -\\frac{\\pi}{2}$</li>\n",
    "          <ul><li><i>Ulik rotasjonsretning, men samme destinasjon. </i></li></ul>\n",
    "      </ul>\n",
    "    </ul>  \n",
    "    </div>\n",
    "</div> "
   ]
  },
  {
   "cell_type": "markdown",
   "metadata": {
    "slideshow": {
     "slide_type": "slide"
    }
   },
   "source": [
    "## Polarkoordianter $\\leftrightarrow$ Kartesiske koordinater\n",
    "\n",
    "\n",
    "<div style=\"width: 100%;\">\n",
    "    <img src=\"Figurer/03_Sinussignal/Fig11_sq2pol.jpg\" width=\"40%\" align=\"right\" />\n",
    "    <div width=\"50%\" align=\"left\">\n",
    "    <br>\n",
    "    <ul>\n",
    "      <li>Polarform fra kartesisk form:</li>\n",
    "      </ul>\n",
    "       $$r = \\sqrt{x^2+y^2}$$\n",
    "       $$\\theta = \\arctan \\left(\\frac{y}{x}\\right) ^ {[1]}$$\n",
    "        <ul><li>Kartesisk form fra polarform:</li></ul>\n",
    "       $$ x = r\\cdot \\cos(\\theta)$$\n",
    "       $$ y = r\\cdot \\sin(\\theta)$$\n",
    "    </div>\n",
    "</div> "
   ]
  },
  {
   "cell_type": "markdown",
   "metadata": {
    "slideshow": {
     "slide_type": "notes"
    }
   },
   "source": [
    "[1] - Vil kun gjelde for komplekse tall der $\\mathfrak{R}e(z) > 0$. Arbeider du i python er det mer hensiktsmessig å bruke funksjonen `np.angle()`."
   ]
  },
  {
   "cell_type": "markdown",
   "metadata": {
    "slideshow": {
     "slide_type": "slide"
    }
   },
   "source": [
    "<img src=\"Figurer/03_Sinussignal/Fig13_2_Eulerform.png\" width=\"80%\"/>"
   ]
  },
  {
   "cell_type": "markdown",
   "metadata": {
    "slideshow": {
     "slide_type": "slide"
    }
   },
   "source": [
    "## Eulers formel\n",
    "* Matematisk notasjon for komplekse tall på polarform:\n",
    "\n",
    "## $$r\\cdot e^{j\\theta} = r\\cdot \\cos(\\theta) + j\\cdot r\\cdot \\sin(\\theta)$$"
   ]
  },
  {
   "cell_type": "markdown",
   "metadata": {
    "slideshow": {
     "slide_type": "slide"
    }
   },
   "source": [
    "## Komplekse tall på polarform (*demo*):"
   ]
  },
  {
   "cell_type": "code",
   "execution_count": 3,
   "metadata": {
    "slideshow": {
     "slide_type": "fragment"
    }
   },
   "outputs": [
    {
     "data": {
      "application/vnd.jupyter.widget-view+json": {
       "model_id": "2a150dba965245ef8f9e66f9f74d857b",
       "version_major": 2,
       "version_minor": 0
      },
      "text/plain": [
       "VBox(children=(HBox(children=(FloatSlider(value=1.0, description='$r$', layout=Layout(width='95%'), max=1.3, m…"
      ]
     },
     "metadata": {},
     "output_type": "display_data"
    },
    {
     "data": {
      "application/vnd.jupyter.widget-view+json": {
       "model_id": "e75776a101e448809d80e89d761e4692",
       "version_major": 2,
       "version_minor": 0
      },
      "text/plain": [
       "Output()"
      ]
     },
     "metadata": {},
     "output_type": "display_data"
    },
    {
     "data": {
      "application/vnd.jupyter.widget-view+json": {
       "model_id": "324a09fec41943f4b31a98c69a277223",
       "version_major": 2,
       "version_minor": 0
      },
      "image/png": "[encoded data removed]",
      "text/html": [
       "\n",
       "            <div style=\"display: inline-block;\">\n",
       "                <div class=\"jupyter-widgets widget-label\" style=\"text-align: center;\">\n",
       "                    Figure\n",
       "                </div>\n",
       "                <img src='data:image/png;base64,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' width=700.0/>\n",
       "            </div>\n",
       "        "
      ],
      "text/plain": [
       "Canvas(toolbar=Toolbar(toolitems=[('Home', 'Reset original view', 'home', 'home'), ('Back', 'Back to previous …"
      ]
     },
     "metadata": {},
     "output_type": "display_data"
    }
   ],
   "source": [
    "from Kildekode._03_Sinussignal import ComplexPolarDemo\n",
    "ComplexPolarDemo(4, fig_size=(7,7));"
   ]
  },
  {
   "cell_type": "markdown",
   "metadata": {
    "slideshow": {
     "slide_type": "slide"
    }
   },
   "source": [
    "## Polarform i Python\n",
    "\n",
    "* Modulen `numpy` har en rekke nyttige funksjoner: `abs()`, `angle()`, `real()` og `imag()`.\n",
    "* Andre nyttige trigonometriske funksjoner i `numpy`: `cos()`, `sin()`, `hypot()`, `arctan2()` og `exp()`."
   ]
  },
  {
   "cell_type": "code",
   "execution_count": 7,
   "metadata": {
    "slideshow": {
     "slide_type": "fragment"
    }
   },
   "outputs": [
    {
     "name": "stdout",
     "output_type": "stream",
     "text": [
      "Vinkel i radianer:  -2.5535900500422257\n",
      "\n",
      "Komplekst tall z =  (-2-3j)\n",
      "Polarkoordinat r:  3.605551275463989\n",
      "Vinkel i grader:  -123.69006752597977\n",
      "\n",
      "Nytt tall z = 3*e^(j0.75*pi)\n",
      "Reell del:  -2.1213203435596424\n",
      "Imaginær del:  2.121320343559643\n"
     ]
    }
   ],
   "source": [
    "# Kartesisk form\n",
    "\n",
    "x = -2\n",
    "y = -3\n",
    "# Trigonometrisk funksjon arctan2() kan brukes til å regne ut tan^-1\n",
    "# (bruk denne istedenfor arctan(), da den ikke håndterer fortegn på noen bra måte.)\n",
    "print(\"Vinkel i radianer: \", arctan2(x,y))\n",
    "\n",
    "# Komplekst tall på kartesisk form\n",
    "z1 = x + 1j*y\n",
    "print(\"\\nKomplekst tall z = \", z1)\n",
    "print(\"Polarkoordinat r: \", abs(z1))\n",
    "print(\"Vinkel i grader: \", np.angle(z1)/pi*180)\n",
    "\n",
    "# Komplekst tall på Polarform: ,\n",
    "print(\"\\nNytt tall z = 3*e^(j0.75*pi)\")\n",
    "z2 = 3*exp(3j*pi/4)\n",
    "print(\"Reell del: \", np.real(z2))\n",
    "print(\"Imaginær del: \", np.imag(z2))"
   ]
  },
  {
   "cell_type": "markdown",
   "metadata": {
    "slideshow": {
     "slide_type": "slide"
    }
   },
   "source": [
    "## Regneeksempel 2: Omskriving av vinkler\n",
    "\n",
    "* Finn en måte å skrive om det komplekse tallet\n",
    "$$z = 5.3\\cdot e^{j \\frac{27}{5}\\pi}$$\n",
    "    Slik at vinkelen $\\phi$ er i intervallet $-\\pi \\leq \\phi \\leq \\pi$."
   ]
  },
  {
   "cell_type": "markdown",
   "metadata": {
    "slideshow": {
     "slide_type": "slide"
    }
   },
   "source": [
    "## Kompleks multiplikasjon\n",
    "\n",
    "* Enklest å regne ut på polarform\n",
    "* Skalerer og roterer en vektor\n",
    "\n",
    "<img src=\"Figurer/03_Sinussignal/Fig14_compMult.jpg\" width=\"75%\" align=\"center\"/>"
   ]
  },
  {
   "cell_type": "markdown",
   "metadata": {
    "hide_input": true,
    "slideshow": {
     "slide_type": "slide"
    }
   },
   "source": [
    "## Kompleks Divisjon\n",
    "\n",
    "* På polarform:\n",
    "    - finn den inverterte av neveneren: $\\frac{1}{z} = r^{-1}\\cdot e^{-j\\theta}$\n",
    "    - Skalér og roter vektor som med multiplikasjon.\n",
    "\n",
    "<img src=\"Figurer/03_Sinussignal/Fig16_compDiv.jpg\" width=\"70%\" align=\"center\"/>"
   ]
  },
  {
   "cell_type": "markdown",
   "metadata": {
    "slideshow": {
     "slide_type": "slide"
    }
   },
   "source": [
    "## Kompleks Potensregning\n",
    "\n",
    "* Påfører skalering og rotasjon avhengig av eksponent\n",
    "\n",
    "<img src=\"Figurer/03_Sinussignal/Fig15_compExp.jpg\" width=\"75%\" align=\"center\"/>"
   ]
  },
  {
   "cell_type": "markdown",
   "metadata": {
    "slideshow": {
     "slide_type": "slide"
    }
   },
   "source": [
    "## Komplekskonjugering\n",
    "<br>\n",
    "<div>\n",
    "<img src=\"Figurer/03_Sinussignal/Fig17_compConj.jpg\" width=\"40%\" align=\"right\"/>\n",
    "</div>\n",
    "<div style=\"width: 60%\">\n",
    "<ul>\n",
    "  <li>\"Speiling\" av kompleks vektor over x-aksen</li>\n",
    "  <li>På kartesisk form:</li>\n",
    "  <ul><li>$z = x+jy$</li>\n",
    "      <li>$z^{*} = x-jy$ </li></ul>\n",
    "  <li>På polarform:</li>\n",
    "  <ul><li>$z = r\\cdot e^{j\\theta}$</li>\n",
    "      <li>$z^{*} = r\\cdot e^{-j\\theta}$ </li></ul>\n",
    "  <li>Nyttige egenskaper:</li>\n",
    "  <ul><li>$\\mathfrak{R}(z) = \\frac{1}{2}\\left(z+z^{*}\\right)$</li>\n",
    "      <li>$\\mathfrak{I}(z) = \\frac{1}{2}\\left(z-z^{*}\\right)$</li>\n",
    "      <li>$\\left| z\\right| ^{2} = z\\cdot z^{*}$ </li>\n",
    "    </ul>\n",
    "</ul>  \n",
    "</div>\n"
   ]
  },
  {
   "cell_type": "markdown",
   "metadata": {
    "slideshow": {
     "slide_type": "slide"
    }
   },
   "source": [
    "## Regneeksempel 3: Kompleks divisjon\n",
    "\n",
    "* Utfør følgende komplekse divisjon, og skriv svaret på polarform.\n",
    "\n",
    "$$\\frac{\\sqrt{12}+j2}{1-j\\sqrt{3}}$$\n",
    "* _Løses i OneNote_"
   ]
  },
  {
   "cell_type": "markdown",
   "metadata": {
    "slideshow": {
     "slide_type": "slide"
    }
   },
   "source": [
    "## Komplekse tall på enhetssirkelen\n",
    "\n",
    "* Komplekse tall som ligger på enhetssirkelen har absoluttverdi lik 1.\n",
    "* Å opphøye med en eksponent vil *kun* påføre rotasjon.\n",
    "\n",
    "\n",
    "#### Kodeeksempel:\n",
    "* Vis verdiene til tallrekken $z^n$ i et plot av det komplekse plan.\n",
    "    - $z=e^{j\\cdot\\frac{2\\pi}{12}}$\n",
    "    - $n = 0, 1, 2, \\ldots , 7$"
   ]
  },
  {
   "cell_type": "code",
   "execution_count": 6,
   "metadata": {
    "slideshow": {
     "slide_type": "slide"
    }
   },
   "outputs": [
    {
     "data": {
      "text/plain": [
       "[<matplotlib.lines.Line2D at 0x7f482c3e7410>]"
      ]
     },
     "execution_count": 6,
     "metadata": {},
     "output_type": "execute_result"
    },
    {
     "data": {
      "application/vnd.jupyter.widget-view+json": {
       "model_id": "897df1053cd24150adc5694386210c68",
       "version_major": 2,
       "version_minor": 0
      },
      "image/png": "[encoded data removed]",
      "text/html": [
       "\n",
       "            <div style=\"display: inline-block;\">\n",
       "                <div class=\"jupyter-widgets widget-label\" style=\"text-align: center;\">\n",
       "                    Figure\n",
       "                </div>\n",
       "                <img src='data:image/png;base64,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' width=600.0/>\n",
       "            </div>\n",
       "        "
      ],
      "text/plain": [
       "Canvas(toolbar=Toolbar(toolitems=[('Home', 'Reset original view', 'home', 'home'), ('Back', 'Back to previous …"
      ]
     },
     "metadata": {},
     "output_type": "display_data"
    }
   ],
   "source": [
    "\n",
    "z = 1*np.exp(2j*pi/12)\n",
    "n = np.arange(0, 8)\n",
    "\n",
    "\n",
    "\n",
    "z_n = z**n\n",
    "\n",
    "plt.close(5)\n",
    "plt.figure(5, figsize=(6,6))\n",
    "\n",
    "\n",
    "plt.scatter(np.real(z_n), np.imag(z_n))\n",
    "plt.axis([-1.1, 1.1, -1.1, 1.1])\n",
    "plt.grid(True)\n",
    "\n",
    "# Vis enhetssirkelen som en striplet linje.\n",
    "unitCircle = exp(2j*pi*np.linspace(0, 1, 501))\n",
    "plt.plot(np.real(unitCircle), np.imag(unitCircle), 'r:')\n"
   ]
  },
  {
   "cell_type": "markdown",
   "metadata": {
    "slideshow": {
     "slide_type": "slide"
    }
   },
   "source": [
    "# Spørsmål?"
   ]
  }
 ],
 "metadata": {
  "celltoolbar": "Slideshow",
  "hide_input": false,
  "kernelspec": {
   "display_name": "Python 3 (ipykernel)",
   "language": "python",
   "name": "python3"
  },
  "language_info": {
   "codemirror_mode": {
    "name": "ipython",
    "version": 3
   },
   "file_extension": ".py",
   "mimetype": "text/x-python",
   "name": "python",
   "nbconvert_exporter": "python",
   "pygments_lexer": "ipython3",
   "version": "3.11.6"
  },
  "toc": {
   "base_numbering": 1,
   "nav_menu": {},
   "number_sections": false,
   "sideBar": true,
   "skip_h1_title": false,
   "title_cell": "Table of Contents",
   "title_sidebar": "Contents",
   "toc_cell": false,
   "toc_position": {
    "height": "calc(100% - 180px)",
    "left": "10px",
    "top": "150px",
    "width": "366.933px"
   },
   "toc_section_display": true,
   "toc_window_display": false
  },
  "varInspector": {
   "cols": {
    "lenName": 16,
    "lenType": 16,
    "lenVar": 40
   },
   "kernels_config": {
    "python": {
     "delete_cmd_postfix": "",
     "delete_cmd_prefix": "del ",
     "library": "var_list.py",
     "varRefreshCmd": "print(var_dic_list())"
    },
    "r": {
     "delete_cmd_postfix": ") ",
     "delete_cmd_prefix": "rm(",
     "library": "var_list.r",
     "varRefreshCmd": "cat(var_dic_list()) "
    }
   },
   "position": {
    "height": "574.983px",
    "left": "877.1px",
    "right": "20px",
    "top": "120px",
    "width": "572.7px"
   },
   "types_to_exclude": [
    "module",
    "function",
    "builtin_function_or_method",
    "instance",
    "_Feature"
   ],
   "window_display": false
  },
  "widgets": {
   "application/vnd.jupyter.widget-state+json": {
    "state": {
     "00d072741056466d8a2ab0f4814eed69": {
      "model_module": "@jupyter-widgets/base",
      "model_module_version": "1.2.0",
      "model_name": "LayoutModel",
      "state": {}
     },
     "00e45c7f427244e1a9cb22e4da1bc6f3": {
      "model_module": "@jupyter-widgets/base",
      "model_module_version": "1.2.0",
      "model_name": "LayoutModel",
      "state": {
       "width": "95%"
      }
     },
     "00ec040fe0054e95ac39c4979e6b97b4": {
      "model_module": "@jupyter-widgets/base",
      "model_module_version": "1.2.0",
      "model_name": "LayoutModel",
      "state": {
       "width": "95%"
      }
     },
     "02a6f0aa4ff940e68a4deec7d7b3efae": {
      "model_module": "@jupyter-widgets/base",
      "model_module_version": "1.2.0",
      "model_name": "LayoutModel",
      "state": {}
     },
     "03bc9720174d4a198a51d9cfcabb320b": {
      "model_module": "jupyter-matplotlib",
      "model_module_version": "^0.9.0",
      "model_name": "ToolbarModel",
      "state": {
       "layout": "IPY_MODEL_27c0d3aa07f64283abfab568a0202233",
       "toolitems": [
        [
         "Home",
         "Reset original view",
         "home",
         "home"
        ],
        [
         "Back",
         "Back to previous view",
         "arrow-left",
         "back"
        ],
        [
         "Forward",
         "Forward to next view",
         "arrow-right",
         "forward"
        ],
        [
         "Pan",
         "Left button pans, Right button zooms\nx/y fixes axis, CTRL fixes aspect",
         "arrows",
         "pan"
        ],
        [
         "Zoom",
         "Zoom to rectangle\nx/y fixes axis, CTRL fixes aspect",
         "square-o",
         "zoom"
        ],
        [
         "Download",
         "Download plot",
         "floppy-o",
         "save_figure"
        ]
       ]
      }
     },
     "048a24102b1c4b3d96cc2672764f8924": {
      "model_module": "@jupyter-widgets/base",
      "model_module_version": "1.2.0",
      "model_name": "LayoutModel",
      "state": {}
     },
     "04d22cd7e1a84e4892ab3f862b4a6cde": {
      "model_module": "@jupyter-widgets/base",
      "model_module_version": "1.2.0",
      "model_name": "LayoutModel",
      "state": {
       "width": "95%"
      }
     },
     "04d49e8067a94029b4c1390b1bb938df": {
      "model_module": "@jupyter-widgets/controls",
      "model_module_version": "1.5.0",
      "model_name": "VBoxModel",
      "state": {
       "children": [
        "IPY_MODEL_53feeed2a39e4c0c8006108a199ee46f"
       ],
       "layout": "IPY_MODEL_c3c72f1d3fe64612a416aca387829b0d"
      }
     },
     "069424ce46544ca29c613f95454b14e4": {
      "model_module": "jupyter-matplotlib",
      "model_module_version": "^0.9.0",
      "model_name": "MPLCanvasModel",
      "state": {
       "_cursor": "default",
       "_figure_label": "Figure 1",
       "_height": 500,
       "_image_mode": "diff",
       "_width": 1200,
       "layout": "IPY_MODEL_5b24339a093e411c93eca23e0a8d12e4",
       "toolbar": "IPY_MODEL_c167b3e074764db8b6c3b457ac4a51ec",
       "toolbar_position": "left"
      }
     },
     "07bcfe384e2b4fd7a9e64c3362d5dc00": {
      "model_module": "@jupyter-widgets/base",
      "model_module_version": "1.2.0",
      "model_name": "LayoutModel",
      "state": {
       "width": "95%"
      }
     },
     "082dd225181241b48c2380c7f78f24ef": {
      "model_module": "@jupyter-widgets/base",
      "model_module_version": "1.2.0",
      "model_name": "LayoutModel",
      "state": {
       "width": "90%"
      }
     },
     "0947bc53e5a34d3f8084a7880f1a1e1b": {
      "model_module": "@jupyter-widgets/base",
      "model_module_version": "1.2.0",
      "model_name": "LayoutModel",
      "state": {}
     },
     "09d4eb0bac5f427498a75a23057bd1d8": {
      "model_module": "@jupyter-widgets/base",
      "model_module_version": "1.2.0",
      "model_name": "LayoutModel",
      "state": {
       "width": "90%"
      }
     },
     "0b30b8353d85422eb50cae4757ba28cf": {
      "model_module": "@jupyter-widgets/controls",
      "model_module_version": "1.5.0",
      "model_name": "FloatSliderModel",
      "state": {
       "description": "$f$",
       "layout": "IPY_MODEL_94464e707a29470fb064913799c357d8",
       "max": 15,
       "min": 0.5,
       "step": 0.5,
       "style": "IPY_MODEL_7121a930075d475e900b7ce4a90a2481",
       "value": 1
      }
     },
     "0b89bdb975e045c2bcc85bde68a56cc6": {
      "model_module": "@jupyter-widgets/base",
      "model_module_version": "1.2.0",
      "model_name": "LayoutModel",
      "state": {}
     },
     "0cfdc127e9c2482893420ef5683e9fd4": {
      "model_module": "@jupyter-widgets/controls",
      "model_module_version": "1.5.0",
      "model_name": "FloatSliderModel",
      "state": {
       "description": "$\\phi_2\\ (\\times \\pi)$",
       "layout": "IPY_MODEL_48b6b05c74674aaea31812745576e096",
       "max": 1,
       "min": -1,
       "step": 0.08333333333333333,
       "style": "IPY_MODEL_cbdb7df586c04abd96542dc2b43323a8",
       "value": 0.5
      }
     },
     "0eb5d716d3054a14a6a7d67872e73531": {
      "model_module": "@jupyter-widgets/base",
      "model_module_version": "1.2.0",
      "model_name": "LayoutModel",
      "state": {
       "width": "95%"
      }
     },
     "105ec10de94246b6bf9515b4d9ab7efa": {
      "model_module": "@jupyter-widgets/base",
      "model_module_version": "1.2.0",
      "model_name": "LayoutModel",
      "state": {
       "width": "90%"
      }
     },
     "10676e032dcf453d974c756be02d6535": {
      "model_module": "@jupyter-widgets/base",
      "model_module_version": "1.2.0",
      "model_name": "LayoutModel",
      "state": {}
     },
     "10701bcabaf44de6b665f6ddf334ec32": {
      "model_module": "@jupyter-widgets/output",
      "model_module_version": "1.0.0",
      "model_name": "OutputModel",
      "state": {
       "layout": "IPY_MODEL_e74bd2038db1436daef796b0f1aaaf02"
      }
     },
     "11fe95efcbed43eaa39e2a21442d2c81": {
      "model_module": "@jupyter-widgets/base",
      "model_module_version": "1.2.0",
      "model_name": "LayoutModel",
      "state": {
       "width": "95%"
      }
     },
     "1283e2051f794094bbcb06ecd71ecb18": {
      "model_module": "@jupyter-widgets/base",
      "model_module_version": "1.2.0",
      "model_name": "LayoutModel",
      "state": {}
     },
     "12b5e3099b3842ccb58dae71f99575f8": {
      "model_module": "@jupyter-widgets/base",
      "model_module_version": "1.2.0",
      "model_name": "LayoutModel",
      "state": {
       "width": "95%"
      }
     },
     "143b2514fb054feeba607fd34d5c0d7f": {
      "model_module": "@jupyter-widgets/controls",
      "model_module_version": "1.5.0",
      "model_name": "HBoxModel",
      "state": {
       "children": [
        "IPY_MODEL_eef6944d17fa46e096b5b585453994f7",
        "IPY_MODEL_f4b302f7b45140089f71edb35ac62508"
       ],
       "layout": "IPY_MODEL_2834f607ef24449d93e06e84b04f9aaf"
      }
     },
     "15963d2fc287402bb96ec9a7996d9f1b": {
      "model_module": "@jupyter-widgets/output",
      "model_module_version": "1.0.0",
      "model_name": "OutputModel",
      "state": {
       "layout": "IPY_MODEL_90edde70af7947929893eae0ce4f67f5"
      }
     },
     "162f9b47a7ca49bb95e3e309368cb033": {
      "model_module": "@jupyter-widgets/controls",
      "model_module_version": "1.5.0",
      "model_name": "SliderStyleModel",
      "state": {
       "description_width": ""
      }
     },
     "17d702c4e8f14d94919223b6d36f8dca": {
      "model_module": "@jupyter-widgets/base",
      "model_module_version": "1.2.0",
      "model_name": "LayoutModel",
      "state": {}
     },
     "1887d14470fd4bda8ab771f7e5f9fd27": {
      "model_module": "@jupyter-widgets/base",
      "model_module_version": "1.2.0",
      "model_name": "LayoutModel",
      "state": {
       "width": "100%"
      }
     },
     "1b21ab473e274fdb91108b4c4828fb2f": {
      "model_module": "@jupyter-widgets/controls",
      "model_module_version": "1.5.0",
      "model_name": "HBoxModel",
      "state": {
       "children": [
        "IPY_MODEL_322966e45d18465eb8dc803c51ee7435"
       ],
       "layout": "IPY_MODEL_8617cf4111c3439f8af6c1ee5cfc4fac"
      }
     },
     "1c817861b26b4731a48a0cd682a110d8": {
      "model_module": "@jupyter-widgets/base",
      "model_module_version": "1.2.0",
      "model_name": "LayoutModel",
      "state": {}
     },
     "1cdd8355ca6f44c69ee27eb4440f5134": {
      "model_module": "@jupyter-widgets/controls",
      "model_module_version": "1.5.0",
      "model_name": "HBoxModel",
      "state": {
       "children": [
        "IPY_MODEL_a55af3acd8854055ae5e9cd2f8c68fcc"
       ],
       "layout": "IPY_MODEL_ad90e8b81c854904ad44eddbfc84f9fe"
      }
     },
     "1d4402e11ff64f7d99407de9148e155a": {
      "model_module": "@jupyter-widgets/base",
      "model_module_version": "1.2.0",
      "model_name": "LayoutModel",
      "state": {
       "width": "95%"
      }
     },
     "1d60a358c6184eff8c083500e8f0c307": {
      "model_module": "jupyter-matplotlib",
      "model_module_version": "^0.9.0",
      "model_name": "ToolbarModel",
      "state": {
       "layout": "IPY_MODEL_8b609bf4e2f04fddab00ede9dd5d725b",
       "toolitems": [
        [
         "Home",
         "Reset original view",
         "home",
         "home"
        ],
        [
         "Back",
         "Back to previous view",
         "arrow-left",
         "back"
        ],
        [
         "Forward",
         "Forward to next view",
         "arrow-right",
         "forward"
        ],
        [
         "Pan",
         "Left button pans, Right button zooms\nx/y fixes axis, CTRL fixes aspect",
         "arrows",
         "pan"
        ],
        [
         "Zoom",
         "Zoom to rectangle\nx/y fixes axis, CTRL fixes aspect",
         "square-o",
         "zoom"
        ],
        [
         "Download",
         "Download plot",
         "floppy-o",
         "save_figure"
        ]
       ]
      }
     },
     "1e80a2f79b3940c087ab708a85390211": {
      "model_module": "@jupyter-widgets/controls",
      "model_module_version": "1.5.0",
      "model_name": "SliderStyleModel",
      "state": {
       "description_width": ""
      }
     },
     "210e28914ccb4dbe8dacf0e3551e2424": {
      "model_module": "@jupyter-widgets/base",
      "model_module_version": "1.2.0",
      "model_name": "LayoutModel",
      "state": {}
     },
     "214cfbf823494dd58c42b775ff552c29": {
      "model_module": "@jupyter-widgets/controls",
      "model_module_version": "1.5.0",
      "model_name": "FloatSliderModel",
      "state": {
       "description": "$f$",
       "layout": "IPY_MODEL_00e45c7f427244e1a9cb22e4da1bc6f3",
       "max": 15,
       "min": 0.5,
       "step": 0.5,
       "style": "IPY_MODEL_1e80a2f79b3940c087ab708a85390211",
       "value": 1
      }
     },
     "23272c29bfa541b09bcf88fd62beef79": {
      "model_module": "@jupyter-widgets/base",
      "model_module_version": "1.2.0",
      "model_name": "LayoutModel",
      "state": {
       "width": "95%"
      }
     },
     "2483b09820c6407ba3bcc670e7cf9be1": {
      "model_module": "jupyter-matplotlib",
      "model_module_version": "^0.9.0",
      "model_name": "MPLCanvasModel",
      "state": {
       "_cursor": "default",
       "_figure_label": "Figure 5",
       "_height": 700,
       "_image_mode": "diff",
       "_width": 700,
       "layout": "IPY_MODEL_43c3d0790cce47e1b88fff0497dcb6d9",
       "toolbar": "IPY_MODEL_ab4fcbddc8b34245a2478dce9179aff5",
       "toolbar_position": "left"
      }
     },
     "24c2615c4a534a00a1e00d189134a7ac": {
      "model_module": "@jupyter-widgets/base",
      "model_module_version": "1.2.0",
      "model_name": "LayoutModel",
      "state": {}
     },
     "2608aef6ee5748bfadb340f06c2c0600": {
      "model_module": "@jupyter-widgets/controls",
      "model_module_version": "1.5.0",
      "model_name": "HBoxModel",
      "state": {
       "children": [
        "IPY_MODEL_52945a1c8dc14e8dae424dc015e2ac63"
       ],
       "layout": "IPY_MODEL_286a4a97c06a4eb29ce67ebc3da9d2b5"
      }
     },
     "268d4a3c1b674d239aa6abeb91f619c0": {
      "model_module": "@jupyter-widgets/controls",
      "model_module_version": "1.5.0",
      "model_name": "SliderStyleModel",
      "state": {
       "description_width": ""
      }
     },
     "26bd40ccaf2d4464a1686d6b4ae0a1f7": {
      "model_module": "@jupyter-widgets/controls",
      "model_module_version": "1.5.0",
      "model_name": "SliderStyleModel",
      "state": {
       "description_width": ""
      }
     },
     "276da518309449e68838b370b8e333ce": {
      "model_module": "@jupyter-widgets/controls",
      "model_module_version": "1.5.0",
      "model_name": "FloatSliderModel",
      "state": {
       "description": "$\\phi (\\times \\pi)$",
       "layout": "IPY_MODEL_3e623d46f2b045e09202ef092d6d716e",
       "max": 1,
       "min": -1,
       "step": 0.08333333333333333,
       "style": "IPY_MODEL_40a5ea9e7ac74abbbbeafeab324254c1",
       "value": 0.5
      }
     },
     "27bee29ad0834d239db388502e002cb4": {
      "model_module": "@jupyter-widgets/base",
      "model_module_version": "1.2.0",
      "model_name": "LayoutModel",
      "state": {}
     },
     "27c0d3aa07f64283abfab568a0202233": {
      "model_module": "@jupyter-widgets/base",
      "model_module_version": "1.2.0",
      "model_name": "LayoutModel",
      "state": {}
     },
     "27ecebb3bf194c838c5d7250a1655f11": {
      "model_module": "@jupyter-widgets/controls",
      "model_module_version": "1.5.0",
      "model_name": "SliderStyleModel",
      "state": {
       "description_width": ""
      }
     },
     "2834f607ef24449d93e06e84b04f9aaf": {
      "model_module": "@jupyter-widgets/base",
      "model_module_version": "1.2.0",
      "model_name": "LayoutModel",
      "state": {
       "width": "100%"
      }
     },
     "286a4a97c06a4eb29ce67ebc3da9d2b5": {
      "model_module": "@jupyter-widgets/base",
      "model_module_version": "1.2.0",
      "model_name": "LayoutModel",
      "state": {
       "width": "100%"
      }
     },
     "29469e31e1ad43bd868f508d3e06bfb6": {
      "model_module": "@jupyter-widgets/base",
      "model_module_version": "1.2.0",
      "model_name": "LayoutModel",
      "state": {}
     },
     "2a17170c809a4245be4cb1388f1ac35a": {
      "model_module": "@jupyter-widgets/controls",
      "model_module_version": "1.5.0",
      "model_name": "FloatSliderModel",
      "state": {
       "description": "$\\phi_2\\ (\\times \\pi)$",
       "layout": "IPY_MODEL_c0f489691c1e499098df238a5bc1caf6",
       "max": 1,
       "min": -1,
       "step": 0.08333333333333333,
       "style": "IPY_MODEL_7e0bdb772e624324b92089972cd656f4",
       "value": 0.5
      }
     },
     "2c23204d7b2f405d89f043b2b718b75a": {
      "model_module": "@jupyter-widgets/base",
      "model_module_version": "1.2.0",
      "model_name": "LayoutModel",
      "state": {
       "width": "95%"
      }
     },
     "2d2e661c43b04d1d9e120cc5d1df44e7": {
      "model_module": "@jupyter-widgets/output",
      "model_module_version": "1.0.0",
      "model_name": "OutputModel",
      "state": {
       "layout": "IPY_MODEL_17d702c4e8f14d94919223b6d36f8dca"
      }
     },
     "31889fb2f9a94f5da82366e8f70a03e1": {
      "model_module": "@jupyter-widgets/output",
      "model_module_version": "1.0.0",
      "model_name": "OutputModel",
      "state": {
       "layout": "IPY_MODEL_1c817861b26b4731a48a0cd682a110d8"
      }
     },
     "31d3443bc24d4f19ad648a77fdb172ed": {
      "model_module": "@jupyter-widgets/base",
      "model_module_version": "1.2.0",
      "model_name": "LayoutModel",
      "state": {
       "width": "90%"
      }
     },
     "31ef1752c5f14d1c8f9ab5e13047679d": {
      "model_module": "@jupyter-widgets/output",
      "model_module_version": "1.0.0",
      "model_name": "OutputModel",
      "state": {
       "layout": "IPY_MODEL_ea2e0154d662427093c7e5c17eccfe1c"
      }
     },
     "322966e45d18465eb8dc803c51ee7435": {
      "model_module": "@jupyter-widgets/controls",
      "model_module_version": "1.5.0",
      "model_name": "FloatSliderModel",
      "state": {
       "description": "$N$",
       "layout": "IPY_MODEL_a19dd039a63340e3ac18ae287bf107c0",
       "max": 31,
       "min": 1,
       "step": 2,
       "style": "IPY_MODEL_c1e26ea9c4e94bd1bc0bb868c3ecc2a6",
       "value": 1
      }
     },
     "33ce03aaae5545af9fbff4a51dac6be3": {
      "model_module": "jupyter-matplotlib",
      "model_module_version": "^0.9.0",
      "model_name": "ToolbarModel",
      "state": {
       "layout": "IPY_MODEL_f79b3f33b81c468aa4e799be3477fb67",
       "toolitems": [
        [
         "Home",
         "Reset original view",
         "home",
         "home"
        ],
        [
         "Back",
         "Back to previous view",
         "arrow-left",
         "back"
        ],
        [
         "Forward",
         "Forward to next view",
         "arrow-right",
         "forward"
        ],
        [
         "Pan",
         "Left button pans, Right button zooms\nx/y fixes axis, CTRL fixes aspect",
         "arrows",
         "pan"
        ],
        [
         "Zoom",
         "Zoom to rectangle\nx/y fixes axis, CTRL fixes aspect",
         "square-o",
         "zoom"
        ],
        [
         "Download",
         "Download plot",
         "floppy-o",
         "save_figure"
        ]
       ]
      }
     },
     "36659d8a610c442eb14c382780c41472": {
      "model_module": "@jupyter-widgets/controls",
      "model_module_version": "1.5.0",
      "model_name": "SliderStyleModel",
      "state": {
       "description_width": ""
      }
     },
     "368f1d27e870448a943f3ea8cc5e4b47": {
      "model_module": "@jupyter-widgets/base",
      "model_module_version": "1.2.0",
      "model_name": "LayoutModel",
      "state": {
       "width": "95%"
      }
     },
     "3b83dfaccd4d43308444e876b1017420": {
      "model_module": "@jupyter-widgets/base",
      "model_module_version": "1.2.0",
      "model_name": "LayoutModel",
      "state": {
       "width": "90%"
      }
     },
     "3c27b3e6bec64e8a92ce714b73d6f75c": {
      "model_module": "@jupyter-widgets/output",
      "model_module_version": "1.0.0",
      "model_name": "OutputModel",
      "state": {
       "layout": "IPY_MODEL_56d6a55b6a4b4ce4a48439af97b4ac8e"
      }
     },
     "3cfc89f846924ba2bec2530799e66f92": {
      "model_module": "@jupyter-widgets/controls",
      "model_module_version": "1.5.0",
      "model_name": "VBoxModel",
      "state": {
       "children": [
        "IPY_MODEL_98aa102d21c14e29a4efc00ccd35f3ef"
       ],
       "layout": "IPY_MODEL_3b83dfaccd4d43308444e876b1017420"
      }
     },
     "3e623d46f2b045e09202ef092d6d716e": {
      "model_module": "@jupyter-widgets/base",
      "model_module_version": "1.2.0",
      "model_name": "LayoutModel",
      "state": {
       "width": "95%"
      }
     },
     "406f2b0cf2e3453aba1e9383ee44a593": {
      "model_module": "jupyter-matplotlib",
      "model_module_version": "^0.9.0",
      "model_name": "ToolbarModel",
      "state": {
       "layout": "IPY_MODEL_27bee29ad0834d239db388502e002cb4",
       "toolitems": [
        [
         "Home",
         "Reset original view",
         "home",
         "home"
        ],
        [
         "Back",
         "Back to previous view",
         "arrow-left",
         "back"
        ],
        [
         "Forward",
         "Forward to next view",
         "arrow-right",
         "forward"
        ],
        [
         "Pan",
         "Left button pans, Right button zooms\nx/y fixes axis, CTRL fixes aspect",
         "arrows",
         "pan"
        ],
        [
         "Zoom",
         "Zoom to rectangle\nx/y fixes axis, CTRL fixes aspect",
         "square-o",
         "zoom"
        ],
        [
         "Download",
         "Download plot",
         "floppy-o",
         "save_figure"
        ]
       ]
      }
     },
     "40a5ea9e7ac74abbbbeafeab324254c1": {
      "model_module": "@jupyter-widgets/controls",
      "model_module_version": "1.5.0",
      "model_name": "SliderStyleModel",
      "state": {
       "description_width": ""
      }
     },
     "423edf5f613d45e7a1f3abd41d6cd0ef": {
      "model_module": "jupyter-matplotlib",
      "model_module_version": "^0.9.0",
      "model_name": "ToolbarModel",
      "state": {
       "layout": "IPY_MODEL_73d3a8c1713a43fbb4af3a40a437677c",
       "toolitems": [
        [
         "Home",
         "Reset original view",
         "home",
         "home"
        ],
        [
         "Back",
         "Back to previous view",
         "arrow-left",
         "back"
        ],
        [
         "Forward",
         "Forward to next view",
         "arrow-right",
         "forward"
        ],
        [
         "Pan",
         "Left button pans, Right button zooms\nx/y fixes axis, CTRL fixes aspect",
         "arrows",
         "pan"
        ],
        [
         "Zoom",
         "Zoom to rectangle\nx/y fixes axis, CTRL fixes aspect",
         "square-o",
         "zoom"
        ],
        [
         "Download",
         "Download plot",
         "floppy-o",
         "save_figure"
        ]
       ]
      }
     },
     "43c3d0790cce47e1b88fff0497dcb6d9": {
      "model_module": "@jupyter-widgets/base",
      "model_module_version": "1.2.0",
      "model_name": "LayoutModel",
      "state": {}
     },
     "43e08f02743f48a2a6bcd59b166796de": {
      "model_module": "jupyter-matplotlib",
      "model_module_version": "^0.9.0",
      "model_name": "ToolbarModel",
      "state": {
       "layout": "IPY_MODEL_0b89bdb975e045c2bcc85bde68a56cc6",
       "toolitems": [
        [
         "Home",
         "Reset original view",
         "home",
         "home"
        ],
        [
         "Back",
         "Back to previous view",
         "arrow-left",
         "back"
        ],
        [
         "Forward",
         "Forward to next view",
         "arrow-right",
         "forward"
        ],
        [
         "Pan",
         "Left button pans, Right button zooms\nx/y fixes axis, CTRL fixes aspect",
         "arrows",
         "pan"
        ],
        [
         "Zoom",
         "Zoom to rectangle\nx/y fixes axis, CTRL fixes aspect",
         "square-o",
         "zoom"
        ],
        [
         "Download",
         "Download plot",
         "floppy-o",
         "save_figure"
        ]
       ]
      }
     },
     "44e6214a4b984796b8e6ab096abfbdc5": {
      "model_module": "@jupyter-widgets/base",
      "model_module_version": "1.2.0",
      "model_name": "LayoutModel",
      "state": {}
     },
     "45fac47a6b98469bb5a8d5f542493491": {
      "model_module": "@jupyter-widgets/controls",
      "model_module_version": "1.5.0",
      "model_name": "FloatSliderModel",
      "state": {
       "description": "$A$",
       "layout": "IPY_MODEL_fd1e2dfde8c04c669deb91499bc4baf2",
       "max": 2,
       "step": 0.1,
       "style": "IPY_MODEL_b923f9054de74085968f2f4553fda1f3",
       "value": 1
      }
     },
     "46580da556944c55bd8aec2d1b5edfd5": {
      "model_module": "@jupyter-widgets/base",
      "model_module_version": "1.2.0",
      "model_name": "LayoutModel",
      "state": {
       "width": "100%"
      }
     },
     "46c41bb537fa4cef8ce18d48c1b365e4": {
      "model_module": "@jupyter-widgets/base",
      "model_module_version": "1.2.0",
      "model_name": "LayoutModel",
      "state": {}
     },
     "473483f205124a3cb31d305cb9bb659b": {
      "model_module": "@jupyter-widgets/controls",
      "model_module_version": "1.5.0",
      "model_name": "SliderStyleModel",
      "state": {
       "description_width": ""
      }
     },
     "48b6b05c74674aaea31812745576e096": {
      "model_module": "@jupyter-widgets/base",
      "model_module_version": "1.2.0",
      "model_name": "LayoutModel",
      "state": {
       "width": "95%"
      }
     },
     "49c1bea419684344afbc7a4b98387eb1": {
      "model_module": "@jupyter-widgets/controls",
      "model_module_version": "1.5.0",
      "model_name": "SliderStyleModel",
      "state": {
       "description_width": ""
      }
     },
     "4b875b1cb5b04fdfbd5f1f83f945f7fe": {
      "model_module": "@jupyter-widgets/base",
      "model_module_version": "1.2.0",
      "model_name": "LayoutModel",
      "state": {}
     },
     "51066baa09354eabaae3a414e31022d4": {
      "model_module": "@jupyter-widgets/base",
      "model_module_version": "1.2.0",
      "model_name": "LayoutModel",
      "state": {}
     },
     "5134c82b6c45483ea6fb3dccc85e8413": {
      "model_module": "@jupyter-widgets/controls",
      "model_module_version": "1.5.0",
      "model_name": "FloatSliderModel",
      "state": {
       "description": "$Tid\\ \\ \\ t$",
       "layout": "IPY_MODEL_cc89046b901c42c8bed87cd7fc4da184",
       "max": 12,
       "step": 0.12,
       "style": "IPY_MODEL_c7937cd8aa154570af06cc9eec3e4428"
      }
     },
     "527ecbcaeb344ab68677dccfc6ab0b07": {
      "model_module": "jupyter-matplotlib",
      "model_module_version": "^0.9.0",
      "model_name": "MPLCanvasModel",
      "state": {
       "_cursor": "default",
       "_figure_label": "Figure 3",
       "_height": 700,
       "_image_mode": "diff",
       "_width": 700,
       "layout": "IPY_MODEL_a8c64d1c297a4675ad6a33d17200cd07",
       "toolbar": "IPY_MODEL_33ce03aaae5545af9fbff4a51dac6be3",
       "toolbar_position": "left"
      }
     },
     "52945a1c8dc14e8dae424dc015e2ac63": {
      "model_module": "@jupyter-widgets/controls",
      "model_module_version": "1.5.0",
      "model_name": "FloatSliderModel",
      "state": {
       "description": "$Tid\\ \\ \\ t$",
       "layout": "IPY_MODEL_7fc9b888e33b4ffb9b7f07136a175398",
       "max": 12,
       "step": 0.12,
       "style": "IPY_MODEL_9943286522f14ba9bee5124aa090baa5"
      }
     },
     "529fd9ca4baa4636b1de38fcfb73eab1": {
      "model_module": "@jupyter-widgets/controls",
      "model_module_version": "1.5.0",
      "model_name": "SliderStyleModel",
      "state": {
       "description_width": ""
      }
     },
     "53feeed2a39e4c0c8006108a199ee46f": {
      "model_module": "@jupyter-widgets/controls",
      "model_module_version": "1.5.0",
      "model_name": "HBoxModel",
      "state": {
       "children": [
        "IPY_MODEL_5134c82b6c45483ea6fb3dccc85e8413"
       ],
       "layout": "IPY_MODEL_1887d14470fd4bda8ab771f7e5f9fd27"
      }
     },
     "5400031e51b247d6a44d499d80b65fae": {
      "model_module": "@jupyter-widgets/controls",
      "model_module_version": "1.5.0",
      "model_name": "VBoxModel",
      "state": {
       "children": [
        "IPY_MODEL_a6c37220bee7434cb2a5b6b059f50ccf"
       ],
       "layout": "IPY_MODEL_70f243d9653d4f949de9d8991648e63a"
      }
     },
     "54404f9b717f4d0f8e5b18ed90bfc665": {
      "model_module": "@jupyter-widgets/base",
      "model_module_version": "1.2.0",
      "model_name": "LayoutModel",
      "state": {}
     },
     "5470648922904ea7bc166a559a620df9": {
      "model_module": "@jupyter-widgets/controls",
      "model_module_version": "1.5.0",
      "model_name": "FloatSliderModel",
      "state": {
       "description": "$A$",
       "layout": "IPY_MODEL_76377d72cad44c21aa14f9b1c25e4af8",
       "max": 2,
       "step": 0.1,
       "style": "IPY_MODEL_a28a45004bb64231989288efcd5c67f6",
       "value": 1
      }
     },
     "54c3ed0ff26f4e9d95e488486c8cf060": {
      "model_module": "@jupyter-widgets/output",
      "model_module_version": "1.0.0",
      "model_name": "OutputModel",
      "state": {
       "layout": "IPY_MODEL_b3b5c22da3c6450fb19a809e200428f8"
      }
     },
     "56d6a55b6a4b4ce4a48439af97b4ac8e": {
      "model_module": "@jupyter-widgets/base",
      "model_module_version": "1.2.0",
      "model_name": "LayoutModel",
      "state": {}
     },
     "56f41e49d08f47dbb86f9b109c9643a7": {
      "model_module": "@jupyter-widgets/base",
      "model_module_version": "1.2.0",
      "model_name": "LayoutModel",
      "state": {
       "width": "90%"
      }
     },
     "5753155d08854541a0eb5a14e6a6ee7e": {
      "model_module": "jupyter-matplotlib",
      "model_module_version": "^0.9.0",
      "model_name": "ToolbarModel",
      "state": {
       "layout": "IPY_MODEL_4b875b1cb5b04fdfbd5f1f83f945f7fe",
       "toolitems": [
        [
         "Home",
         "Reset original view",
         "home",
         "home"
        ],
        [
         "Back",
         "Back to previous view",
         "arrow-left",
         "back"
        ],
        [
         "Forward",
         "Forward to next view",
         "arrow-right",
         "forward"
        ],
        [
         "Pan",
         "Left button pans, Right button zooms\nx/y fixes axis, CTRL fixes aspect",
         "arrows",
         "pan"
        ],
        [
         "Zoom",
         "Zoom to rectangle\nx/y fixes axis, CTRL fixes aspect",
         "square-o",
         "zoom"
        ],
        [
         "Download",
         "Download plot",
         "floppy-o",
         "save_figure"
        ]
       ]
      }
     },
     "57668cac1ed34047a36450ba879317c3": {
      "model_module": "@jupyter-widgets/controls",
      "model_module_version": "1.5.0",
      "model_name": "VBoxModel",
      "state": {
       "children": [
        "IPY_MODEL_d7915affa9a142979fe4884b0b79438b"
       ],
       "layout": "IPY_MODEL_09d4eb0bac5f427498a75a23057bd1d8"
      }
     },
     "584f1681dac04d85b62b595e0d672ca1": {
      "model_module": "@jupyter-widgets/base",
      "model_module_version": "1.2.0",
      "model_name": "LayoutModel",
      "state": {}
     },
     "596716cf5b6241919d8388fd4dd5c799": {
      "model_module": "@jupyter-widgets/controls",
      "model_module_version": "1.5.0",
      "model_name": "FloatSliderModel",
      "state": {
       "description": "$A_1$",
       "layout": "IPY_MODEL_12b5e3099b3842ccb58dae71f99575f8",
       "max": 1,
       "step": 0.1,
       "style": "IPY_MODEL_d36bc3d8865449f38aa305825450b357",
       "value": 1
      }
     },
     "59bbd7e267254f329752bd2b8e74d6cb": {
      "model_module": "jupyter-matplotlib",
      "model_module_version": "^0.9.0",
      "model_name": "ToolbarModel",
      "state": {
       "layout": "IPY_MODEL_95b111c55d174aebac2466db1a78f9fc",
       "toolitems": [
        [
         "Home",
         "Reset original view",
         "home",
         "home"
        ],
        [
         "Back",
         "Back to previous view",
         "arrow-left",
         "back"
        ],
        [
         "Forward",
         "Forward to next view",
         "arrow-right",
         "forward"
        ],
        [
         "Pan",
         "Left button pans, Right button zooms\nx/y fixes axis, CTRL fixes aspect",
         "arrows",
         "pan"
        ],
        [
         "Zoom",
         "Zoom to rectangle\nx/y fixes axis, CTRL fixes aspect",
         "square-o",
         "zoom"
        ],
        [
         "Download",
         "Download plot",
         "floppy-o",
         "save_figure"
        ]
       ]
      }
     },
     "5b24339a093e411c93eca23e0a8d12e4": {
      "model_module": "@jupyter-widgets/base",
      "model_module_version": "1.2.0",
      "model_name": "LayoutModel",
      "state": {}
     },
     "5b40e74616ca4d8fa70b8b1206edf330": {
      "model_module": "@jupyter-widgets/controls",
      "model_module_version": "1.5.0",
      "model_name": "HBoxModel",
      "state": {
       "children": [
        "IPY_MODEL_92a47505996c4a738e7742fe919f396e",
        "IPY_MODEL_98ec18a7e26b4eebb94b2164eade42ee"
       ],
       "layout": "IPY_MODEL_e598ad4bff09493f8bc73ea5fbd2ebc4"
      }
     },
     "5cebef0e04194bce8c45476dcd7e73ee": {
      "model_module": "@jupyter-widgets/base",
      "model_module_version": "1.2.0",
      "model_name": "LayoutModel",
      "state": {}
     },
     "5e0f6a2a91e94086ac8479367d088302": {
      "model_module": "@jupyter-widgets/base",
      "model_module_version": "1.2.0",
      "model_name": "LayoutModel",
      "state": {
       "width": "95%"
      }
     },
     "5e47fa4f614c4172afd0b998078fa23c": {
      "model_module": "@jupyter-widgets/output",
      "model_module_version": "1.0.0",
      "model_name": "OutputModel",
      "state": {
       "layout": "IPY_MODEL_dbf11e152ae44601bb815e5e7681d27f"
      }
     },
     "5e792db5a0b24cb59ab42237fc6aa651": {
      "model_module": "@jupyter-widgets/base",
      "model_module_version": "1.2.0",
      "model_name": "LayoutModel",
      "state": {
       "width": "100%"
      }
     },
     "6062c5d81b5e4ee99f777d843c8e75cd": {
      "model_module": "@jupyter-widgets/base",
      "model_module_version": "1.2.0",
      "model_name": "LayoutModel",
      "state": {
       "width": "95%"
      }
     },
     "616468eddb1149de8315d3653e3e6222": {
      "model_module": "jupyter-matplotlib",
      "model_module_version": "^0.9.0",
      "model_name": "ToolbarModel",
      "state": {
       "layout": "IPY_MODEL_c5b9648dad1f46f5b59d8776f2daef27",
       "toolitems": [
        [
         "Home",
         "Reset original view",
         "home",
         "home"
        ],
        [
         "Back",
         "Back to previous view",
         "arrow-left",
         "back"
        ],
        [
         "Forward",
         "Forward to next view",
         "arrow-right",
         "forward"
        ],
        [
         "Pan",
         "Left button pans, Right button zooms\nx/y fixes axis, CTRL fixes aspect",
         "arrows",
         "pan"
        ],
        [
         "Zoom",
         "Zoom to rectangle\nx/y fixes axis, CTRL fixes aspect",
         "square-o",
         "zoom"
        ],
        [
         "Download",
         "Download plot",
         "floppy-o",
         "save_figure"
        ]
       ]
      }
     },
     "6299f2386e764bb1949f6d73ef5fa2dd": {
      "model_module": "@jupyter-widgets/controls",
      "model_module_version": "1.5.0",
      "model_name": "VBoxModel",
      "state": {
       "children": [
        "IPY_MODEL_c2d0f047a20f4c02b6d26681f6e25b38",
        "IPY_MODEL_73c99f369c7046188b325265e3854231"
       ],
       "layout": "IPY_MODEL_ac2eaec9679f448689c1ca5ab35989b6"
      }
     },
     "63963f615944495facfd55772682db3d": {
      "model_module": "jupyter-matplotlib",
      "model_module_version": "^0.9.0",
      "model_name": "ToolbarModel",
      "state": {
       "layout": "IPY_MODEL_ca17b9171d7d4bb58b6e8818c8308e6e",
       "toolitems": [
        [
         "Home",
         "Reset original view",
         "home",
         "home"
        ],
        [
         "Back",
         "Back to previous view",
         "arrow-left",
         "back"
        ],
        [
         "Forward",
         "Forward to next view",
         "arrow-right",
         "forward"
        ],
        [
         "Pan",
         "Left button pans, Right button zooms\nx/y fixes axis, CTRL fixes aspect",
         "arrows",
         "pan"
        ],
        [
         "Zoom",
         "Zoom to rectangle\nx/y fixes axis, CTRL fixes aspect",
         "square-o",
         "zoom"
        ],
        [
         "Download",
         "Download plot",
         "floppy-o",
         "save_figure"
        ]
       ]
      }
     },
     "65745ce43e7d4211bf19d9fcd256a490": {
      "model_module": "jupyter-matplotlib",
      "model_module_version": "^0.9.0",
      "model_name": "ToolbarModel",
      "state": {
       "layout": "IPY_MODEL_c4e0c965d26047f9a8c66568ce12a192",
       "toolitems": [
        [
         "Home",
         "Reset original view",
         "home",
         "home"
        ],
        [
         "Back",
         "Back to previous view",
         "arrow-left",
         "back"
        ],
        [
         "Forward",
         "Forward to next view",
         "arrow-right",
         "forward"
        ],
        [
         "Pan",
         "Left button pans, Right button zooms\nx/y fixes axis, CTRL fixes aspect",
         "arrows",
         "pan"
        ],
        [
         "Zoom",
         "Zoom to rectangle\nx/y fixes axis, CTRL fixes aspect",
         "square-o",
         "zoom"
        ],
        [
         "Download",
         "Download plot",
         "floppy-o",
         "save_figure"
        ]
       ]
      }
     },
     "66099887ab194fdbae57a664ca491985": {
      "model_module": "@jupyter-widgets/base",
      "model_module_version": "1.2.0",
      "model_name": "LayoutModel",
      "state": {
       "width": "95%"
      }
     },
     "66c9421fb07b4999acb1cb0678f7c6e2": {
      "model_module": "@jupyter-widgets/controls",
      "model_module_version": "1.5.0",
      "model_name": "FloatSliderModel",
      "state": {
       "description": "$\\phi_2\\ (\\times \\pi)$",
       "layout": "IPY_MODEL_9052c9f1a5e8411e89168964d90d4ae0",
       "max": 1,
       "min": -1,
       "step": 0.08333333333333333,
       "style": "IPY_MODEL_49c1bea419684344afbc7a4b98387eb1",
       "value": 0.5
      }
     },
     "67e8ac05ddfe4a0d83c503f0ad3a9861": {
      "model_module": "jupyter-matplotlib",
      "model_module_version": "^0.9.0",
      "model_name": "MPLCanvasModel",
      "state": {
       "_cursor": "default",
       "_figure_label": "Figure 2",
       "_height": 500,
       "_image_mode": "diff",
       "_width": 1200,
       "layout": "IPY_MODEL_c8153bee03224cb19d3c41eb8b3ceb9b",
       "toolbar": "IPY_MODEL_9fbeb849afb24e4e9c4a5504f2d7762d",
       "toolbar_position": "left"
      }
     },
     "69447098976244f38ca83c299db43216": {
      "model_module": "@jupyter-widgets/controls",
      "model_module_version": "1.5.0",
      "model_name": "FloatSliderModel",
      "state": {
       "description": "$A_1$",
       "layout": "IPY_MODEL_ca4f89031f8c4aebbdba530cc71357b0",
       "max": 1,
       "step": 0.1,
       "style": "IPY_MODEL_f290ab814b334bd1bc6201473d17edcc",
       "value": 1
      }
     },
     "69c7232f93e845ac89b1e5d7b921e1f8": {
      "model_module": "@jupyter-widgets/controls",
      "model_module_version": "1.5.0",
      "model_name": "VBoxModel",
      "state": {
       "children": [
        "IPY_MODEL_e57791ad261041c5b1e1beabdcd74b49"
       ],
       "layout": "IPY_MODEL_c98ca48407ae42c7a387d61067e94deb"
      }
     },
     "6d26af10f3d64380a15a95429e46cb9e": {
      "model_module": "@jupyter-widgets/controls",
      "model_module_version": "1.5.0",
      "model_name": "FloatSliderModel",
      "state": {
       "description": "$\\phi_1\\ (\\times \\pi)$",
       "layout": "IPY_MODEL_bdd50dc8291b4144b3f2ef332543358f",
       "max": 1,
       "min": -1,
       "step": 0.08333333333333333,
       "style": "IPY_MODEL_473483f205124a3cb31d305cb9bb659b",
       "value": 0.5
      }
     },
     "6d651ae12c654c01a0333c2f04b48e00": {
      "model_module": "jupyter-matplotlib",
      "model_module_version": "^0.9.0",
      "model_name": "ToolbarModel",
      "state": {
       "layout": "IPY_MODEL_b7ba872f1d5141bb824610412793116b",
       "toolitems": [
        [
         "Home",
         "Reset original view",
         "home",
         "home"
        ],
        [
         "Back",
         "Back to previous view",
         "arrow-left",
         "back"
        ],
        [
         "Forward",
         "Forward to next view",
         "arrow-right",
         "forward"
        ],
        [
         "Pan",
         "Left button pans, Right button zooms\nx/y fixes axis, CTRL fixes aspect",
         "arrows",
         "pan"
        ],
        [
         "Zoom",
         "Zoom to rectangle\nx/y fixes axis, CTRL fixes aspect",
         "square-o",
         "zoom"
        ],
        [
         "Download",
         "Download plot",
         "floppy-o",
         "save_figure"
        ]
       ]
      }
     },
     "6f539cc29f844c1e93acb22151db3bc1": {
      "model_module": "@jupyter-widgets/output",
      "model_module_version": "1.0.0",
      "model_name": "OutputModel",
      "state": {
       "layout": "IPY_MODEL_24c2615c4a534a00a1e00d189134a7ac"
      }
     },
     "70f243d9653d4f949de9d8991648e63a": {
      "model_module": "@jupyter-widgets/base",
      "model_module_version": "1.2.0",
      "model_name": "LayoutModel",
      "state": {
       "width": "90%"
      }
     },
     "71003c10db154b79a72b6c33853cb156": {
      "model_module": "@jupyter-widgets/controls",
      "model_module_version": "1.5.0",
      "model_name": "HBoxModel",
      "state": {
       "children": [
        "IPY_MODEL_cafacccdf38840eabbe0eef05247281d",
        "IPY_MODEL_ca6eb669636f47949d3303f9874f8a13"
       ],
       "layout": "IPY_MODEL_d26b712de1c646ec895ecbad56a7e596"
      }
     },
     "7121a930075d475e900b7ce4a90a2481": {
      "model_module": "@jupyter-widgets/controls",
      "model_module_version": "1.5.0",
      "model_name": "SliderStyleModel",
      "state": {
       "description_width": ""
      }
     },
     "73c99f369c7046188b325265e3854231": {
      "model_module": "@jupyter-widgets/controls",
      "model_module_version": "1.5.0",
      "model_name": "HBoxModel",
      "state": {
       "children": [
        "IPY_MODEL_e29ed7ce053b4ba89a5b40291ddaea0d",
        "IPY_MODEL_66c9421fb07b4999acb1cb0678f7c6e2"
       ],
       "layout": "IPY_MODEL_7875a6b0aa364e0c820a3b3dbeee88c4"
      }
     },
     "73d3a8c1713a43fbb4af3a40a437677c": {
      "model_module": "@jupyter-widgets/base",
      "model_module_version": "1.2.0",
      "model_name": "LayoutModel",
      "state": {}
     },
     "74b85433765d47c4aa774ed5a7579aff": {
      "model_module": "@jupyter-widgets/base",
      "model_module_version": "1.2.0",
      "model_name": "LayoutModel",
      "state": {
       "width": "90%"
      }
     },
     "76377d72cad44c21aa14f9b1c25e4af8": {
      "model_module": "@jupyter-widgets/base",
      "model_module_version": "1.2.0",
      "model_name": "LayoutModel",
      "state": {
       "width": "95%"
      }
     },
     "7683a07ccacb440ea51571bc555dcb76": {
      "model_module": "@jupyter-widgets/base",
      "model_module_version": "1.2.0",
      "model_name": "LayoutModel",
      "state": {
       "width": "95%"
      }
     },
     "76ec29dcb5c34d0899eb6217becf4a59": {
      "model_module": "@jupyter-widgets/base",
      "model_module_version": "1.2.0",
      "model_name": "LayoutModel",
      "state": {
       "width": "100%"
      }
     },
     "7875a6b0aa364e0c820a3b3dbeee88c4": {
      "model_module": "@jupyter-widgets/base",
      "model_module_version": "1.2.0",
      "model_name": "LayoutModel",
      "state": {
       "width": "100%"
      }
     },
     "78be856fba13474082b65c4f9075425b": {
      "model_module": "@jupyter-widgets/base",
      "model_module_version": "1.2.0",
      "model_name": "LayoutModel",
      "state": {}
     },
     "78f5b506182440e18f5ba07b5a17e6e1": {
      "model_module": "@jupyter-widgets/base",
      "model_module_version": "1.2.0",
      "model_name": "LayoutModel",
      "state": {
       "width": "95%"
      }
     },
     "7e0bdb772e624324b92089972cd656f4": {
      "model_module": "@jupyter-widgets/controls",
      "model_module_version": "1.5.0",
      "model_name": "SliderStyleModel",
      "state": {
       "description_width": ""
      }
     },
     "7e2a32dc86714c399d640f7fa7922847": {
      "model_module": "@jupyter-widgets/controls",
      "model_module_version": "1.5.0",
      "model_name": "FloatSliderModel",
      "state": {
       "description": "$\\phi (\\times \\pi)$",
       "layout": "IPY_MODEL_7683a07ccacb440ea51571bc555dcb76",
       "max": 1,
       "min": -1,
       "step": 0.08333333333333333,
       "style": "IPY_MODEL_f363a15b01af401a806ae10d2f8abaff",
       "value": 0.5
      }
     },
     "7fc9b888e33b4ffb9b7f07136a175398": {
      "model_module": "@jupyter-widgets/base",
      "model_module_version": "1.2.0",
      "model_name": "LayoutModel",
      "state": {
       "width": "95%"
      }
     },
     "81c69a1dbc4f4fb597b1274035d1e090": {
      "model_module": "@jupyter-widgets/base",
      "model_module_version": "1.2.0",
      "model_name": "LayoutModel",
      "state": {}
     },
     "81fe4ba4664c4215ab591c57860b24ee": {
      "model_module": "@jupyter-widgets/controls",
      "model_module_version": "1.5.0",
      "model_name": "SliderStyleModel",
      "state": {
       "description_width": ""
      }
     },
     "83c2a51a9f3340ae95cc0caea5fbea27": {
      "model_module": "@jupyter-widgets/base",
      "model_module_version": "1.2.0",
      "model_name": "LayoutModel",
      "state": {}
     },
     "84cc601c433549eebfa9090df28f111c": {
      "model_module": "@jupyter-widgets/output",
      "model_module_version": "1.0.0",
      "model_name": "OutputModel",
      "state": {
       "layout": "IPY_MODEL_90fb3ba6985a47eea23c3e7107a4db64"
      }
     },
     "852e2cf5f94a4ddf98c35bf77433182b": {
      "model_module": "@jupyter-widgets/base",
      "model_module_version": "1.2.0",
      "model_name": "LayoutModel",
      "state": {}
     },
     "8617cf4111c3439f8af6c1ee5cfc4fac": {
      "model_module": "@jupyter-widgets/base",
      "model_module_version": "1.2.0",
      "model_name": "LayoutModel",
      "state": {
       "width": "100%"
      }
     },
     "88b0ef8b0cd24e2d8c659b9e07f7a703": {
      "model_module": "@jupyter-widgets/base",
      "model_module_version": "1.2.0",
      "model_name": "LayoutModel",
      "state": {
       "width": "100%"
      }
     },
     "88d8eef14a324bebafd4a984b2f04ae9": {
      "model_module": "@jupyter-widgets/controls",
      "model_module_version": "1.5.0",
      "model_name": "VBoxModel",
      "state": {
       "children": [
        "IPY_MODEL_da1c91093f064999bbe48bce8fa10756"
       ],
       "layout": "IPY_MODEL_f73bf6ddf5cc4853833a4a9c5332a4a3"
      }
     },
     "8b609bf4e2f04fddab00ede9dd5d725b": {
      "model_module": "@jupyter-widgets/base",
      "model_module_version": "1.2.0",
      "model_name": "LayoutModel",
      "state": {}
     },
     "8bea758ec2f54d64a86882ada1c680fd": {
      "model_module": "@jupyter-widgets/controls",
      "model_module_version": "1.5.0",
      "model_name": "SliderStyleModel",
      "state": {
       "description_width": ""
      }
     },
     "8c0a0628c0d44aa684eb501524ea3612": {
      "model_module": "@jupyter-widgets/output",
      "model_module_version": "1.0.0",
      "model_name": "OutputModel",
      "state": {
       "layout": "IPY_MODEL_81c69a1dbc4f4fb597b1274035d1e090"
      }
     },
     "8c417955eee6446bb2551b85a21f7adc": {
      "model_module": "@jupyter-widgets/base",
      "model_module_version": "1.2.0",
      "model_name": "LayoutModel",
      "state": {}
     },
     "8fc569fa471b420d8ec076b3ddd2365f": {
      "model_module": "@jupyter-widgets/controls",
      "model_module_version": "1.5.0",
      "model_name": "FloatSliderModel",
      "state": {
       "description": "$N$",
       "layout": "IPY_MODEL_23272c29bfa541b09bcf88fd62beef79",
       "max": 31,
       "min": 1,
       "step": 2,
       "style": "IPY_MODEL_27ecebb3bf194c838c5d7250a1655f11",
       "value": 1
      }
     },
     "9052c9f1a5e8411e89168964d90d4ae0": {
      "model_module": "@jupyter-widgets/base",
      "model_module_version": "1.2.0",
      "model_name": "LayoutModel",
      "state": {
       "width": "95%"
      }
     },
     "90e2a14ca2e74870a227deb77ea708e6": {
      "model_module": "@jupyter-widgets/base",
      "model_module_version": "1.2.0",
      "model_name": "LayoutModel",
      "state": {}
     },
     "90edde70af7947929893eae0ce4f67f5": {
      "model_module": "@jupyter-widgets/base",
      "model_module_version": "1.2.0",
      "model_name": "LayoutModel",
      "state": {}
     },
     "90fb3ba6985a47eea23c3e7107a4db64": {
      "model_module": "@jupyter-widgets/base",
      "model_module_version": "1.2.0",
      "model_name": "LayoutModel",
      "state": {}
     },
     "92a47505996c4a738e7742fe919f396e": {
      "model_module": "@jupyter-widgets/controls",
      "model_module_version": "1.5.0",
      "model_name": "FloatSliderModel",
      "state": {
       "description": "$r$",
       "layout": "IPY_MODEL_11fe95efcbed43eaa39e2a21442d2c81",
       "max": 1.3,
       "min": 0.3,
       "step": 0.1,
       "style": "IPY_MODEL_d24c2016a00b46c5a7f883f09a432c6f",
       "value": 1
      }
     },
     "94464e707a29470fb064913799c357d8": {
      "model_module": "@jupyter-widgets/base",
      "model_module_version": "1.2.0",
      "model_name": "LayoutModel",
      "state": {
       "width": "95%"
      }
     },
     "95b111c55d174aebac2466db1a78f9fc": {
      "model_module": "@jupyter-widgets/base",
      "model_module_version": "1.2.0",
      "model_name": "LayoutModel",
      "state": {}
     },
     "98411a7bfaa249708c7dafd3aafed3f4": {
      "model_module": "@jupyter-widgets/base",
      "model_module_version": "1.2.0",
      "model_name": "LayoutModel",
      "state": {
       "width": "100%"
      }
     },
     "98aa102d21c14e29a4efc00ccd35f3ef": {
      "model_module": "@jupyter-widgets/controls",
      "model_module_version": "1.5.0",
      "model_name": "HBoxModel",
      "state": {
       "children": [
        "IPY_MODEL_45fac47a6b98469bb5a8d5f542493491",
        "IPY_MODEL_0b30b8353d85422eb50cae4757ba28cf",
        "IPY_MODEL_7e2a32dc86714c399d640f7fa7922847"
       ],
       "layout": "IPY_MODEL_98411a7bfaa249708c7dafd3aafed3f4"
      }
     },
     "98bbbbb87b674c5abe9fa9e748d42d7f": {
      "model_module": "@jupyter-widgets/output",
      "model_module_version": "1.0.0",
      "model_name": "OutputModel",
      "state": {
       "layout": "IPY_MODEL_048a24102b1c4b3d96cc2672764f8924"
      }
     },
     "98ec18a7e26b4eebb94b2164eade42ee": {
      "model_module": "@jupyter-widgets/controls",
      "model_module_version": "1.5.0",
      "model_name": "FloatSliderModel",
      "state": {
       "description": "$\\phi\\ (\\times\\ \\pi)$",
       "layout": "IPY_MODEL_78f5b506182440e18f5ba07b5a17e6e1",
       "max": 1,
       "min": -1,
       "step": 0.08333333333333333,
       "style": "IPY_MODEL_529fd9ca4baa4636b1de38fcfb73eab1",
       "value": 0.25
      }
     },
     "9940f2d3eeca486c91adb0c539100b9e": {
      "model_module": "@jupyter-widgets/controls",
      "model_module_version": "1.5.0",
      "model_name": "HBoxModel",
      "state": {
       "children": [
        "IPY_MODEL_e06b3a63575e4495a435ab96781b1634",
        "IPY_MODEL_0cfdc127e9c2482893420ef5683e9fd4"
       ],
       "layout": "IPY_MODEL_46580da556944c55bd8aec2d1b5edfd5"
      }
     },
     "9943286522f14ba9bee5124aa090baa5": {
      "model_module": "@jupyter-widgets/controls",
      "model_module_version": "1.5.0",
      "model_name": "SliderStyleModel",
      "state": {
       "description_width": ""
      }
     },
     "99b99441e70a4865b074fdd51bdf3d4c": {
      "model_module": "@jupyter-widgets/base",
      "model_module_version": "1.2.0",
      "model_name": "LayoutModel",
      "state": {
       "width": "90%"
      }
     },
     "9b65f7919bd34027b0e45dd712e12a36": {
      "model_module": "jupyter-matplotlib",
      "model_module_version": "^0.9.0",
      "model_name": "ToolbarModel",
      "state": {
       "layout": "IPY_MODEL_83c2a51a9f3340ae95cc0caea5fbea27",
       "toolitems": [
        [
         "Home",
         "Reset original view",
         "home",
         "home"
        ],
        [
         "Back",
         "Back to previous view",
         "arrow-left",
         "back"
        ],
        [
         "Forward",
         "Forward to next view",
         "arrow-right",
         "forward"
        ],
        [
         "Pan",
         "Left button pans, Right button zooms\nx/y fixes axis, CTRL fixes aspect",
         "arrows",
         "pan"
        ],
        [
         "Zoom",
         "Zoom to rectangle\nx/y fixes axis, CTRL fixes aspect",
         "square-o",
         "zoom"
        ],
        [
         "Download",
         "Download plot",
         "floppy-o",
         "save_figure"
        ]
       ]
      }
     },
     "9c22da670a3044468b790d9cd07874fd": {
      "model_module": "@jupyter-widgets/controls",
      "model_module_version": "1.5.0",
      "model_name": "SliderStyleModel",
      "state": {
       "description_width": ""
      }
     },
     "9ca0cd9bf5d6472385930d4feacdfae4": {
      "model_module": "@jupyter-widgets/base",
      "model_module_version": "1.2.0",
      "model_name": "LayoutModel",
      "state": {
       "width": "100%"
      }
     },
     "9dba94cdde3541dd890230e38596bf6e": {
      "model_module": "@jupyter-widgets/base",
      "model_module_version": "1.2.0",
      "model_name": "LayoutModel",
      "state": {
       "width": "100%"
      }
     },
     "9e83f52e4ac1470b905a5eecd58080da": {
      "model_module": "@jupyter-widgets/controls",
      "model_module_version": "1.5.0",
      "model_name": "VBoxModel",
      "state": {
       "children": [
        "IPY_MODEL_71003c10db154b79a72b6c33853cb156",
        "IPY_MODEL_9940f2d3eeca486c91adb0c539100b9e"
       ],
       "layout": "IPY_MODEL_31d3443bc24d4f19ad648a77fdb172ed"
      }
     },
     "9f2667a861ef4f5ca78fb3be841a76cc": {
      "model_module": "@jupyter-widgets/base",
      "model_module_version": "1.2.0",
      "model_name": "LayoutModel",
      "state": {
       "width": "95%"
      }
     },
     "9fbeb849afb24e4e9c4a5504f2d7762d": {
      "model_module": "jupyter-matplotlib",
      "model_module_version": "^0.9.0",
      "model_name": "ToolbarModel",
      "state": {
       "layout": "IPY_MODEL_78be856fba13474082b65c4f9075425b",
       "toolitems": [
        [
         "Home",
         "Reset original view",
         "home",
         "home"
        ],
        [
         "Back",
         "Back to previous view",
         "arrow-left",
         "back"
        ],
        [
         "Forward",
         "Forward to next view",
         "arrow-right",
         "forward"
        ],
        [
         "Pan",
         "Left button pans, Right button zooms\nx/y fixes axis, CTRL fixes aspect",
         "arrows",
         "pan"
        ],
        [
         "Zoom",
         "Zoom to rectangle\nx/y fixes axis, CTRL fixes aspect",
         "square-o",
         "zoom"
        ],
        [
         "Download",
         "Download plot",
         "floppy-o",
         "save_figure"
        ]
       ]
      }
     },
     "a182ad3b99394b748f84d3152a7ac39c": {
      "model_module": "@jupyter-widgets/controls",
      "model_module_version": "1.5.0",
      "model_name": "VBoxModel",
      "state": {
       "children": [
        "IPY_MODEL_143b2514fb054feeba607fd34d5c0d7f"
       ],
       "layout": "IPY_MODEL_c1aded46dbe34c1d975150bf5afff127"
      }
     },
     "a19dd039a63340e3ac18ae287bf107c0": {
      "model_module": "@jupyter-widgets/base",
      "model_module_version": "1.2.0",
      "model_name": "LayoutModel",
      "state": {
       "width": "95%"
      }
     },
     "a28a45004bb64231989288efcd5c67f6": {
      "model_module": "@jupyter-widgets/controls",
      "model_module_version": "1.5.0",
      "model_name": "SliderStyleModel",
      "state": {
       "description_width": ""
      }
     },
     "a55af3acd8854055ae5e9cd2f8c68fcc": {
      "model_module": "@jupyter-widgets/controls",
      "model_module_version": "1.5.0",
      "model_name": "FloatSliderModel",
      "state": {
       "description": "$Tid\\ \\ \\ t$",
       "layout": "IPY_MODEL_5e0f6a2a91e94086ac8479367d088302",
       "max": 12,
       "step": 0.12,
       "style": "IPY_MODEL_81fe4ba4664c4215ab591c57860b24ee"
      }
     },
     "a67a694055274aad81f82994f2101295": {
      "model_module": "@jupyter-widgets/base",
      "model_module_version": "1.2.0",
      "model_name": "LayoutModel",
      "state": {
       "width": "95%"
      }
     },
     "a6c37220bee7434cb2a5b6b059f50ccf": {
      "model_module": "@jupyter-widgets/controls",
      "model_module_version": "1.5.0",
      "model_name": "HBoxModel",
      "state": {
       "children": [
        "IPY_MODEL_8fc569fa471b420d8ec076b3ddd2365f"
       ],
       "layout": "IPY_MODEL_9dba94cdde3541dd890230e38596bf6e"
      }
     },
     "a8aa8266b5cb413f9f4c5542096b9acf": {
      "model_module": "@jupyter-widgets/base",
      "model_module_version": "1.2.0",
      "model_name": "LayoutModel",
      "state": {}
     },
     "a8c64d1c297a4675ad6a33d17200cd07": {
      "model_module": "@jupyter-widgets/base",
      "model_module_version": "1.2.0",
      "model_name": "LayoutModel",
      "state": {}
     },
     "ab4fcbddc8b34245a2478dce9179aff5": {
      "model_module": "jupyter-matplotlib",
      "model_module_version": "^0.9.0",
      "model_name": "ToolbarModel",
      "state": {
       "layout": "IPY_MODEL_29469e31e1ad43bd868f508d3e06bfb6",
       "toolitems": [
        [
         "Home",
         "Reset original view",
         "home",
         "home"
        ],
        [
         "Back",
         "Back to previous view",
         "arrow-left",
         "back"
        ],
        [
         "Forward",
         "Forward to next view",
         "arrow-right",
         "forward"
        ],
        [
         "Pan",
         "Left button pans, Right button zooms\nx/y fixes axis, CTRL fixes aspect",
         "arrows",
         "pan"
        ],
        [
         "Zoom",
         "Zoom to rectangle\nx/y fixes axis, CTRL fixes aspect",
         "square-o",
         "zoom"
        ],
        [
         "Download",
         "Download plot",
         "floppy-o",
         "save_figure"
        ]
       ]
      }
     },
     "ab691d262c0542edb23fefb3dcb65055": {
      "model_module": "@jupyter-widgets/base",
      "model_module_version": "1.2.0",
      "model_name": "LayoutModel",
      "state": {
       "width": "100%"
      }
     },
     "ac2eaec9679f448689c1ca5ab35989b6": {
      "model_module": "@jupyter-widgets/base",
      "model_module_version": "1.2.0",
      "model_name": "LayoutModel",
      "state": {
       "width": "90%"
      }
     },
     "ad90e8b81c854904ad44eddbfc84f9fe": {
      "model_module": "@jupyter-widgets/base",
      "model_module_version": "1.2.0",
      "model_name": "LayoutModel",
      "state": {
       "width": "100%"
      }
     },
     "aff8a07b21bf4c3a9404fa162101cd16": {
      "model_module": "@jupyter-widgets/output",
      "model_module_version": "1.0.0",
      "model_name": "OutputModel",
      "state": {
       "layout": "IPY_MODEL_8c417955eee6446bb2551b85a21f7adc"
      }
     },
     "b006ae20f50448e0860256af186a9729": {
      "model_module": "@jupyter-widgets/controls",
      "model_module_version": "1.5.0",
      "model_name": "FloatSliderModel",
      "state": {
       "description": "$A_2$",
       "layout": "IPY_MODEL_e1326a73a3b149cca3a30c55549ac57e",
       "max": 1,
       "step": 0.1,
       "style": "IPY_MODEL_d561ca7e22a948d8b49694296d2b11aa",
       "value": 1
      }
     },
     "b3b5c22da3c6450fb19a809e200428f8": {
      "model_module": "@jupyter-widgets/base",
      "model_module_version": "1.2.0",
      "model_name": "LayoutModel",
      "state": {}
     },
     "b7ba872f1d5141bb824610412793116b": {
      "model_module": "@jupyter-widgets/base",
      "model_module_version": "1.2.0",
      "model_name": "LayoutModel",
      "state": {}
     },
     "b923f9054de74085968f2f4553fda1f3": {
      "model_module": "@jupyter-widgets/controls",
      "model_module_version": "1.5.0",
      "model_name": "SliderStyleModel",
      "state": {
       "description_width": ""
      }
     },
     "bb6757d974364f248bc0339ce446c2dd": {
      "model_module": "@jupyter-widgets/base",
      "model_module_version": "1.2.0",
      "model_name": "LayoutModel",
      "state": {}
     },
     "bbc5401240a640a8bfb6d089e77eb43b": {
      "model_module": "jupyter-matplotlib",
      "model_module_version": "^0.9.0",
      "model_name": "ToolbarModel",
      "state": {
       "layout": "IPY_MODEL_d5470f58b3fc499da40109137cf84908",
       "toolitems": [
        [
         "Home",
         "Reset original view",
         "home",
         "home"
        ],
        [
         "Back",
         "Back to previous view",
         "arrow-left",
         "back"
        ],
        [
         "Forward",
         "Forward to next view",
         "arrow-right",
         "forward"
        ],
        [
         "Pan",
         "Left button pans, Right button zooms\nx/y fixes axis, CTRL fixes aspect",
         "arrows",
         "pan"
        ],
        [
         "Zoom",
         "Zoom to rectangle\nx/y fixes axis, CTRL fixes aspect",
         "square-o",
         "zoom"
        ],
        [
         "Download",
         "Download plot",
         "floppy-o",
         "save_figure"
        ]
       ]
      }
     },
     "bd0f221fa0c64dbbb835d67676927533": {
      "model_module": "@jupyter-widgets/controls",
      "model_module_version": "1.5.0",
      "model_name": "SliderStyleModel",
      "state": {
       "description_width": ""
      }
     },
     "bdd50dc8291b4144b3f2ef332543358f": {
      "model_module": "@jupyter-widgets/base",
      "model_module_version": "1.2.0",
      "model_name": "LayoutModel",
      "state": {
       "width": "95%"
      }
     },
     "be7e73723b304859ba5731a4a439e546": {
      "model_module": "jupyter-matplotlib",
      "model_module_version": "^0.9.0",
      "model_name": "ToolbarModel",
      "state": {
       "layout": "IPY_MODEL_1283e2051f794094bbcb06ecd71ecb18",
       "toolitems": [
        [
         "Home",
         "Reset original view",
         "home",
         "home"
        ],
        [
         "Back",
         "Back to previous view",
         "arrow-left",
         "back"
        ],
        [
         "Forward",
         "Forward to next view",
         "arrow-right",
         "forward"
        ],
        [
         "Pan",
         "Left button pans, Right button zooms\nx/y fixes axis, CTRL fixes aspect",
         "arrows",
         "pan"
        ],
        [
         "Zoom",
         "Zoom to rectangle\nx/y fixes axis, CTRL fixes aspect",
         "square-o",
         "zoom"
        ],
        [
         "Download",
         "Download plot",
         "floppy-o",
         "save_figure"
        ]
       ]
      }
     },
     "be7fbd53ef564b219ff1b7fdbc68e015": {
      "model_module": "@jupyter-widgets/controls",
      "model_module_version": "1.5.0",
      "model_name": "VBoxModel",
      "state": {
       "children": [
        "IPY_MODEL_1cdd8355ca6f44c69ee27eb4440f5134"
       ],
       "layout": "IPY_MODEL_74b85433765d47c4aa774ed5a7579aff"
      }
     },
     "beafe7d91c0e43fd8a6f816a0d83953c": {
      "model_module": "@jupyter-widgets/controls",
      "model_module_version": "1.5.0",
      "model_name": "FloatSliderModel",
      "state": {
       "description": "$A$",
       "layout": "IPY_MODEL_00ec040fe0054e95ac39c4979e6b97b4",
       "max": 2,
       "step": 0.1,
       "style": "IPY_MODEL_36659d8a610c442eb14c382780c41472",
       "value": 1
      }
     },
     "c00c63fee7e84127944899b805e14317": {
      "model_module": "@jupyter-widgets/output",
      "model_module_version": "1.0.0",
      "model_name": "OutputModel",
      "state": {
       "layout": "IPY_MODEL_cfd4abe15dcd4eb992ab52bbd0478cad"
      }
     },
     "c0f489691c1e499098df238a5bc1caf6": {
      "model_module": "@jupyter-widgets/base",
      "model_module_version": "1.2.0",
      "model_name": "LayoutModel",
      "state": {
       "width": "95%"
      }
     },
     "c157f93b0039492a8e8001639f5586bf": {
      "model_module": "@jupyter-widgets/controls",
      "model_module_version": "1.5.0",
      "model_name": "VBoxModel",
      "state": {
       "children": [
        "IPY_MODEL_1b21ab473e274fdb91108b4c4828fb2f"
       ],
       "layout": "IPY_MODEL_99b99441e70a4865b074fdd51bdf3d4c"
      }
     },
     "c167b3e074764db8b6c3b457ac4a51ec": {
      "model_module": "jupyter-matplotlib",
      "model_module_version": "^0.9.0",
      "model_name": "ToolbarModel",
      "state": {
       "layout": "IPY_MODEL_10676e032dcf453d974c756be02d6535",
       "toolitems": [
        [
         "Home",
         "Reset original view",
         "home",
         "home"
        ],
        [
         "Back",
         "Back to previous view",
         "arrow-left",
         "back"
        ],
        [
         "Forward",
         "Forward to next view",
         "arrow-right",
         "forward"
        ],
        [
         "Pan",
         "Left button pans, Right button zooms\nx/y fixes axis, CTRL fixes aspect",
         "arrows",
         "pan"
        ],
        [
         "Zoom",
         "Zoom to rectangle\nx/y fixes axis, CTRL fixes aspect",
         "square-o",
         "zoom"
        ],
        [
         "Download",
         "Download plot",
         "floppy-o",
         "save_figure"
        ]
       ]
      }
     },
     "c1aded46dbe34c1d975150bf5afff127": {
      "model_module": "@jupyter-widgets/base",
      "model_module_version": "1.2.0",
      "model_name": "LayoutModel",
      "state": {
       "width": "90%"
      }
     },
     "c1e26ea9c4e94bd1bc0bb868c3ecc2a6": {
      "model_module": "@jupyter-widgets/controls",
      "model_module_version": "1.5.0",
      "model_name": "SliderStyleModel",
      "state": {
       "description_width": ""
      }
     },
     "c22c1eca80cc47aabacfac98721030ea": {
      "model_module": "@jupyter-widgets/controls",
      "model_module_version": "1.5.0",
      "model_name": "SliderStyleModel",
      "state": {
       "description_width": ""
      }
     },
     "c2d0f047a20f4c02b6d26681f6e25b38": {
      "model_module": "@jupyter-widgets/controls",
      "model_module_version": "1.5.0",
      "model_name": "HBoxModel",
      "state": {
       "children": [
        "IPY_MODEL_596716cf5b6241919d8388fd4dd5c799",
        "IPY_MODEL_dd4a2a52630144848209b7a564a7945d"
       ],
       "layout": "IPY_MODEL_76ec29dcb5c34d0899eb6217becf4a59"
      }
     },
     "c3c72f1d3fe64612a416aca387829b0d": {
      "model_module": "@jupyter-widgets/base",
      "model_module_version": "1.2.0",
      "model_name": "LayoutModel",
      "state": {
       "width": "90%"
      }
     },
     "c3e711e6364f46ed92e12dee8e0b82db": {
      "model_module": "@jupyter-widgets/controls",
      "model_module_version": "1.5.0",
      "model_name": "VBoxModel",
      "state": {
       "children": [
        "IPY_MODEL_2608aef6ee5748bfadb340f06c2c0600"
       ],
       "layout": "IPY_MODEL_f7e09d57646c4ca6a612b8c74984e10d"
      }
     },
     "c4e0c965d26047f9a8c66568ce12a192": {
      "model_module": "@jupyter-widgets/base",
      "model_module_version": "1.2.0",
      "model_name": "LayoutModel",
      "state": {}
     },
     "c5b9648dad1f46f5b59d8776f2daef27": {
      "model_module": "@jupyter-widgets/base",
      "model_module_version": "1.2.0",
      "model_name": "LayoutModel",
      "state": {}
     },
     "c6976ddc066b48b0bc68e51140454842": {
      "model_module": "@jupyter-widgets/controls",
      "model_module_version": "1.5.0",
      "model_name": "HBoxModel",
      "state": {
       "children": [
        "IPY_MODEL_f596375957b442c59da90c00a4b615b3",
        "IPY_MODEL_f0577988f7d84a87bd22645dce27fe0c"
       ],
       "layout": "IPY_MODEL_ab691d262c0542edb23fefb3dcb65055"
      }
     },
     "c7937cd8aa154570af06cc9eec3e4428": {
      "model_module": "@jupyter-widgets/controls",
      "model_module_version": "1.5.0",
      "model_name": "SliderStyleModel",
      "state": {
       "description_width": ""
      }
     },
     "c8153bee03224cb19d3c41eb8b3ceb9b": {
      "model_module": "@jupyter-widgets/base",
      "model_module_version": "1.2.0",
      "model_name": "LayoutModel",
      "state": {}
     },
     "c95840dd17d1496cb90c30cb6d979f71": {
      "model_module": "@jupyter-widgets/base",
      "model_module_version": "1.2.0",
      "model_name": "LayoutModel",
      "state": {}
     },
     "c98ca48407ae42c7a387d61067e94deb": {
      "model_module": "@jupyter-widgets/base",
      "model_module_version": "1.2.0",
      "model_name": "LayoutModel",
      "state": {
       "width": "90%"
      }
     },
     "ca17b9171d7d4bb58b6e8818c8308e6e": {
      "model_module": "@jupyter-widgets/base",
      "model_module_version": "1.2.0",
      "model_name": "LayoutModel",
      "state": {}
     },
     "ca4f89031f8c4aebbdba530cc71357b0": {
      "model_module": "@jupyter-widgets/base",
      "model_module_version": "1.2.0",
      "model_name": "LayoutModel",
      "state": {
       "width": "95%"
      }
     },
     "ca6eb669636f47949d3303f9874f8a13": {
      "model_module": "@jupyter-widgets/controls",
      "model_module_version": "1.5.0",
      "model_name": "FloatSliderModel",
      "state": {
       "description": "$\\phi_1\\ (\\times \\pi)$",
       "layout": "IPY_MODEL_6062c5d81b5e4ee99f777d843c8e75cd",
       "max": 1,
       "min": -1,
       "step": 0.08333333333333333,
       "style": "IPY_MODEL_268d4a3c1b674d239aa6abeb91f619c0",
       "value": 0.5
      }
     },
     "cafacccdf38840eabbe0eef05247281d": {
      "model_module": "@jupyter-widgets/controls",
      "model_module_version": "1.5.0",
      "model_name": "FloatSliderModel",
      "state": {
       "description": "$A_1$",
       "layout": "IPY_MODEL_9f2667a861ef4f5ca78fb3be841a76cc",
       "max": 1,
       "step": 0.1,
       "style": "IPY_MODEL_162f9b47a7ca49bb95e3e309368cb033",
       "value": 1
      }
     },
     "cbdb7df586c04abd96542dc2b43323a8": {
      "model_module": "@jupyter-widgets/controls",
      "model_module_version": "1.5.0",
      "model_name": "SliderStyleModel",
      "state": {
       "description_width": ""
      }
     },
     "cbeadcc37f3f47eaa66f10b42ecfb66a": {
      "model_module": "jupyter-matplotlib",
      "model_module_version": "^0.9.0",
      "model_name": "ToolbarModel",
      "state": {
       "layout": "IPY_MODEL_d40afc3d3d154cb7a9318f1cb0beb1db",
       "toolitems": [
        [
         "Home",
         "Reset original view",
         "home",
         "home"
        ],
        [
         "Back",
         "Back to previous view",
         "arrow-left",
         "back"
        ],
        [
         "Forward",
         "Forward to next view",
         "arrow-right",
         "forward"
        ],
        [
         "Pan",
         "Left button pans, Right button zooms\nx/y fixes axis, CTRL fixes aspect",
         "arrows",
         "pan"
        ],
        [
         "Zoom",
         "Zoom to rectangle\nx/y fixes axis, CTRL fixes aspect",
         "square-o",
         "zoom"
        ],
        [
         "Download",
         "Download plot",
         "floppy-o",
         "save_figure"
        ]
       ]
      }
     },
     "cc89046b901c42c8bed87cd7fc4da184": {
      "model_module": "@jupyter-widgets/base",
      "model_module_version": "1.2.0",
      "model_name": "LayoutModel",
      "state": {
       "width": "95%"
      }
     },
     "cfd4abe15dcd4eb992ab52bbd0478cad": {
      "model_module": "@jupyter-widgets/base",
      "model_module_version": "1.2.0",
      "model_name": "LayoutModel",
      "state": {}
     },
     "d09baef01dfe409693ac16e7f90e4687": {
      "model_module": "@jupyter-widgets/controls",
      "model_module_version": "1.5.0",
      "model_name": "SliderStyleModel",
      "state": {
       "description_width": ""
      }
     },
     "d24c2016a00b46c5a7f883f09a432c6f": {
      "model_module": "@jupyter-widgets/controls",
      "model_module_version": "1.5.0",
      "model_name": "SliderStyleModel",
      "state": {
       "description_width": ""
      }
     },
     "d26b712de1c646ec895ecbad56a7e596": {
      "model_module": "@jupyter-widgets/base",
      "model_module_version": "1.2.0",
      "model_name": "LayoutModel",
      "state": {
       "width": "100%"
      }
     },
     "d36bc3d8865449f38aa305825450b357": {
      "model_module": "@jupyter-widgets/controls",
      "model_module_version": "1.5.0",
      "model_name": "SliderStyleModel",
      "state": {
       "description_width": ""
      }
     },
     "d3ff1cacfcea4049887b4838a4f1fbab": {
      "model_module": "@jupyter-widgets/controls",
      "model_module_version": "1.5.0",
      "model_name": "VBoxModel",
      "state": {
       "children": [
        "IPY_MODEL_c6976ddc066b48b0bc68e51140454842"
       ],
       "layout": "IPY_MODEL_105ec10de94246b6bf9515b4d9ab7efa"
      }
     },
     "d40afc3d3d154cb7a9318f1cb0beb1db": {
      "model_module": "@jupyter-widgets/base",
      "model_module_version": "1.2.0",
      "model_name": "LayoutModel",
      "state": {}
     },
     "d5470f58b3fc499da40109137cf84908": {
      "model_module": "@jupyter-widgets/base",
      "model_module_version": "1.2.0",
      "model_name": "LayoutModel",
      "state": {}
     },
     "d561ca7e22a948d8b49694296d2b11aa": {
      "model_module": "@jupyter-widgets/controls",
      "model_module_version": "1.5.0",
      "model_name": "SliderStyleModel",
      "state": {
       "description_width": ""
      }
     },
     "d5f75e2ba65b45bdb4ddbe7de9faf8aa": {
      "model_module": "@jupyter-widgets/base",
      "model_module_version": "1.2.0",
      "model_name": "LayoutModel",
      "state": {
       "width": "100%"
      }
     },
     "d7915affa9a142979fe4884b0b79438b": {
      "model_module": "@jupyter-widgets/controls",
      "model_module_version": "1.5.0",
      "model_name": "HBoxModel",
      "state": {
       "children": [
        "IPY_MODEL_beafe7d91c0e43fd8a6f816a0d83953c",
        "IPY_MODEL_e58ae236f8df4c11adbbe8c77185c33e",
        "IPY_MODEL_276da518309449e68838b370b8e333ce"
       ],
       "layout": "IPY_MODEL_d5f75e2ba65b45bdb4ddbe7de9faf8aa"
      }
     },
     "d96214f71d7a447599abdda42790bb90": {
      "model_module": "@jupyter-widgets/base",
      "model_module_version": "1.2.0",
      "model_name": "LayoutModel",
      "state": {
       "width": "100%"
      }
     },
     "da1c91093f064999bbe48bce8fa10756": {
      "model_module": "@jupyter-widgets/controls",
      "model_module_version": "1.5.0",
      "model_name": "HBoxModel",
      "state": {
       "children": [
        "IPY_MODEL_5470648922904ea7bc166a559a620df9",
        "IPY_MODEL_214cfbf823494dd58c42b775ff552c29",
        "IPY_MODEL_ff39785e6b344868b0db39feef416406"
       ],
       "layout": "IPY_MODEL_5e792db5a0b24cb59ab42237fc6aa651"
      }
     },
     "dbf11e152ae44601bb815e5e7681d27f": {
      "model_module": "@jupyter-widgets/base",
      "model_module_version": "1.2.0",
      "model_name": "LayoutModel",
      "state": {}
     },
     "dd4a2a52630144848209b7a564a7945d": {
      "model_module": "@jupyter-widgets/controls",
      "model_module_version": "1.5.0",
      "model_name": "FloatSliderModel",
      "state": {
       "description": "$\\phi_1\\ (\\times \\pi)$",
       "layout": "IPY_MODEL_368f1d27e870448a943f3ea8cc5e4b47",
       "max": 1,
       "min": -1,
       "step": 0.08333333333333333,
       "style": "IPY_MODEL_c22c1eca80cc47aabacfac98721030ea",
       "value": 0.5
      }
     },
     "dd4c07ba83314baba7d6c736d4113738": {
      "model_module": "@jupyter-widgets/base",
      "model_module_version": "1.2.0",
      "model_name": "LayoutModel",
      "state": {}
     },
     "dd893372a21e4aa7a759d74582790204": {
      "model_module": "@jupyter-widgets/base",
      "model_module_version": "1.2.0",
      "model_name": "LayoutModel",
      "state": {}
     },
     "dee6cb762b984412bb2d7cd8d3f1518c": {
      "model_module": "jupyter-matplotlib",
      "model_module_version": "^0.9.0",
      "model_name": "MPLCanvasModel",
      "state": {
       "_cursor": "default",
       "_figure_label": "Figure 12",
       "_height": 480,
       "_image_mode": "diff",
       "_width": 640,
       "layout": "IPY_MODEL_bb6757d974364f248bc0339ce446c2dd",
       "toolbar": "IPY_MODEL_59bbd7e267254f329752bd2b8e74d6cb",
       "toolbar_position": "left"
      }
     },
     "e06b3a63575e4495a435ab96781b1634": {
      "model_module": "@jupyter-widgets/controls",
      "model_module_version": "1.5.0",
      "model_name": "FloatSliderModel",
      "state": {
       "description": "$A_2$",
       "layout": "IPY_MODEL_66099887ab194fdbae57a664ca491985",
       "max": 1,
       "step": 0.1,
       "style": "IPY_MODEL_f24ad58ea1994b3fb617b6a5d1601e1b",
       "value": 1
      }
     },
     "e0edc01fcc6c4e7ab82e651b2066bf36": {
      "model_module": "@jupyter-widgets/base",
      "model_module_version": "1.2.0",
      "model_name": "LayoutModel",
      "state": {}
     },
     "e1326a73a3b149cca3a30c55549ac57e": {
      "model_module": "@jupyter-widgets/base",
      "model_module_version": "1.2.0",
      "model_name": "LayoutModel",
      "state": {
       "width": "95%"
      }
     },
     "e234c27815ce4719af97207ecd3ff65a": {
      "model_module": "@jupyter-widgets/controls",
      "model_module_version": "1.5.0",
      "model_name": "FloatSliderModel",
      "state": {
       "description": "$N$",
       "layout": "IPY_MODEL_04d22cd7e1a84e4892ab3f862b4a6cde",
       "max": 31,
       "min": 1,
       "step": 2,
       "style": "IPY_MODEL_e8bad6cb8bfc4f3c9dbbdf03ca3a54a3",
       "value": 1
      }
     },
     "e29ed7ce053b4ba89a5b40291ddaea0d": {
      "model_module": "@jupyter-widgets/controls",
      "model_module_version": "1.5.0",
      "model_name": "FloatSliderModel",
      "state": {
       "description": "$A_2$",
       "layout": "IPY_MODEL_2c23204d7b2f405d89f043b2b718b75a",
       "max": 1,
       "step": 0.1,
       "style": "IPY_MODEL_bd0f221fa0c64dbbb835d67676927533",
       "value": 1
      }
     },
     "e4928c1c0d1a44ed8a620e963c92eb76": {
      "model_module": "@jupyter-widgets/controls",
      "model_module_version": "1.5.0",
      "model_name": "HBoxModel",
      "state": {
       "children": [
        "IPY_MODEL_b006ae20f50448e0860256af186a9729",
        "IPY_MODEL_2a17170c809a4245be4cb1388f1ac35a"
       ],
       "layout": "IPY_MODEL_d96214f71d7a447599abdda42790bb90"
      }
     },
     "e5660e3977214fd79017b2c76a32e405": {
      "model_module": "@jupyter-widgets/base",
      "model_module_version": "1.2.0",
      "model_name": "LayoutModel",
      "state": {
       "width": "95%"
      }
     },
     "e57791ad261041c5b1e1beabdcd74b49": {
      "model_module": "@jupyter-widgets/controls",
      "model_module_version": "1.5.0",
      "model_name": "HBoxModel",
      "state": {
       "children": [
        "IPY_MODEL_e234c27815ce4719af97207ecd3ff65a"
       ],
       "layout": "IPY_MODEL_9ca0cd9bf5d6472385930d4feacdfae4"
      }
     },
     "e58ae236f8df4c11adbbe8c77185c33e": {
      "model_module": "@jupyter-widgets/controls",
      "model_module_version": "1.5.0",
      "model_name": "FloatSliderModel",
      "state": {
       "description": "$f$",
       "layout": "IPY_MODEL_f396b85d9e0d437c9a8771215374d553",
       "max": 15,
       "min": 0.5,
       "step": 0.5,
       "style": "IPY_MODEL_d09baef01dfe409693ac16e7f90e4687",
       "value": 1
      }
     },
     "e598ad4bff09493f8bc73ea5fbd2ebc4": {
      "model_module": "@jupyter-widgets/base",
      "model_module_version": "1.2.0",
      "model_name": "LayoutModel",
      "state": {
       "width": "100%"
      }
     },
     "e616b273edc543c98880959d994df18d": {
      "model_module": "@jupyter-widgets/controls",
      "model_module_version": "1.5.0",
      "model_name": "HBoxModel",
      "state": {
       "children": [
        "IPY_MODEL_69447098976244f38ca83c299db43216",
        "IPY_MODEL_6d26af10f3d64380a15a95429e46cb9e"
       ],
       "layout": "IPY_MODEL_88b0ef8b0cd24e2d8c659b9e07f7a703"
      }
     },
     "e74bd2038db1436daef796b0f1aaaf02": {
      "model_module": "@jupyter-widgets/base",
      "model_module_version": "1.2.0",
      "model_name": "LayoutModel",
      "state": {}
     },
     "e801cfa4f933407d8c9bb6c01d6cf542": {
      "model_module": "jupyter-matplotlib",
      "model_module_version": "^0.9.0",
      "model_name": "ToolbarModel",
      "state": {
       "layout": "IPY_MODEL_e0edc01fcc6c4e7ab82e651b2066bf36",
       "toolitems": [
        [
         "Home",
         "Reset original view",
         "home",
         "home"
        ],
        [
         "Back",
         "Back to previous view",
         "arrow-left",
         "back"
        ],
        [
         "Forward",
         "Forward to next view",
         "arrow-right",
         "forward"
        ],
        [
         "Pan",
         "Left button pans, Right button zooms\nx/y fixes axis, CTRL fixes aspect",
         "arrows",
         "pan"
        ],
        [
         "Zoom",
         "Zoom to rectangle\nx/y fixes axis, CTRL fixes aspect",
         "square-o",
         "zoom"
        ],
        [
         "Download",
         "Download plot",
         "floppy-o",
         "save_figure"
        ]
       ]
      }
     },
     "e8bad6cb8bfc4f3c9dbbdf03ca3a54a3": {
      "model_module": "@jupyter-widgets/controls",
      "model_module_version": "1.5.0",
      "model_name": "SliderStyleModel",
      "state": {
       "description_width": ""
      }
     },
     "e90f3a6f50c34e7e992780f5f9422459": {
      "model_module": "@jupyter-widgets/controls",
      "model_module_version": "1.5.0",
      "model_name": "SliderStyleModel",
      "state": {
       "description_width": ""
      }
     },
     "e956b9ebc32c495ca011c792d9f30c70": {
      "model_module": "@jupyter-widgets/controls",
      "model_module_version": "1.5.0",
      "model_name": "VBoxModel",
      "state": {
       "children": [
        "IPY_MODEL_5b40e74616ca4d8fa70b8b1206edf330"
       ],
       "layout": "IPY_MODEL_56f41e49d08f47dbb86f9b109c9643a7"
      }
     },
     "ea2e0154d662427093c7e5c17eccfe1c": {
      "model_module": "@jupyter-widgets/base",
      "model_module_version": "1.2.0",
      "model_name": "LayoutModel",
      "state": {}
     },
     "ec6f2e4f19d34f59b578fde0db22e169": {
      "model_module": "@jupyter-widgets/output",
      "model_module_version": "1.0.0",
      "model_name": "OutputModel",
      "state": {
       "layout": "IPY_MODEL_f06c091f3ae942b1b8fb6aa93599ba24"
      }
     },
     "ee43bbc50a6d42ab85933e9a950b7eda": {
      "model_module": "jupyter-matplotlib",
      "model_module_version": "^0.9.0",
      "model_name": "ToolbarModel",
      "state": {
       "layout": "IPY_MODEL_0947bc53e5a34d3f8084a7880f1a1e1b",
       "toolitems": [
        [
         "Home",
         "Reset original view",
         "home",
         "home"
        ],
        [
         "Back",
         "Back to previous view",
         "arrow-left",
         "back"
        ],
        [
         "Forward",
         "Forward to next view",
         "arrow-right",
         "forward"
        ],
        [
         "Pan",
         "Left button pans, Right button zooms\nx/y fixes axis, CTRL fixes aspect",
         "arrows",
         "pan"
        ],
        [
         "Zoom",
         "Zoom to rectangle\nx/y fixes axis, CTRL fixes aspect",
         "square-o",
         "zoom"
        ],
        [
         "Download",
         "Download plot",
         "floppy-o",
         "save_figure"
        ]
       ]
      }
     },
     "eea9c2c8f4f44160a449c063c18cb79b": {
      "model_module": "@jupyter-widgets/controls",
      "model_module_version": "1.5.0",
      "model_name": "SliderStyleModel",
      "state": {
       "description_width": ""
      }
     },
     "eef6944d17fa46e096b5b585453994f7": {
      "model_module": "@jupyter-widgets/controls",
      "model_module_version": "1.5.0",
      "model_name": "FloatSliderModel",
      "state": {
       "description": "$r$",
       "layout": "IPY_MODEL_07bcfe384e2b4fd7a9e64c3362d5dc00",
       "max": 1.3,
       "min": 0.3,
       "step": 0.1,
       "style": "IPY_MODEL_eea9c2c8f4f44160a449c063c18cb79b",
       "value": 1
      }
     },
     "f0577988f7d84a87bd22645dce27fe0c": {
      "model_module": "@jupyter-widgets/controls",
      "model_module_version": "1.5.0",
      "model_name": "FloatSliderModel",
      "state": {
       "description": "$\\phi\\ (\\times\\ \\pi)$",
       "layout": "IPY_MODEL_1d4402e11ff64f7d99407de9148e155a",
       "max": 1,
       "min": -1,
       "step": 0.08333333333333333,
       "style": "IPY_MODEL_9c22da670a3044468b790d9cd07874fd",
       "value": 0.25
      }
     },
     "f06c091f3ae942b1b8fb6aa93599ba24": {
      "model_module": "@jupyter-widgets/base",
      "model_module_version": "1.2.0",
      "model_name": "LayoutModel",
      "state": {}
     },
     "f247b03c5dc54694874c3c60c647ecb6": {
      "model_module": "@jupyter-widgets/base",
      "model_module_version": "1.2.0",
      "model_name": "LayoutModel",
      "state": {}
     },
     "f24ad58ea1994b3fb617b6a5d1601e1b": {
      "model_module": "@jupyter-widgets/controls",
      "model_module_version": "1.5.0",
      "model_name": "SliderStyleModel",
      "state": {
       "description_width": ""
      }
     },
     "f290ab814b334bd1bc6201473d17edcc": {
      "model_module": "@jupyter-widgets/controls",
      "model_module_version": "1.5.0",
      "model_name": "SliderStyleModel",
      "state": {
       "description_width": ""
      }
     },
     "f363a15b01af401a806ae10d2f8abaff": {
      "model_module": "@jupyter-widgets/controls",
      "model_module_version": "1.5.0",
      "model_name": "SliderStyleModel",
      "state": {
       "description_width": ""
      }
     },
     "f396b85d9e0d437c9a8771215374d553": {
      "model_module": "@jupyter-widgets/base",
      "model_module_version": "1.2.0",
      "model_name": "LayoutModel",
      "state": {
       "width": "95%"
      }
     },
     "f4b302f7b45140089f71edb35ac62508": {
      "model_module": "@jupyter-widgets/controls",
      "model_module_version": "1.5.0",
      "model_name": "FloatSliderModel",
      "state": {
       "description": "$\\phi\\ (\\times\\ \\pi)$",
       "layout": "IPY_MODEL_0eb5d716d3054a14a6a7d67872e73531",
       "max": 1,
       "min": -1,
       "step": 0.08333333333333333,
       "style": "IPY_MODEL_26bd40ccaf2d4464a1686d6b4ae0a1f7",
       "value": 0.25
      }
     },
     "f596375957b442c59da90c00a4b615b3": {
      "model_module": "@jupyter-widgets/controls",
      "model_module_version": "1.5.0",
      "model_name": "FloatSliderModel",
      "state": {
       "description": "$r$",
       "layout": "IPY_MODEL_e5660e3977214fd79017b2c76a32e405",
       "max": 1.3,
       "min": 0.3,
       "step": 0.1,
       "style": "IPY_MODEL_e90f3a6f50c34e7e992780f5f9422459",
       "value": 1
      }
     },
     "f6c83592a09840dbacd1e8f3221d5142": {
      "model_module": "@jupyter-widgets/controls",
      "model_module_version": "1.5.0",
      "model_name": "VBoxModel",
      "state": {
       "children": [
        "IPY_MODEL_e616b273edc543c98880959d994df18d",
        "IPY_MODEL_e4928c1c0d1a44ed8a620e963c92eb76"
       ],
       "layout": "IPY_MODEL_082dd225181241b48c2380c7f78f24ef"
      }
     },
     "f73bf6ddf5cc4853833a4a9c5332a4a3": {
      "model_module": "@jupyter-widgets/base",
      "model_module_version": "1.2.0",
      "model_name": "LayoutModel",
      "state": {
       "width": "90%"
      }
     },
     "f79b3f33b81c468aa4e799be3477fb67": {
      "model_module": "@jupyter-widgets/base",
      "model_module_version": "1.2.0",
      "model_name": "LayoutModel",
      "state": {}
     },
     "f7e09d57646c4ca6a612b8c74984e10d": {
      "model_module": "@jupyter-widgets/base",
      "model_module_version": "1.2.0",
      "model_name": "LayoutModel",
      "state": {
       "width": "90%"
      }
     },
     "fb0c74ecc92f4e9b9f88d10dde2ebd75": {
      "model_module": "jupyter-matplotlib",
      "model_module_version": "^0.9.0",
      "model_name": "MPLCanvasModel",
      "state": {
       "_cursor": "default",
       "_figure_label": "Figure 4",
       "_height": 500,
       "_image_mode": "diff",
       "_width": 1350,
       "layout": "IPY_MODEL_dd4c07ba83314baba7d6c736d4113738",
       "toolbar": "IPY_MODEL_5753155d08854541a0eb5a14e6a6ee7e",
       "toolbar_position": "left"
      }
     },
     "fd1e2dfde8c04c669deb91499bc4baf2": {
      "model_module": "@jupyter-widgets/base",
      "model_module_version": "1.2.0",
      "model_name": "LayoutModel",
      "state": {
       "width": "95%"
      }
     },
     "ff39785e6b344868b0db39feef416406": {
      "model_module": "@jupyter-widgets/controls",
      "model_module_version": "1.5.0",
      "model_name": "FloatSliderModel",
      "state": {
       "description": "$\\phi (\\times \\pi)$",
       "layout": "IPY_MODEL_a67a694055274aad81f82994f2101295",
       "max": 1,
       "min": -1,
       "step": 0.08333333333333333,
       "style": "IPY_MODEL_8bea758ec2f54d64a86882ada1c680fd",
       "value": 0.5
      }
     }
    },
    "version_major": 2,
    "version_minor": 0
   }
  }
 },
 "nbformat": 4,
 "nbformat_minor": 4
}
