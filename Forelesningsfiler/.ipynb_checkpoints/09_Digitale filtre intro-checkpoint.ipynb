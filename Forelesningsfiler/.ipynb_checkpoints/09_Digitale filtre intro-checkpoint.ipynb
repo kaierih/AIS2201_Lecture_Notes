{
 "cells": [
  {
   "cell_type": "code",
   "execution_count": 1,
   "metadata": {},
   "outputs": [],
   "source": [
    "# Generelle moduler og funksjonsbeskrivelser brukt i forelesningen\n",
    "from numpy import sin, cos, pi, exp\n",
    "import numpy.fft as fft\n",
    "import numpy as np\n",
    "import matplotlib.pyplot as plt\n",
    "#from Kildekode._10_Konvolusjon import *\n",
    "\n",
    "%matplotlib ipympl"
   ]
  },
  {
   "cell_type": "markdown",
   "metadata": {
    "slideshow": {
     "slide_type": "slide"
    }
   },
   "source": [
    "<img src=\"Figurer/NTNU_Logo.png\" align=\"left\" style=\"width: 30%\">\n",
    "<br clear=\"all\" />\n",
    "<br></br>\n",
    "\n",
    "# Intro til Digitale Filtre\n",
    "\n",
    "* **Emne AIS2201 - Signalbehandling**\n",
    "* **Uke 40, 2021**\n",
    "* **Relevant Pensum:**\n",
    "    * Kapittel 5 i læreboka understanding DSP\n",
    "* **Underviser: Kai Erik Hoff**"
   ]
  },
  {
   "cell_type": "markdown",
   "metadata": {
    "slideshow": {
     "slide_type": "skip"
    }
   },
   "source": [
    "# Tema:\n",
    "* Signal og System\n",
    "* Digitale Filtre - hva og hvorfor?\n",
    "* Bruk av digitale filtre\n",
    "\n"
   ]
  },
  {
   "cell_type": "markdown",
   "metadata": {
    "slideshow": {
     "slide_type": "slide"
    }
   },
   "source": [
    "<img src=\"Figurer/10_Digitale Filtre Intro/Slide2.PNG\" width=\"100%\" />"
   ]
  },
  {
   "cell_type": "markdown",
   "metadata": {
    "slideshow": {
     "slide_type": "slide"
    }
   },
   "source": [
    "<img src=\"Figurer/10_Digitale Filtre Intro/Slide3.PNG\" width=\"100%\" />"
   ]
  },
  {
   "cell_type": "markdown",
   "metadata": {
    "slideshow": {
     "slide_type": "slide"
    }
   },
   "source": [
    "<img src=\"Figurer/10_Digitale Filtre Intro/Slide4.PNG\" width=\"100%\" />"
   ]
  },
  {
   "cell_type": "markdown",
   "metadata": {
    "slideshow": {
     "slide_type": "slide"
    }
   },
   "source": [
    "<img src=\"Figurer/10_Digitale Filtre Intro/Slide5.PNG\" width=\"100%\" />"
   ]
  },
  {
   "cell_type": "markdown",
   "metadata": {
    "slideshow": {
     "slide_type": "slide"
    }
   },
   "source": [
    "<img src=\"Figurer/10_Digitale Filtre Intro/Slide6.PNG\" width=\"100%\"  />"
   ]
  },
  {
   "cell_type": "markdown",
   "metadata": {
    "slideshow": {
     "slide_type": "slide"
    }
   },
   "source": [
    "<img src=\"Figurer/10_Digitale Filtre Intro/Slide7.PNG\" width=\"100%\" />"
   ]
  },
  {
   "cell_type": "markdown",
   "metadata": {
    "slideshow": {
     "slide_type": "slide"
    }
   },
   "source": [
    "# Signal og System\n",
    "\n",
    "### Generell terminologi\n",
    "\n",
    "* **Signal:**\n",
    "    * En funksjon som formidler informasjon om et fenomen.\n",
    "* **System:**\n",
    "    * Tar imot inngangssignal og produserer et nytt utgangssignal\n",
    "    \n",
    "    \n",
    "* Eksempel på system:\n",
    "<img src=\"Figurer/10_Digitale Filtre Intro/Fig0_DSPSystem.png\" style=\"width: 80%; margin-left=100px\" />"
   ]
  },
  {
   "cell_type": "markdown",
   "metadata": {
    "slideshow": {
     "slide_type": "slide"
    }
   },
   "source": [
    "<img src=\"Figurer/10_Digitale Filtre Intro/Slide8.PNG\" width=\"100%\" />"
   ]
  },
  {
   "cell_type": "markdown",
   "metadata": {
    "slideshow": {
     "slide_type": "slide"
    }
   },
   "source": [
    "<img src=\"Figurer/10_Digitale Filtre Intro/Slide9.PNG\" style=\"width: 80%; margin-left=100px\" />"
   ]
  },
  {
   "cell_type": "markdown",
   "metadata": {
    "slideshow": {
     "slide_type": "slide"
    }
   },
   "source": [
    "# LTI-system\n",
    "\n",
    "* Vi skal i hovedsak begrense oss til å snakke om system som er ***lineære*** og ***tidsinvariante***.\n",
    "    * Slike filtre omtales som ***LTI-system***\n",
    "    * Det mest sentrale kjennetegnet på LTI-system er at sinusformede inngangssignal ***alltid*** vil gi sinusformede utgangssignal.\n",
    "        * Utgangssignalet kan dog ha en annen *Amplitude* og *Fase*\n",
    "    * *Mer om disse egenskapene i neste uke*"
   ]
  },
  {
   "cell_type": "markdown",
   "metadata": {
    "slideshow": {
     "slide_type": "slide"
    }
   },
   "source": [
    "# Hva er et filter?\n",
    "* I signalbehandlingssammenheng refererer et **filter** til et system som demper uønskede frekvenskomponenter i et signal.\n",
    "\n",
    "    \n",
    "<img src=\"Figurer/10_Digitale Filtre Intro/FilterIllustration.png\" style=\"margin-left=200px\" width=\"60%\"/>"
   ]
  },
  {
   "cell_type": "markdown",
   "metadata": {
    "slideshow": {
     "slide_type": "slide"
    }
   },
   "source": [
    "# Analoge filtre\n",
    "* Fysiske elektroniske kretser.\n",
    "* Beskrives matematisk med en differensiallikning *(eller en transferfunksjon)*.\n",
    "* Eksempel: RLC-krets:\n",
    "<img src=\"Figurer/10_Digitale Filtre Intro/Fig1_analogFilt.png\" style=\"width: 80%; margin-left=100px\" />"
   ]
  },
  {
   "cell_type": "markdown",
   "metadata": {
    "slideshow": {
     "slide_type": "slide"
    }
   },
   "source": [
    "# Filtrering av digitale signal med DFT\n",
    "\n",
    "<br>\n",
    "\n",
    "<img src=\"Figurer/10_Digitale Filtre Intro/DFT_Filt.png\" width=\"70%\"  />"
   ]
  },
  {
   "cell_type": "markdown",
   "metadata": {
    "slideshow": {
     "slide_type": "slide"
    }
   },
   "source": [
    "## Filtrering av digitale signal med DFT eksempel:"
   ]
  },
  {
   "cell_type": "code",
   "execution_count": 20,
   "metadata": {},
   "outputs": [
    {
     "data": {
      "text/plain": [
       "Text(0, 0.5, '$Y[m]$')"
      ]
     },
     "execution_count": 20,
     "metadata": {},
     "output_type": "execute_result"
    },
    {
     "data": {
      "application/vnd.jupyter.widget-view+json": {
       "model_id": "206e3124058042139bb94dec838d87fe",
       "version_major": 2,
       "version_minor": 0
      },
      "image/png": "[encoded data removed]",
      "text/html": [
       "\n",
       "            <div style=\"display: inline-block;\">\n",
       "                <div class=\"jupyter-widgets widget-label\" style=\"text-align: center;\">\n",
       "                    Figure\n",
       "                </div>\n",
       "                <img src='data:image/png;base64,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' width=1000.0/>\n",
       "            </div>\n",
       "        "
      ],
      "text/plain": [
       "Canvas(toolbar=Toolbar(toolitems=[('Home', 'Reset original view', 'home', 'home'), ('Back', 'Back to previous …"
      ]
     },
     "metadata": {},
     "output_type": "display_data"
    }
   ],
   "source": [
    "N = 32\n",
    "n = np.arange(N)\n",
    "xn = cos(2*pi/32*n*1 + pi/3) + 0.5*cos(2*pi/32*n*10.5)\n",
    "Xm = np.fft.fft(xn)\n",
    "Hm = (n<9) + (n>N-9)\n",
    "Ym = Xm*Hm\n",
    "yn = np.real(np.fft.ifft(Ym))\n",
    "\n",
    "plt.close(1); plt.figure(1, figsize=(10,4))\n",
    "plt.subplot(2,2,1)\n",
    "plt.stem(xn); plt.yticks([]); plt.ylabel(r'$x[n]$')\n",
    "plt.subplot(2,2,2)\n",
    "plt.stem(np.abs(Xm)); plt.yticks([]); plt.ylabel(r'$X[m]$')\n",
    "plt.subplot(2,2,3)\n",
    "plt.stem(yn); plt.yticks([]); plt.ylabel(r'$y[n]$')\n",
    "plt.subplot(2,2,4)\n",
    "plt.stem(np.abs(Ym)); plt.yticks([]); plt.ylabel(r'$Y[m]$')"
   ]
  },
  {
   "cell_type": "markdown",
   "metadata": {
    "slideshow": {
     "slide_type": "slide"
    }
   },
   "source": [
    "## Filtrering med DFT: *svakheter*\n",
    "\n",
    "* Avhengig av å utføre filtrering på lange segment med sampler.\n",
    "* Spektral lekkasje fører til uønskede \"artifacts\" i det filtrerte signalet."
   ]
  },
  {
   "cell_type": "markdown",
   "metadata": {
    "slideshow": {
     "slide_type": "slide"
    }
   },
   "source": [
    "# Digitale filter: \n",
    "\n",
    "* Vi ønsker et system som kan håndtere én og én sample:\n",
    "\n",
    "<br>\n",
    "\n",
    "<img src=\"Figurer/10_Digitale Filtre Intro/Fig5_FilterAnimation.gif\" width=\"60%\"  />"
   ]
  },
  {
   "cell_type": "markdown",
   "metadata": {
    "slideshow": {
     "slide_type": "slide"
    }
   },
   "source": [
    "# Digitale Filtre\n",
    "\n",
    "* *Algoritme* for å regne ut hver sample av utgangssignalet $y[n]$\n",
    "* Eksisterer kun som programvare\n",
    "* Utgangssignalet er en ***lineær kombinasjon*** av signalverdier ved ulike tidspunkt\n",
    "* Eksempel: *3-punkts middelverdifilter*\n",
    "$$ y[n] = \\frac{1}{3}\\cdot x[n] + \\frac{1}{3}\\cdot x[n-1] + \\frac{1}{3}\\cdot x[n-2]$$\n",
    "    * Utregning av sample nummer 5:\n",
    "    $$y[5] = \\frac{1}{3}\\cdot x[5] + \\frac{1}{3}\\cdot x[4] + \\frac{1}{3} \\cdot x[3]$$\n",
    "* Krever at programmet fører en \"logg\" over tidligere signalverdier"
   ]
  },
  {
   "cell_type": "markdown",
   "metadata": {
    "slideshow": {
     "slide_type": "slide"
    }
   },
   "source": [
    "# Buksområder\n",
    "\n",
    "* Bildebehandling\n",
    "* Audioprosessering\n",
    "* Kommunikasjonssystem\n",
    "* Digitale kontrollere\n",
    "* Mye mer"
   ]
  },
  {
   "cell_type": "markdown",
   "metadata": {
    "slideshow": {
     "slide_type": "slide"
    }
   },
   "source": [
    "# Fordeler og ulemper\n",
    "\n",
    "<br>\n",
    "<div style=\"width: 100%;\">\n",
    "    <div style=\"float: left; width: 50%\">\n",
    "    <ul>\n",
    "        <b> Fordeler </b>\n",
    "        <br>\n",
    "        <li> Tillater filterresponser som ikke kan oppnås med analoge filtre </li>\n",
    "        <li> Kostnadseffektivt </li>\n",
    "        <li> Enkle å modifisere </li>\n",
    "    </ul>\n",
    "    </div>\n",
    "    <div style=\"float: right; width: 50%\">\n",
    "    <ul>\n",
    "        <b> Ulemper</b>\n",
    "        <br>\n",
    "        <li> Kan tilføre ekstra forsinkelse i systemet </li>\n",
    "        <li> Fungerer kun innenfor et frekvensbånd gitt av samplingsfrekvensen </li>\n",
    "    </ul>\n",
    "    </div>\n",
    "</div> "
   ]
  },
  {
   "cell_type": "markdown",
   "metadata": {
    "slideshow": {
     "slide_type": "slide"
    }
   },
   "source": [
    "# Differanseligning\n",
    "\n",
    "* Matematisk beskrivelse av et digitalt filter basert på ***filterkoeffisienter*** $a_k$ og $b_k$.\n",
    "* Beskriver forholdet mellom inn- og utgangssignal.\n",
    "\n",
    "### $$ \\sum_{k=0}^{N}a_k\\cdot  y[n-k] = \\sum_{k=0}^{M} b_k \\cdot x[n-k]$$\n",
    "\n",
    "$$ a_0 \\cdot y[n] + a_1 \\cdot y[n-1] + a_2 \\cdot y[n-2] + \\ldots + a_N \\cdot y[n-N] \\newline =  b_0 \\cdot x[n] + b_1 \\cdot x[n-1] + b_2 \\cdot x[n-2] + \\ldots + b_N \\cdot x[n-M]$$\n",
    "\n",
    "* Digital filterdesign sentrerer seg rundt å finne passende verdier for filterkoeffisientene $a_k$ og $b_k$. \n",
    "    * Disse verdiene anvendes så *direkte* i filteralgoritmen uten behov for å balansere kretskomponenter."
   ]
  },
  {
   "cell_type": "markdown",
   "metadata": {
    "slideshow": {
     "slide_type": "slide"
    }
   },
   "source": [
    "# Hvordan bruke digitale filter\n",
    "\n",
    "1. Regn ut filterkoeffisientene $a_k$ og $b_k$.\n",
    "    * Her er det vanlig å bruke dataverktøy som Python eller Matlab\n",
    "    * Det finnes mange ulike fremgangsmåter avhengig av bruk\n",
    "    \n",
    "    \n",
    "2. Implementer filteralgoritmen på en digital enhet\n",
    "    * Dette kan for eksempel være i form av et program på en Arduino mikrokontroller.\n",
    "    "
   ]
  },
  {
   "cell_type": "markdown",
   "metadata": {
    "slideshow": {
     "slide_type": "slide"
    }
   },
   "source": [
    "## Eksempel: Regn ut filterparametre i Python"
   ]
  },
  {
   "cell_type": "code",
   "execution_count": 21,
   "metadata": {
    "slideshow": {
     "slide_type": "fragment"
    }
   },
   "outputs": [
    {
     "name": "stdout",
     "output_type": "stream",
     "text": [
      "b: [0.01290369 0.06451846 0.12903692 0.12903692 0.06451846 0.01290369] \n",
      "a: [ 1.         -1.47967143  1.40369177 -0.68085641  0.1918841  -0.0221299 ]\n"
     ]
    },
    {
     "data": {
      "text/plain": [
       "(0.0, 1.0)"
      ]
     },
     "execution_count": 21,
     "metadata": {},
     "output_type": "execute_result"
    },
    {
     "data": {
      "application/vnd.jupyter.widget-view+json": {
       "model_id": "85bcab18782f45d7923f434893b53d30",
       "version_major": 2,
       "version_minor": 0
      },
      "image/png": "[encoded data removed]",
      "text/html": [
       "\n",
       "            <div style=\"display: inline-block;\">\n",
       "                <div class=\"jupyter-widgets widget-label\" style=\"text-align: center;\">\n",
       "                    Figure\n",
       "                </div>\n",
       "                <img src='data:image/png;base64,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' width=640.0/>\n",
       "            </div>\n",
       "        "
      ],
      "text/plain": [
       "Canvas(toolbar=Toolbar(toolitems=[('Home', 'Reset original view', 'home', 'home'), ('Back', 'Back to previous …"
      ]
     },
     "metadata": {},
     "output_type": "display_data"
    }
   ],
   "source": [
    "import scipy.signal as sig\n",
    "\n",
    "\n",
    "# Kode for Digitalt Fjerdeordens Butterworth Lavpassfilter\n",
    "b, a = sig.butter(N = 5,              # Filterorden\n",
    "                  Wn = 0.35,          # Digital Knekkfrekvens (x pi)\n",
    "                  btype = 'lowpass',  # Lavpassfilter\n",
    "                  output = 'ba'       # Returner filterkoeffisenter\n",
    "                  )\n",
    "\n",
    "print(\"b:\", b, \"\\na:\", a)\n",
    "\n",
    "# Vis frekvensresponsen til filteret\n",
    "# (frekvensrespons o.l. vil utforskes i større detalj senere.)\n",
    "w, H = sig.freqz(b, a)\n",
    "plt.close(1); plt.figure(1)\n",
    "plt.plot(w/pi, abs(H))\n",
    "plt.xlabel(r'Digital frekvens $\\hat{\\omega} \\ (\\times \\pi$)')\n",
    "plt.ylabel(r'Amplituderespons $\\left| H \\left( e^{j\\hat{\\omega}} \\right) \\right|$')\n",
    "plt.grid(True)\n",
    "plt.xlim([0, 1])"
   ]
  },
  {
   "cell_type": "markdown",
   "metadata": {
    "slideshow": {
     "slide_type": "slide"
    }
   },
   "source": [
    "## Eksempel: Implementasjon på Arduino\n",
    "<pre>\n",
    "<font color=\"#00979c\">void</font> <font color=\"#5e6d03\">loop</font><font color=\"#000000\">(</font><font color=\"#000000\">)</font> <font color=\"#000000\">{</font>\n",
    " &nbsp;<font color=\"#5e6d03\">if</font> <font color=\"#000000\">(</font><font color=\"#000000\">sampleTimer</font><font color=\"#434f54\">.</font><font color=\"#000000\">hasExpired</font><font color=\"#000000\">(</font><font color=\"#000000\">)</font><font color=\"#000000\">)</font>\n",
    " &nbsp;<font color=\"#000000\">{</font>\n",
    " &nbsp;&nbsp;&nbsp;<font color=\"#000000\">sampleTimer</font><font color=\"#434f54\">.</font><font color=\"#000000\">start</font><font color=\"#000000\">(</font><font color=\"#000000\">T_S</font><font color=\"#000000\">)</font><font color=\"#000000\">;</font> &nbsp;&nbsp;&nbsp;&nbsp;&nbsp;&nbsp;&nbsp;&nbsp;&nbsp;&nbsp;&nbsp;&nbsp;&nbsp;&nbsp;&nbsp;&nbsp;&nbsp;&nbsp;&nbsp;&nbsp;&nbsp;&nbsp;&nbsp;&nbsp;&nbsp;&nbsp;&nbsp;&nbsp;\n",
    " &nbsp;&nbsp;&nbsp;<font color=\"#00979c\">float</font> <font color=\"#000000\">input_sample</font> <font color=\"#434f54\">=</font> <font color=\"#000000\">(</font><font color=\"#00979c\">float</font><font color=\"#000000\">)</font><font color=\"#d35400\">analogRead</font><font color=\"#000000\">(</font><font color=\"#000000\">SIG_INPUT</font><font color=\"#000000\">)</font><font color=\"#000000\">;</font> &nbsp;&nbsp;&nbsp;&nbsp;&nbsp;&nbsp;&nbsp;&nbsp;&nbsp;&nbsp;&nbsp;&nbsp;&nbsp;&nbsp;<font color=\"#434f54\">&#47;&#47; Get Input Sample</font>\n",
    " &nbsp;&nbsp;&nbsp;<font color=\"#00979c\">float</font> <font color=\"#000000\">output_sample</font> <font color=\"#434f54\">=</font> <font color=\"#000000\">LP_Filt</font><font color=\"#434f54\">.</font><font color=\"#000000\">filter_sample</font><font color=\"#000000\">(</font><font color=\"#000000\">input_sample</font><font color=\"#000000\">)</font><font color=\"#000000\">;</font> &nbsp;&nbsp;&nbsp;&nbsp;<font color=\"#434f54\">&#47;&#47; Filter latest input sample</font>\n",
    " &nbsp;&nbsp;&nbsp;<font color=\"#d35400\">analogWrite</font><font color=\"#000000\">(</font><font color=\"#000000\">SIG_OUTPUT</font><font color=\"#434f54\">,</font> <font color=\"#d35400\">round</font><font color=\"#000000\">(</font><font color=\"#000000\">output_sample</font><font color=\"#434f54\">&#47;</font><font color=\"#000000\">4</font><font color=\"#000000\">)</font><font color=\"#000000\">)</font><font color=\"#000000\">;</font> &nbsp;&nbsp;&nbsp;&nbsp;&nbsp;&nbsp;&nbsp;&nbsp;&nbsp;&nbsp;&nbsp;&nbsp;&nbsp;&nbsp;&nbsp;&nbsp;<font color=\"#434f54\">&#47;&#47; Set output level</font>\n",
    " &nbsp;<font color=\"#000000\">}</font>\n",
    "<font color=\"#000000\">}</font>\n",
    "\n",
    "</pre>"
   ]
  },
  {
   "cell_type": "markdown",
   "metadata": {
    "slideshow": {
     "slide_type": "slide"
    }
   },
   "source": [
    "# To vanlige filtre\n",
    "\n",
    "1. ***Middelverdifilter:***\n",
    "    * Hver sample i utgangssignalet $y[n]$ er gjennomsnittet til de $L$ nyeste samplene av inngangssignalet $x[n]$.\n",
    "    * Eksempel: 5-punkts middelverdifilter\n",
    "$$y[n] = \\frac{1}{5}x[n] + \\frac{1}{5}x[n-1] + \\frac{1}{5}x[n-2] + \\frac{1}{5}x[n-3] + \\frac{1}{5}x[n-4]$$\n",
    "\n",
    "\n",
    "2. ***Eksponentielt glattefilter:***\n",
    "    * Utgangsveriden $y[n]$ utregnes basert på forrige utgangsverdi $y[n-1]$ og inngangsverdien $x[n]$\n",
    "    * Eksempel:\n",
    "$$y[n] = \\alpha \\cdot y[n-1] + (1-\\alpha) \\cdot x[n]$$"
   ]
  },
  {
   "cell_type": "code",
   "execution_count": 25,
   "metadata": {},
   "outputs": [
    {
     "data": {
      "text/plain": [
       "(0.0, 127.0)"
      ]
     },
     "execution_count": 25,
     "metadata": {},
     "output_type": "execute_result"
    },
    {
     "data": {
      "application/vnd.jupyter.widget-view+json": {
       "model_id": "cf5924337a8e4126937be81582d5e2fe",
       "version_major": 2,
       "version_minor": 0
      },
      "image/png": "[encoded data removed]",
      "text/html": [
       "\n",
       "            <div style=\"display: inline-block;\">\n",
       "                <div class=\"jupyter-widgets widget-label\" style=\"text-align: center;\">\n",
       "                    Figure\n",
       "                </div>\n",
       "                <img src='data:image/png;base64,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' width=640.0/>\n",
       "            </div>\n",
       "        "
      ],
      "text/plain": [
       "Canvas(toolbar=Toolbar(toolitems=[('Home', 'Reset original view', 'home', 'home'), ('Back', 'Back to previous …"
      ]
     },
     "metadata": {},
     "output_type": "display_data"
    }
   ],
   "source": [
    "import scipy.signal as sig\n",
    "N = 128\n",
    "n = np.arange(N)\n",
    "xn = sig.square(2*np.pi*1.5*n/N)\n",
    "\n",
    "a_1, b_1 = [1], np.ones(5)/5\n",
    "a_2, b_2 = [1, -0.9], [0.1]\n",
    "\n",
    "y1 = sig.lfilter(b_1, a_1, xn)\n",
    "y2 = sig.lfilter(b_2, a_2, xn)\n",
    "\n",
    "plt.figure()\n",
    "plt.stem(xn, markerfmt='.')\n",
    "plt.stem(y1, markerfmt=\"x\", linefmt=\"C1\", label=\"$y[n]$ (middelverdifilter)\")\n",
    "plt.stem(y2, markerfmt=\"d\", linefmt=\"C2\", label=\"$y_2[n]$ (eksponentielt glattefilter)\")\n",
    "plt.legend(loc=\"lower right\")\n",
    "plt.xlim([0, N-1])"
   ]
  },
  {
   "cell_type": "markdown",
   "metadata": {
    "slideshow": {
     "slide_type": "slide"
    }
   },
   "source": [
    "# Blokkskjema\n",
    "\n",
    "<img src=\"Figurer/10_Digitale Filtre Intro/Fig9_Blocks.png\" style=\"width: 80%\" />"
   ]
  },
  {
   "cell_type": "markdown",
   "metadata": {
    "slideshow": {
     "slide_type": "skip"
    }
   },
   "source": [
    "# Kausale LTI-system\n",
    "\n",
    "* Viktige egenskaper i signalbehandling\n",
    "* Realiserbare system med stor grad av fleksibilitet"
   ]
  },
  {
   "cell_type": "markdown",
   "metadata": {
    "slideshow": {
     "slide_type": "skip"
    }
   },
   "source": [
    "# Nøkkelegenskap: Kausalitet\n",
    "* Aksjon $\\rightarrow$ Reaksjon\n",
    "* Kausale systemer avhenger kun av nåværende signalverdi og input til systemet som allerede har skjedd.\n",
    "* Absolutt nødvendig for systemer som skal operere i sanntid (f.eks. digitale kontrollere).\n",
    "    * Alle fysiske system er kausale."
   ]
  },
  {
   "cell_type": "markdown",
   "metadata": {
    "slideshow": {
     "slide_type": "fragment"
    }
   },
   "source": [
    "* Systemer som prosesserer f.eks. komplette mediefiler/datafiler kan være antikausale."
   ]
  },
  {
   "cell_type": "markdown",
   "metadata": {
    "slideshow": {
     "slide_type": "skip"
    }
   },
   "source": [
    "# Kausalitet illustrert\n",
    "\n",
    "* \"Fortids-vinduet\" vokser med 1 sample for hver nye sample vi tar.\n",
    "<img src=\"Figurer/10_Digitale Filtre Intro/Fig3_Kausalitet.png\" style=\"width: 90%; margin-left=100px\" />"
   ]
  },
  {
   "cell_type": "markdown",
   "metadata": {
    "slideshow": {
     "slide_type": "skip"
    }
   },
   "source": [
    "## Eksempel: Kausalt 3-punkts middelverdifilter\n",
    "\n",
    "* Bruker foregående sampleverdier for $x[n]$\n",
    "    - Dersom filteret opererer i sanntid, er ikke neste sampleverdi tilgjengelig før det aktuelle samplingstidspunktet.\n",
    "\n",
    "<img src=\"Figurer/10_Digitale Filtre Intro/Fig4_Kausalitet2.png\" style=\"width: 100%\" />"
   ]
  },
  {
   "cell_type": "markdown",
   "metadata": {
    "slideshow": {
     "slide_type": "skip"
    }
   },
   "source": [
    "## 3-punkts middelverdifilter illustrert\n",
    "\n",
    "<img src=\"Figurer/10_Digitale Filtre Intro/Fig5_Kausalitet3.png\" style=\"width: 80%\" />"
   ]
  },
  {
   "cell_type": "markdown",
   "metadata": {
    "slideshow": {
     "slide_type": "skip"
    }
   },
   "source": [
    "## Eksempel: Antikausalt 3-pukts middelverdifilter\n",
    "\n",
    "<img src=\"Figurer/10_Digitale Filtre Intro/Fig6_Kausalitet4.png\" style=\"width: 100%\" />"
   ]
  },
  {
   "cell_type": "markdown",
   "metadata": {
    "slideshow": {
     "slide_type": "skip"
    }
   },
   "source": [
    "# Nøkkelegenskap: Linearitet\n",
    "\n",
    "* Et system kan regnes som lineært dersom det oppfyller to enkle krav:\n",
    "* Gitt $y[n] = F(x[n])$, der $F$ er funksjonen til systemet:\n",
    "\n",
    "    * **Additivitet:**\n",
    "    $$F(x_1[n] + x_2[n]) = F(x_1[n])+F(x_2[n])$$\n",
    "    \n",
    "    * **Homogenitet:**\n",
    "    $$F(\\alpha \\cdot x[n]) = \\alpha \\cdot F(x[n])$$"
   ]
  },
  {
   "cell_type": "markdown",
   "metadata": {
    "slideshow": {
     "slide_type": "skip"
    }
   },
   "source": [
    "## Illustrasjon av Additivet:\n",
    "\n",
    "\n",
    "<img src=\"Figurer/10_Digitale Filtre Intro/Fig7_Additivity.png\" style=\"width: 60%; margin-left: 100px%\" />"
   ]
  },
  {
   "cell_type": "markdown",
   "metadata": {
    "slideshow": {
     "slide_type": "skip"
    }
   },
   "source": [
    "# Nøkkelegenskap: Tidsinvarians\n",
    "\n",
    "\n",
    "* Gitt $y[n] = F(x[n])$, der $F$ er funksjonen til systemet:\n",
    "$$F(x[n-N]) = y[n-N]$$\n",
    "\n",
    "* Illustrasjon:\n",
    "<img src=\"Figurer/10_Digitale Filtre Intro/Fig8_TimeInv.png\" style=\"width: 80%; margin-left: 100px%\" />"
   ]
  },
  {
   "cell_type": "markdown",
   "metadata": {
    "slideshow": {
     "slide_type": "skip"
    }
   },
   "source": [
    "## Eksempler:\n",
    "* Eksempel på kausalt LTI system:\n",
    "$$y[n] = 0.5\\cdot x[n] - 0.5\\cdot x[n-1]$$\n",
    "* Eksempel på ulineært men tidsinvariant system:\n",
    "$$y[n] = x^2[n]$$\n",
    "* Eksempel på lineært men *ikke* tidsinvariant system:\n",
    "$$y[n] = x[2\\cdot n]$$"
   ]
  },
  {
   "cell_type": "markdown",
   "metadata": {
    "slideshow": {
     "slide_type": "notes"
    }
   },
   "source": [
    "* Når vi arbeider med hele datafiler i øvingene mister kausalitet som begrep noe av betydningen, men dersom man skal implementere et digitalt filter på f.eks. en arduino er det helt sentralt."
   ]
  },
  {
   "cell_type": "markdown",
   "metadata": {
    "slideshow": {
     "slide_type": "notes"
    }
   },
   "source": [
    "1. $y[n] = 2+x[n-1]$\n",
    "2. $y[n] = n\\cdot x[n]$\n",
    "3. $y[n] = x[n]+x[n+5]$"
   ]
  },
  {
   "cell_type": "markdown",
   "metadata": {
    "slideshow": {
     "slide_type": "slide"
    }
   },
   "source": [
    "# Generell differanselikning for kausale LTI-system\n",
    "\n",
    "* ***Alle*** kausale LTI-system kan beskrives med en generell differanselikning:\n",
    "\n",
    "### $$ \\sum_{k=0}^{N}a_k\\cdot  y[n-k] = \\sum_{k=0}^{M} b_k \\cdot x[n-k]$$\n",
    "\n",
    "* $a$ og $b$ er tallrekker som inneholder de ulike koeffisientene til systemet/filteret.\n",
    "\\begin{align}\n",
    "a_k &\\in \\{a_0, a_1,\\ldots , a_N\\}\\\\\n",
    "b_k &\\in \\{b_0, b_1, \\ldots, b_M\\}\n",
    "\\end{align}"
   ]
  },
  {
   "cell_type": "markdown",
   "metadata": {
    "slideshow": {
     "slide_type": "slide"
    }
   },
   "source": [
    "# Impulsrespons\n",
    "\n",
    "* Premiss for LTI-system:\n",
    "    * *Dersom systemets reaksjon til en deltapuls $\\delta[n]$ er kjent, er det mulig å predikere hvordan systemet vil reagere på alle mulige inngangssignal.*\n",
    "* Utgangssignalet til et LTI-system gitt en impuls $\\delta[n]$ som inngangssignal kalles impulsresponsen $h[n]$ til systemet.\n",
    "\n",
    "<br>\n",
    "<br>\n",
    "<img src=\"Figurer/10_Digitale Filtre Intro/Fig10_hn.png\" style=\"width: 60%; margin-left: 200px%\" />"
   ]
  },
  {
   "cell_type": "markdown",
   "metadata": {
    "slideshow": {
     "slide_type": "slide"
    }
   },
   "source": [
    "# Repetisjon deltapuls\n",
    "* **Definisjon:**\n",
    "$$\n",
    "\\delta[n] = \n",
    "\\begin{cases}\n",
    "1, n=0\\\\\n",
    "0, n\\neq 0\n",
    "\\end{cases}\n",
    "$$\n",
    "\n",
    "* Etthvert signal kan beskrives som en *lineær kombinasjon* av deltapulser:\n",
    "\\begin{align}\n",
    "x[n] &=\\ldots + x[-1] \\cdot \\delta[n+1] + x[0]\\cdot \\delta[n] + x[1] \\cdot \\delta[n-1] + \\ldots \\\\\n",
    "&= \\sum_{k=-\\infty}^{\\infty} x[k]\\cdot \\delta[n-k]\n",
    "\\end{align}"
   ]
  },
  {
   "cell_type": "markdown",
   "metadata": {
    "slideshow": {
     "slide_type": "slide"
    }
   },
   "source": [
    "# Utregning av utgangssignal:\n",
    "\n",
    "* Impulsrespons:\n",
    "$$h[n] = F(\\delta[n])$$\n",
    "\n",
    "* Arbitrært utgangssignal $y[n]$:\n",
    "\\begin{align}\n",
    "y[n] &= F(x[n])\\\\\n",
    "     &= F\\left(\\sum_{k=-\\infty}^{\\infty} x[k]\\cdot \\delta[n-k]\\right)\\\\\n",
    "     &= \\sum_{k=-\\infty}^{\\infty} x[k]\\cdot F(\\delta[n-k])\\\\\n",
    "     &= \\sum_{k=-\\infty}^{\\infty} x[k]\\cdot h[n-k]\n",
    "\\end{align}"
   ]
  },
  {
   "cell_type": "markdown",
   "metadata": {
    "slideshow": {
     "slide_type": "slide"
    }
   },
   "source": [
    "# Konvolusjon\n",
    "\n",
    "* Utgangssignalet til et LTI-system utregnes ved å utføre ***konvolusjon*** av inngangssignalet $x[n]$ og impulsresponsen $h[n]$.\n",
    "    * Konvolusjon har en egen matematisk operator: $*$.\n",
    "\n",
    "\\begin{align}\n",
    "y[n] &= \\sum_{k=-\\infty}^{\\infty} x[k]\\cdot h[n-k]\\\\\n",
    "&= x[n]*h[n]\n",
    "\\end{align}"
   ]
  },
  {
   "cell_type": "markdown",
   "metadata": {
    "slideshow": {
     "slide_type": "skip"
    }
   },
   "source": [
    "# FIR Filtre\n",
    "\n",
    "\n",
    "* **FIR** - **F**inite **I**mpulse **R**esponse\n",
    "* Fellesbetegnelse for filter som regner ut utgangsveriden $y[n]$ *kun* med basert på en lineær kombinasjon av verdiene til inngangssignalet $x[n]$ ved forskjellige sampletidspunkt.\n",
    "\n",
    "### $$y[n] = \\sum_{k=0}^{M} b_k \\cdot x[n-k]$$\n",
    "\n",
    "* Filterordenen til et FIR filter er gitt ved konstanten $M$\n",
    "    * Avgjør hvor langt tilbake i tid et filter må \"huske\" når det regner ut den filtrerte utgangsveriden $y[n]$."
   ]
  },
  {
   "cell_type": "markdown",
   "metadata": {
    "slideshow": {
     "slide_type": "skip"
    }
   },
   "source": [
    "# Blokkskjemarepresentasjon\n",
    "\n",
    "* Visuell fremstilling av en filteralgoritme\n",
    "* Følgende generelle form for FIR filter\n",
    "\n",
    "<img src=\"Figurer/10_Digitale Filtre Intro/Fig13_FIR_struct.png\" style=\"width: 80%\" />\n",
    "\n",
    "* Såkalt *Direkte Form* implementasjon"
   ]
  },
  {
   "cell_type": "markdown",
   "metadata": {
    "slideshow": {
     "slide_type": "skip"
    }
   },
   "source": [
    "# FIR filtre impulsrespons\n",
    "\n",
    "\\begin{align}\n",
    "h[n] &= \\sum_{k=0}^{M} b_k \\cdot \\delta[n-k]\\\\\n",
    "     &= b_0 \\cdot \\delta[n] + b_1\\cdot \\delta[n-1] + \\ldots + b_M\\cdot \\delta[n-M]\n",
    "\\end{align}\n",
    "\n",
    "* Impulsresponsen til et FIR filter er et signal som gjengir filterkoeffisientene $b_k$\n",
    "<img src=\"Figurer/10_Digitale Filtre Intro/Fig11_FIR.png\" style=\"width: 80%; margin-left: 100px%\" />"
   ]
  },
  {
   "cell_type": "markdown",
   "metadata": {
    "slideshow": {
     "slide_type": "skip"
    }
   },
   "source": [
    "## Eksempel på FIR filter: *Middelverdifilter*\n",
    "\n",
    "* Et $L$-punkts middelverdifilter rgner ut gjennomsnittsverdien av de $L$ foregående samplene til signalet $x[n]$.\n",
    "* Fungerer som et lavpassfilter ved å glatte ut momentane endringer i signalet.\n",
    "* Filterkoeffisienter:\n",
    "$$b_k = \\left[\\frac{1}{L}, \\frac{1}{L}, \\ldots, \\frac{1}{L}\\right]$$\n",
    "\n",
    "* Lite komplisert og mye brukt."
   ]
  },
  {
   "cell_type": "markdown",
   "metadata": {
    "slideshow": {
     "slide_type": "slide"
    }
   },
   "source": [
    "## Regneeksempel 1:\n",
    "\n",
    "* Finn et uttrykk for impulsresponsen $h[n]$ til et 8-punkts middelverdifilter."
   ]
  },
  {
   "cell_type": "markdown",
   "metadata": {
    "slideshow": {
     "slide_type": "slide"
    }
   },
   "source": [
    "## Demo: Filtrering av signal med konvolusjon"
   ]
  },
  {
   "cell_type": "code",
   "execution_count": 5,
   "metadata": {
    "slideshow": {
     "slide_type": "fragment"
    }
   },
   "outputs": [
    {
     "ename": "NameError",
     "evalue": "name 'convolutionDemo' is not defined",
     "output_type": "error",
     "traceback": [
      "\u001b[0;31m---------------------------------------------------------------------------\u001b[0m",
      "\u001b[0;31mNameError\u001b[0m                                 Traceback (most recent call last)",
      "Cell \u001b[0;32mIn[5], line 3\u001b[0m\n\u001b[1;32m      1\u001b[0m n \u001b[38;5;241m=\u001b[39m np\u001b[38;5;241m.\u001b[39marange(\u001b[38;5;241m30\u001b[39m); xn \u001b[38;5;241m=\u001b[39m np\u001b[38;5;241m.\u001b[39mcos(pi\u001b[38;5;241m/\u001b[39m\u001b[38;5;241m10\u001b[39m\u001b[38;5;241m*\u001b[39mn) \u001b[38;5;66;03m# Sinussekvens\u001b[39;00m\n\u001b[1;32m      2\u001b[0m hn \u001b[38;5;241m=\u001b[39m np\u001b[38;5;241m.\u001b[39marray(np\u001b[38;5;241m.\u001b[39mones(\u001b[38;5;241m5\u001b[39m)\u001b[38;5;241m/\u001b[39m\u001b[38;5;241m5\u001b[39m)                      \u001b[38;5;66;03m# \u001b[39;00m\n\u001b[0;32m----> 3\u001b[0m \u001b[43mconvolutionDemo\u001b[49m(xn, hn, fig_num\u001b[38;5;241m=\u001b[39m\u001b[38;5;241m2\u001b[39m,figsize\u001b[38;5;241m=\u001b[39m(\u001b[38;5;241m10\u001b[39m,\u001b[38;5;241m7\u001b[39m));    \u001b[38;5;66;03m#\u001b[39;00m\n",
      "\u001b[0;31mNameError\u001b[0m: name 'convolutionDemo' is not defined"
     ]
    }
   ],
   "source": [
    "n = np.arange(30); xn = np.cos(pi/10*n) # Sinussekvens\n",
    "hn = np.array(np.ones(5)/5)                      # \n",
    "convolutionDemo(xn, hn, fig_num=2,figsize=(10,7));    #"
   ]
  },
  {
   "cell_type": "markdown",
   "metadata": {
    "slideshow": {
     "slide_type": "skip"
    }
   },
   "source": [
    "* Stegvis beskrivelse av konvolusjon visuelt:\n",
    "    1. Tidsreverser (flip) impulsresponsen $h[n]$ rund $n=0$\n",
    "    2. Forskyv den filppede impulsresponsen $h[-n]$ langs tidsaksen.\n",
    "    3. Utfør punktvis multiplikasjon mellom flippet og forskjøvet impulsrespons med inngangssignalet.\n",
    "    4. Summer sammen resultatet fra punkt 3.\n",
    "* Anbefaler å prøve seg frem med ulike typer signal og impulsrespons. "
   ]
  },
  {
   "cell_type": "markdown",
   "metadata": {
    "slideshow": {
     "slide_type": "slide"
    }
   },
   "source": [
    "## Observasjoner.\n",
    "\n",
    "* Lengde utgangssignal tilsvarer summen av lengden til inngangssignalet og impulsresponsen minus 1.\n",
    "$$L_y = L_x + L_h -1$$\n",
    "\n",
    "\n",
    "* Digitale filtre har en \"responstid\", og det filtrerte signalet vil ofte \"henge etter\" inngangssignalet."
   ]
  },
  {
   "cell_type": "markdown",
   "metadata": {
    "slideshow": {
     "slide_type": "slide"
    }
   },
   "source": [
    "# Utregning av konvolusjon\n",
    "\n",
    "\\begin{align}\n",
    "y[n] &= \\sum_{k=-\\infty}^{\\infty} x[k]\\cdot h[n-k]\\\\\n",
    "     &= x[0]\\cdot h[n]+x[1]\\cdot h[n-1] + x[2]\\cdot h[n-2]\\ldots \n",
    "\\end{align}\n",
    "\n",
    "1. Sett opp de ulikt forkjøvne impulsresponsene $h[n-k]$ \n",
    "2. Multipliser med hver av samplene til $x[k]$\n",
    "3. Legg sammen alle impulsresponsene.\n",
    " \n",
    "* Mest oversiktlig ved å bruke en tabell (*eksempel på neste slide*)"
   ]
  },
  {
   "cell_type": "markdown",
   "metadata": {
    "slideshow": {
     "slide_type": "slide"
    }
   },
   "source": [
    "## Regneeksempel 2:\n",
    "* Bruk konvolusjon til å finne stegresponsen $s[n]$ til et system der impulsresponsen er \n",
    "$$h[n] = \\delta[n]-\\delta[n-1]+2\\delta[n-2]-\\delta[n-3]+\\delta[n-4]$$"
   ]
  },
  {
   "cell_type": "markdown",
   "metadata": {
    "slideshow": {
     "slide_type": "slide"
    }
   },
   "source": [
    "# Konvolusjon med python\n",
    "\n",
    "* Vi bruker `numpy`-funksjonen `convolve()`."
   ]
  },
  {
   "cell_type": "code",
   "execution_count": null,
   "metadata": {
    "slideshow": {
     "slide_type": "fragment"
    }
   },
   "outputs": [],
   "source": [
    "xn = np.ones(10) # x[n] = u[n]-u[n-10]\n",
    "hn = np.array([1, -1, 2, -1, 1]) # Fra regneeksempel 2\n",
    "yn = np.convolve(xn, hn)\n",
    "plt.close(3);plt.figure(3, figsize=(8,3))\n",
    "plt.stem(yn)"
   ]
  },
  {
   "cell_type": "markdown",
   "metadata": {
    "slideshow": {
     "slide_type": "slide"
    }
   },
   "source": [
    "# Konvolusjon egenskaper\n",
    "\n",
    "1. Kommutativ \n",
    "\\begin{align}\n",
    "x[n]*y[n] &= y[n]*x[n] \\\\\n",
    "\\sum_{k=-\\infty}^{\\infty} x[k]\\cdot y[n-k] &= \\sum_{k=-\\infty}^{\\infty} y[k]\\cdot x[n-k]\n",
    "\\end{align}\n",
    "\n",
    "\n",
    "2. Assossiativ\n",
    "$$(x[n]*y[n])*v[n] = x[n]*(y[n]*v[n])$$\n",
    "\n",
    "\n",
    "3. Distributiv *(linearitet)*\n",
    "$$(x[n] + y[n])*v[n] = x[n]*v[n] + y[n]*v[n]$$\n",
    "\n",
    "\n",
    "4. Konvolusjon og fouriertransformasjon\n",
    "$$ x[n]*y[n] \\leftrightarrow X\\left(e^{j\\hat{\\omega}} \\right)\\cdot Y\\left(e^{j\\hat{\\omega}} \\right)$$"
   ]
  },
  {
   "cell_type": "markdown",
   "metadata": {
    "slideshow": {
     "slide_type": "slide"
    }
   },
   "source": [
    "<img src=\"Figurer/10_Digitale Filtre Intro/Fig12_LTI_par.png\" style=\"width: 80%\" />"
   ]
  },
  {
   "cell_type": "markdown",
   "metadata": {
    "slideshow": {
     "slide_type": "slide"
    }
   },
   "source": [
    "<img src=\"Figurer/10_Digitale Filtre Intro/Fig12_LTI_cas.png\" style=\"width: 80%\" />"
   ]
  },
  {
   "cell_type": "markdown",
   "metadata": {
    "slideshow": {
     "slide_type": "slide"
    }
   },
   "source": [
    "## Regneeksempel 3:\n",
    "* Finn impulsresponsen til det samlede systemet $h_{tot}[n]$.\n",
    "\n",
    "<img src=\"Figurer/10_Digitale Filtre Intro/Fig14_Ex3.png\" style=\"width: 70%; margin-left: 100px\" />"
   ]
  },
  {
   "cell_type": "markdown",
   "metadata": {
    "slideshow": {
     "slide_type": "slide"
    }
   },
   "source": [
    "# Oppsummering\n",
    "\n",
    "* Digitale filtre tar i bruk en lineær kombinasjon av tilgjengelige signalsampler for å regne ut en utgangsverdi $y[n]$ for hver sample.\n",
    "* *Lineære*, og *Tidsinvariante* (LTI) system tillater mye fleksibilitet med tanke på rekkefølge av operasjoner, og kan beskrives med sin *impulsrespons* $h[n]$.\n",
    "* Utgangssignalet $y[n]$ til et LTI-system utregnes ved *konvolusjon* ($y[n] = x[n]*h[n]$).\n",
    "* *Kausale* system baserer seg kun på foregående signalsampler som allerede har \"vert gjennom\" systemet ved utregning av utgangsverdi $y[n]$. \n",
    "* *Filterordenen* for et digitalt filter forteller hvor langt bak i tid systemet må huske tidligere sampler.\n",
    "* FIR filter er en undergruppe av LTI-system hvor kun impulsresponsen $h[n]$ korresponderer med filterkoeffisentene.\n",
    "    * Kun definert med filterkoeffisenter $b_k$"
   ]
  }
 ],
 "metadata": {
  "celltoolbar": "Slideshow",
  "kernelspec": {
   "display_name": "Python 3 (ipykernel)",
   "language": "python",
   "name": "python3"
  },
  "language_info": {
   "codemirror_mode": {
    "name": "ipython",
    "version": 3
   },
   "file_extension": ".py",
   "mimetype": "text/x-python",
   "name": "python",
   "nbconvert_exporter": "python",
   "pygments_lexer": "ipython3",
   "version": "3.10.8"
  },
  "varInspector": {
   "cols": {
    "lenName": 16,
    "lenType": 16,
    "lenVar": 40
   },
   "kernels_config": {
    "python": {
     "delete_cmd_postfix": "",
     "delete_cmd_prefix": "del ",
     "library": "var_list.py",
     "varRefreshCmd": "print(var_dic_list())"
    },
    "r": {
     "delete_cmd_postfix": ") ",
     "delete_cmd_prefix": "rm(",
     "library": "var_list.r",
     "varRefreshCmd": "cat(var_dic_list()) "
    }
   },
   "types_to_exclude": [
    "module",
    "function",
    "builtin_function_or_method",
    "instance",
    "_Feature"
   ],
   "window_display": false
  }
 },
 "nbformat": 4,
 "nbformat_minor": 4
}
