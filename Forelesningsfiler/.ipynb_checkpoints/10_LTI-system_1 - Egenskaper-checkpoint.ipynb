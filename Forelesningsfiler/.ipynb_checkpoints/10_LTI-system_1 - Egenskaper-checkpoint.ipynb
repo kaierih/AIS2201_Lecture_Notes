{
 "cells": [
  {
   "cell_type": "code",
   "execution_count": 4,
   "metadata": {},
   "outputs": [],
   "source": [
    "# Generelle moduler og funksjonsbeskrivelser brukt i forelesningen\n",
    "from numpy import sin, cos, pi, exp\n",
    "import numpy.fft as fft\n",
    "import numpy as np\n",
    "import matplotlib.pyplot as plt\n",
    "import scipy.signal as sig\n",
    "\n",
    "plt.rcParams[\"figure.figsize\"] = [8.00, 4.5]\n",
    "plt.rcParams[\"figure.autolayout\"] = True\n",
    "plt.rcParams[\"axes.grid\"] = True\n",
    "plt.rcParams[\"axes.xmargin\"] = 0.0\n",
    "\n",
    "%matplotlib ipympl"
   ]
  },
  {
   "cell_type": "markdown",
   "metadata": {
    "slideshow": {
     "slide_type": "slide"
    }
   },
   "source": [
    "<img src=\"Figurer/NTNU_Logo.png\" align=\"left\" style=\"width: 30%\">\n",
    "<br clear=\"all\" />\n",
    "<br></br>\n",
    "\n",
    "# Digitale LTI-system\n",
    "\n",
    "* **Emne AIS2201 - Signalbehandling**\n",
    "* **Uke 41, 2021**\n",
    "* **Relevant Pensum:**\n",
    "    * Kapittel 1.3 - 1.8 i læreboka understanding DSP\n",
    "* **Underviser: Kai Erik Hoff**"
   ]
  },
  {
   "cell_type": "markdown",
   "metadata": {
    "slideshow": {
     "slide_type": "skip"
    }
   },
   "source": [
    "# Tema:\n",
    "* Signal og System\n",
    "* Digitale Filtre - hva og hvorfor?\n",
    "* Bruk av digitale filtre\n",
    "\n"
   ]
  },
  {
   "cell_type": "markdown",
   "metadata": {
    "slideshow": {
     "slide_type": "slide"
    }
   },
   "source": [
    "# Hva er et filter?\n",
    "* I signalbehandlingssammenheng refererer et **filter** til et system som demper uønskede frekvenskomponenter i et signal.\n",
    "\n",
    "    \n",
    "<img src=\"Figurer/10_Digitale Filtre Intro/FilterIllustration.png\" style=\"margin-left=200px\" width=\"60%\"/>"
   ]
  },
  {
   "cell_type": "markdown",
   "metadata": {
    "slideshow": {
     "slide_type": "slide"
    }
   },
   "source": [
    "# Analoge filtre\n",
    "* Fysiske elektroniske kretser.\n",
    "* Beskrives matematisk med en differensiallikning *(eller en transferfunksjon)*.\n",
    "* Eksempel: RLC-krets:\n",
    "<img src=\"Figurer/10_Digitale Filtre Intro/Fig1_analogFilt.png\" style=\"width: 80%; margin-left=100px\" />"
   ]
  },
  {
   "cell_type": "markdown",
   "metadata": {
    "slideshow": {
     "slide_type": "slide"
    }
   },
   "source": [
    "# Digitale filter: \n",
    "\n",
    "* Et digitalt signalbehandlingssystem som produserer én utgangsverdi $y[n]$ for hver nye inngangsverdi $x[n]$ som systemet tar inn:\n",
    "\n",
    "<img src=\"Figurer/10_Digitale Filtre Intro/Fig0_DSPSystem.png\" width=\"60%\" />\n",
    "\n",
    "* Illustrasjon av digitalt filter i sanntid\n",
    "\n",
    "<img src=\"Figurer/10_Digitale Filtre Intro/Fig5_FilterAnimation.gif\" width=\"40%\"  />"
   ]
  },
  {
   "cell_type": "markdown",
   "metadata": {
    "slideshow": {
     "slide_type": "slide"
    }
   },
   "source": [
    "## Eksempel: Implementasjon på Arduino\n",
    "<pre>\n",
    "<font color=\"#00979c\">void</font> <font color=\"#5e6d03\">loop</font><font color=\"#000000\">(</font><font color=\"#000000\">)</font> <font color=\"#000000\">{</font>\n",
    " &nbsp;<font color=\"#5e6d03\">if</font> <font color=\"#000000\">(</font><font color=\"#000000\">sampleTimer</font><font color=\"#434f54\">.</font><font color=\"#000000\">hasExpired</font><font color=\"#000000\">(</font><font color=\"#000000\">)</font><font color=\"#000000\">)</font>\n",
    " &nbsp;<font color=\"#000000\">{</font>\n",
    " &nbsp;&nbsp;&nbsp;<font color=\"#000000\">sampleTimer</font><font color=\"#434f54\">.</font><font color=\"#000000\">start</font><font color=\"#000000\">(</font><font color=\"#000000\">T_S</font><font color=\"#000000\">)</font><font color=\"#000000\">;</font> &nbsp;&nbsp;&nbsp;&nbsp;&nbsp;&nbsp;&nbsp;&nbsp;&nbsp;&nbsp;&nbsp;&nbsp;&nbsp;&nbsp;&nbsp;&nbsp;&nbsp;&nbsp;&nbsp;&nbsp;&nbsp;&nbsp;&nbsp;&nbsp;&nbsp;&nbsp;&nbsp;&nbsp;\n",
    " &nbsp;&nbsp;&nbsp;<font color=\"#00979c\">float</font> <font color=\"#000000\">input_sample</font> <font color=\"#434f54\">=</font> <font color=\"#000000\">(</font><font color=\"#00979c\">float</font><font color=\"#000000\">)</font><font color=\"#d35400\">analogRead</font><font color=\"#000000\">(</font><font color=\"#000000\">SIG_INPUT</font><font color=\"#000000\">)</font><font color=\"#000000\">;</font> &nbsp;&nbsp;&nbsp;&nbsp;&nbsp;&nbsp;&nbsp;&nbsp;&nbsp;&nbsp;&nbsp;&nbsp;&nbsp;&nbsp;<font color=\"#434f54\">&#47;&#47; Get Input Sample</font>\n",
    " &nbsp;&nbsp;&nbsp;<font color=\"#00979c\">float</font> <font color=\"#000000\">output_sample</font> <font color=\"#434f54\">=</font><font color=\"#000000\"> filter_sample</font><font color=\"#000000\">(</font><font color=\"#000000\">input_sample</font><font color=\"#000000\">)</font><font color=\"#000000\">;</font> &nbsp;&nbsp;&nbsp;&nbsp;<font color=\"#434f54\">&#47;&#47; Filter latest input sample</font>\n",
    " &nbsp;&nbsp;&nbsp;<font color=\"#d35400\">analogWrite</font><font color=\"#000000\">(</font><font color=\"#000000\">SIG_OUTPUT</font><font color=\"#434f54\">,</font> <font color=\"#d35400\">round</font><font color=\"#000000\">(</font><font color=\"#000000\">output_sample</font><font color=\"#434f54\">&#47;</font><font color=\"#000000\">4</font><font color=\"#000000\">)</font><font color=\"#000000\">)</font><font color=\"#000000\">;</font> &nbsp;&nbsp;&nbsp;&nbsp;&nbsp;&nbsp;&nbsp;&nbsp;&nbsp;&nbsp;&nbsp;&nbsp;&nbsp;&nbsp;&nbsp;&nbsp;<font color=\"#434f54\">&#47;&#47; Set output level</font>\n",
    " &nbsp;<font color=\"#000000\">}</font>\n",
    "<font color=\"#000000\">}</font>\n",
    "\n",
    "</pre>"
   ]
  },
  {
   "cell_type": "markdown",
   "metadata": {
    "slideshow": {
     "slide_type": "slide"
    }
   },
   "source": [
    "# Nøkkelegenskaper digitale filtre"
   ]
  },
  {
   "cell_type": "markdown",
   "metadata": {
    "slideshow": {
     "slide_type": "fragment"
    }
   },
   "source": [
    "### Linearitet\n",
    "* Det skal være en lineær relasjon mellom utganngssignalet $y[n]$ og inngangssignalet $x[n]$"
   ]
  },
  {
   "cell_type": "markdown",
   "metadata": {
    "slideshow": {
     "slide_type": "fragment"
    }
   },
   "source": [
    "### Tidsinvarians\n",
    "\n",
    "* Oppførselen til et system varierer ikke avhengig av tidspunkt"
   ]
  },
  {
   "cell_type": "markdown",
   "metadata": {
    "slideshow": {
     "slide_type": "fragment"
    }
   },
   "source": [
    "### Kausalitet\n",
    "* Utgangsverdien $y[n]$ avhenger kun av signalverdier med samplenummer $n-k, \\ \\ \\ k \\in \\{0, 1, 2, \\ldots\\}$"
   ]
  },
  {
   "cell_type": "markdown",
   "metadata": {
    "slideshow": {
     "slide_type": "slide"
    }
   },
   "source": [
    "# Hvorfor er LTI-system så viktige?"
   ]
  },
  {
   "cell_type": "markdown",
   "metadata": {
    "slideshow": {
     "slide_type": "slide"
    }
   },
   "source": [
    "# Hvordan sikrer vi at et system er lineært og tidsinvariant?"
   ]
  },
  {
   "cell_type": "markdown",
   "metadata": {
    "slideshow": {
     "slide_type": "fragment"
    }
   },
   "source": [
    "* **Hypotese:** dersom alle regneoperasjoner som utføres i et system er lineære og tidsinvariante, så må også systemet som helhet være tidsinvariant."
   ]
  },
  {
   "cell_type": "markdown",
   "metadata": {
    "slideshow": {
     "slide_type": "fragment"
    }
   },
   "source": [
    "### \"Tillatte\" regneoperasjoner:\n",
    "1. Skalering:\n",
    "$$y[n] = \\alpha \\cdot x[n]$$\n",
    "2. Tidsforsinkelse: \n",
    "$$ y[n] = x[n-D]$$\n",
    "3. Summasjon av to eller flere signalsampler:\n",
    "$$ y[n] = x[n-D_1] + x[n-D_2]$$"
   ]
  },
  {
   "cell_type": "markdown",
   "metadata": {
    "slideshow": {
     "slide_type": "slide"
    }
   },
   "source": [
    "# Blokkskjema\n",
    "\n",
    "<img src=\"Figurer/10_Digitale Filtre Intro/Fig9_Blocks.png\" style=\"width: 80%\" />"
   ]
  },
  {
   "cell_type": "markdown",
   "metadata": {
    "slideshow": {
     "slide_type": "slide"
    }
   },
   "source": [
    "# To vanlige filtre\n",
    "\n",
    "1. ***Middelverdifilter:***\n",
    "    * Hver sample i utgangssignalet $y[n]$ er gjennomsnittet til de $L$ nyeste samplene av inngangssignalet $x[n]$.\n",
    "    * Eksempel: 5-punkts middelverdifilter\n",
    "$$y[n] = \\frac{1}{5}x[n] + \\frac{1}{5}x[n-1] + \\frac{1}{5}x[n-2] + \\frac{1}{5}x[n-3] + \\frac{1}{5}x[n-4]$$\n",
    "\n",
    "\n",
    "2. ***Eksponentielt glattefilter:***\n",
    "    * Utgangsveriden $y[n]$ utregnes basert på forrige utgangsverdi $y[n-1]$ og inngangsverdien $x[n]$\n",
    "    * Eksempel:\n",
    "$$y[n] = 0.9 \\cdot y[n-1] + 0.1 \\cdot x[n]$$"
   ]
  },
  {
   "cell_type": "code",
   "execution_count": 2,
   "metadata": {},
   "outputs": [
    {
     "data": {
      "text/plain": [
       "(0.0, 127.0)"
      ]
     },
     "execution_count": 2,
     "metadata": {},
     "output_type": "execute_result"
    },
    {
     "data": {
      "application/vnd.jupyter.widget-view+json": {
       "model_id": "e0f70ef72d344f21ad38c60befeaecf7",
       "version_major": 2,
       "version_minor": 0
      },
      "image/png": "[encoded data removed]",
      "text/html": [
       "\n",
       "            <div style=\"display: inline-block;\">\n",
       "                <div class=\"jupyter-widgets widget-label\" style=\"text-align: center;\">\n",
       "                    Figure\n",
       "                </div>\n",
       "                <img src='data:image/png;base64,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' width=800.0/>\n",
       "            </div>\n",
       "        "
      ],
      "text/plain": [
       "Canvas(toolbar=Toolbar(toolitems=[('Home', 'Reset original view', 'home', 'home'), ('Back', 'Back to previous …"
      ]
     },
     "metadata": {},
     "output_type": "display_data"
    }
   ],
   "source": [
    "import scipy.signal as sig\n",
    "N = 128\n",
    "n = np.arange(N)\n",
    "xn = sig.square(2*np.pi*1.5*n/N)\n",
    "\n",
    "a_1, b_1 = [1], np.ones(20)/20\n",
    "a_2, b_2 = [1, -0.9], [0.1]\n",
    "\n",
    "y1 = sig.lfilter(b_1, a_1, xn)\n",
    "y2 = sig.lfilter(b_2, a_2, xn)\n",
    "\n",
    "plt.figure()\n",
    "plt.stem(xn, markerfmt='.')\n",
    "plt.stem(y1, markerfmt=\"x\", linefmt=\"C1\", label=\"$y[n]$ (middelverdifilter)\")\n",
    "plt.stem(y2, markerfmt=\"d\", linefmt=\"C2\", label=\"$y_2[n]$ (eksponentielt glattefilter)\")\n",
    "plt.legend(loc=\"lower right\")\n",
    "plt.xlim([0, N-1])"
   ]
  },
  {
   "cell_type": "markdown",
   "metadata": {
    "slideshow": {
     "slide_type": "slide"
    }
   },
   "source": [
    "## Eksempel: eksponentielt glattefilter i Arduino C\n",
    "\n",
    "<pre>\n",
    "<font color=\"#00979c\">float</font> <font color=\"#000000\">prev_y</font> <font color=\"#434f54\">=</font> <font color=\"#000000\">0</font><font color=\"#000000\">;</font> &nbsp;&nbsp;&nbsp;&nbsp;&nbsp;&nbsp;&nbsp;<font color=\"#434f54\">&#47;&#47; Global variable to store one sample between function calls</font>\n",
    "<font color=\"#00979c\">const</font> <font color=\"#00979c\">float</font> <font color=\"#000000\">ALPHA</font> <font color=\"#434f54\">=</font> <font color=\"#000000\">0.9</font><font color=\"#000000\">;</font> <font color=\"#434f54\">&#47;&#47; Scaling constants in the filter (filter coefficients)</font>\n",
    "\n",
    "<font color=\"#95a5a6\">&#47;* Function to process one single input value &#39;x&#39;, and return </font>\n",
    "<font color=\"#95a5a6\"> * &nbsp;a output sample &#39;y&#39; using an exponential averaging filter.</font>\n",
    "<font color=\"#95a5a6\"> * &nbsp;Filter response time is determined by the global constant</font>\n",
    "<font color=\"#95a5a6\"> * &nbsp;ALPHA.</font>\n",
    "<font color=\"#95a5a6\"> *&#47;</font>\n",
    "<font color=\"#00979c\">float</font> <font color=\"#000000\">filter_sample</font><font color=\"#000000\">(</font><font color=\"#00979c\">float</font> <font color=\"#000000\">x</font><font color=\"#000000\">)</font>\n",
    "<font color=\"#000000\">{</font>\n",
    " &nbsp;<font color=\"#00979c\">float</font> <font color=\"#000000\">y</font> <font color=\"#434f54\">=</font> <font color=\"#000000\">prev_y</font><font color=\"#434f54\">*</font><font color=\"#000000\">ALPHA</font> <font color=\"#434f54\">+</font> <font color=\"#000000\">x</font><font color=\"#434f54\">*</font><font color=\"#000000\">(</font><font color=\"#000000\">1</font><font color=\"#434f54\">-</font><font color=\"#000000\">ALPHA</font><font color=\"#000000\">)</font><font color=\"#000000\">;</font> <font color=\"#434f54\">&#47;&#47; Perform scaling of y[n-1] by ALPHA</font>\n",
    " &nbsp;<font color=\"#000000\">y</font> <font color=\"#434f54\">+=</font> <font color=\"#000000\">x</font><font color=\"#434f54\">*</font><font color=\"#000000\">(</font><font color=\"#000000\">1</font><font color=\"#434f54\">-</font><font color=\"#000000\">ALPHA</font><font color=\"#000000\">)</font><font color=\"#000000\">;</font> <font color=\"#434f54\">&#47;&#47; Perform scaling of x[n] by (1-ALPHA), and add to y[n]</font>\n",
    " &nbsp;<font color=\"#000000\">prev_y</font> <font color=\"#434f54\">=</font> <font color=\"#000000\">y</font><font color=\"#000000\">;</font> \n",
    " &nbsp;<font color=\"#95a5a6\">&#47;* Store the newly newly calculated output y[n] in variable &#34;prev_y&#34;.</font>\n",
    "<font color=\"#95a5a6\"> &nbsp;&nbsp;* &#34;prev_y&#34; will now contain the correct value for y[n-1] the next time </font>\n",
    "<font color=\"#95a5a6\"> &nbsp;&nbsp;* &#34;filter_sample&#34;is called. *&#47;</font>\n",
    " &nbsp;<font color=\"#5e6d03\">return</font> <font color=\"#000000\">y</font><font color=\"#000000\">;</font>\n",
    "<font color=\"#000000\">}</font>\n",
    "\n",
    "</pre>"
   ]
  },
  {
   "cell_type": "markdown",
   "metadata": {
    "slideshow": {
     "slide_type": "slide"
    }
   },
   "source": [
    "# Linearitet definert matematisk\n",
    "\n",
    "* Et system kan regnes som lineært dersom det oppfyller to enkle krav:\n",
    "* Gitt $y[n] = F(x[n])$, der $F$ er funksjonen til systemet:\n",
    "\n",
    "    * **Additivitet:**\n",
    "    $$F(x_1[n] + x_2[n]) = F(x_1[n])+F(x_2[n])$$\n",
    "    \n",
    "    * **Homogenitet:**\n",
    "    $$F(\\alpha \\cdot x[n]) = \\alpha \\cdot F(x[n])$$"
   ]
  },
  {
   "cell_type": "markdown",
   "metadata": {
    "slideshow": {
     "slide_type": "subslide"
    }
   },
   "source": [
    "## Illustrasjon av Additivet:\n",
    "\n",
    "\n",
    "<img src=\"Figurer/10_Digitale Filtre Intro/Fig7_Additivity.png\" style=\"width: 60%; margin-left: 100px%\" />"
   ]
  },
  {
   "cell_type": "markdown",
   "metadata": {
    "slideshow": {
     "slide_type": "slide"
    }
   },
   "source": [
    "# Nøkkelegenskap: Tidsinvarians\n",
    "\n",
    "\n",
    "* Gitt $y[n] = F(x[n])$, der $F$ er funksjonen til systemet:\n",
    "$$F(x[n-N]) = y[n-N]$$\n",
    "\n",
    "* Illustrasjon:\n",
    "<img src=\"Figurer/10_Digitale Filtre Intro/Fig8_TimeInv.png\" style=\"width: 80%; margin-left: 100px%\" />"
   ]
  },
  {
   "cell_type": "markdown",
   "metadata": {
    "slideshow": {
     "slide_type": "slide"
    }
   },
   "source": [
    "## Eksempler:\n",
    "* Eksempel på kausalt LTI system:\n",
    "$$y[n] = 0.5\\cdot x[n] - 0.5\\cdot x[n-1]$$\n",
    "* Eksempel på ulineært men tidsinvariant system:\n",
    "$$y[n] = x^2[n]$$\n",
    "* Eksempel på lineært men *ikke* tidsinvariant system:\n",
    "$$y[n] = x[2\\cdot n]$$"
   ]
  },
  {
   "cell_type": "markdown",
   "metadata": {
    "slideshow": {
     "slide_type": "slide"
    }
   },
   "source": [
    "### Regneeksempel:\n",
    "* Kartlegg hvovidt de tre systemene nedenfor er lineære eller tidsinvariante."
   ]
  },
  {
   "cell_type": "markdown",
   "metadata": {
    "slideshow": {
     "slide_type": "-"
    }
   },
   "source": [
    "1. $y[n] = 2+x[n-1]$\n",
    "2. $y[n] = n\\cdot x[n]$\n",
    "3. $y[n] = x[n]+x[n+5]$"
   ]
  },
  {
   "cell_type": "markdown",
   "metadata": {
    "slideshow": {
     "slide_type": "slide"
    }
   },
   "source": [
    "# Nøkkelegenskap: Kausalitet\n",
    "* Aksjon $\\rightarrow$ Reaksjon\n",
    "* Kausale systemer avhenger kun av nåværende signalverdi og input til systemet som allerede har skjedd.\n",
    "* Absolutt nødvendig for systemer som skal operere i sanntid (f.eks. digitale kontrollere).\n",
    "    * Alle fysiske system er kausale."
   ]
  },
  {
   "cell_type": "markdown",
   "metadata": {
    "slideshow": {
     "slide_type": "fragment"
    }
   },
   "source": [
    "* Systemer som prosesserer f.eks. komplette mediefiler/datafiler kan være antikausale."
   ]
  },
  {
   "cell_type": "markdown",
   "metadata": {
    "slideshow": {
     "slide_type": "slide"
    }
   },
   "source": [
    "# Kausalitet illustrert\n",
    "\n",
    "* \"Fortids-vinduet\" vokser med 1 sample for hver nye sample vi tar.\n",
    "<img src=\"Figurer/10_Digitale Filtre Intro/Fig3_Kausalitet.png\" style=\"width: 90%; margin-left=100px\" />"
   ]
  },
  {
   "cell_type": "markdown",
   "metadata": {
    "slideshow": {
     "slide_type": "slide"
    }
   },
   "source": [
    "## Eksempel: Kausalt 3-punkts middelverdifilter\n",
    "\n",
    "* Bruker foregående sampleverdier for $x[n]$\n",
    "    - Dersom filteret opererer i sanntid, er ikke neste sampleverdi tilgjengelig før det aktuelle samplingstidspunktet.\n",
    "\n",
    "<img src=\"Figurer/10_Digitale Filtre Intro/Fig4_Kausalitet2.png\" style=\"width: 100%\" />"
   ]
  },
  {
   "cell_type": "markdown",
   "metadata": {
    "slideshow": {
     "slide_type": "slide"
    }
   },
   "source": [
    "## 3-punkts middelverdifilter illustrert\n",
    "\n",
    "<img src=\"Figurer/10_Digitale Filtre Intro/Fig5_Kausalitet3.png\" style=\"width: 80%\" />"
   ]
  },
  {
   "cell_type": "markdown",
   "metadata": {
    "slideshow": {
     "slide_type": "slide"
    }
   },
   "source": [
    "## Eksempel: Antikausalt 3-pukts middelverdifilter\n",
    "\n",
    "<img src=\"Figurer/10_Digitale Filtre Intro/Fig6_Kausalitet4.png\" style=\"width: 100%\" />"
   ]
  },
  {
   "cell_type": "markdown",
   "metadata": {
    "slideshow": {
     "slide_type": "slide"
    }
   },
   "source": [
    "# Generell differanselikning for kausale LTI-system\n",
    "\n",
    "* ***Alle*** kausale LTI-system kan beskrives med en generell differanselikning:\n",
    "\n",
    "### $$ \\sum_{k=0}^{N}a_k\\cdot  y[n-k] = \\sum_{k=0}^{M} b_k \\cdot x[n-k]$$\n",
    "\n",
    "* $a$ og $b$ er tallrekker som inneholder de ulike koeffisientene til systemet/filteret.\n",
    "\\begin{align}\n",
    "a_k &\\in \\{a_0, a_1,\\ldots , a_N\\}\\\\\n",
    "b_k &\\in \\{b_0, b_1, \\ldots, b_M\\}\n",
    "\\end{align}"
   ]
  },
  {
   "cell_type": "markdown",
   "metadata": {
    "slideshow": {
     "slide_type": "fragment"
    }
   },
   "source": [
    "#### Viktig nøkkelferdighet:\n",
    "* Være i stand til å konvertere mellom differanseligning og filterkoeffisienter"
   ]
  },
  {
   "cell_type": "markdown",
   "metadata": {
    "slideshow": {
     "slide_type": "slide"
    }
   },
   "source": [
    "## Teorieksempel: \n",
    "\n",
    "* Hva blir filterkoeffisientene til filteret med differanseligningen nedenfor?\n",
    "\n",
    "$$ y[n] = x[n] - x[n-5] + 0.5\\cdot y[n-1]$$"
   ]
  },
  {
   "cell_type": "markdown",
   "metadata": {
    "slideshow": {
     "slide_type": "slide"
    }
   },
   "source": [
    "# Filterorden\n",
    "\n",
    "* Filterorden til et filter sier noe om *hvor langt tilbake i tid filteret må huske signalverdier*\n",
    "\n",
    "* Gitt et filter med den generelle differanseligningen\n",
    "$$ \\sum_{k=0}^{N}a_k\\cdot  y[n-k] = \\sum_{k=0}^{M} b_k \\cdot x[n-k]$$\n",
    "    Filterordene til filteret er da $\\text{max}(M, N)$."
   ]
  },
  {
   "cell_type": "markdown",
   "metadata": {
    "slideshow": {
     "slide_type": "slide"
    }
   },
   "source": [
    "## Teorieksempel: \n",
    "\n",
    "* Hva blir filterorden til filteret med differanseligningen nedenfor?\n",
    "\n",
    "$$ y[n] = x[n] - x[n-5] + 0.5\\cdot y[n-1]$$"
   ]
  },
  {
   "cell_type": "markdown",
   "metadata": {
    "slideshow": {
     "slide_type": "slide"
    }
   },
   "source": [
    "# Filtrering av signal i Python\n",
    "\n",
    "* Generell funksjon for filtrering med LTI-system: [`scipy.signal.lfilter(b, a, x)`](https://docs.scipy.org/doc/scipy/reference/generated/scipy.signal.lfilter.html).\n",
    "* Funksjonsargument:\n",
    "    * `b`: Filterkoeffisientene $b_k$\n",
    "    * `a`: Filterkoeffisientene $a_k$\n",
    "    * `x`: Array med det fulle inngangssignalet $x[n]$ som skal filtreres.\n"
   ]
  },
  {
   "cell_type": "code",
   "execution_count": 1,
   "metadata": {},
   "outputs": [
    {
     "ename": "NameError",
     "evalue": "name 'plt' is not defined",
     "output_type": "error",
     "traceback": [
      "\u001b[0;31m---------------------------------------------------------------------------\u001b[0m",
      "\u001b[0;31mNameError\u001b[0m                                 Traceback (most recent call last)",
      "Cell \u001b[0;32mIn[1], line 13\u001b[0m\n\u001b[1;32m      9\u001b[0m xn \u001b[38;5;241m=\u001b[39m sig\u001b[38;5;241m.\u001b[39msquare(np\u001b[38;5;241m.\u001b[39mpi\u001b[38;5;241m/\u001b[39m\u001b[38;5;241m27\u001b[39m\u001b[38;5;241m*\u001b[39mn)\n\u001b[1;32m     11\u001b[0m yn \u001b[38;5;241m=\u001b[39m sig\u001b[38;5;241m.\u001b[39mlfilter(b, a, xn)\n\u001b[0;32m---> 13\u001b[0m \u001b[43mplt\u001b[49m\u001b[38;5;241m.\u001b[39mfigure()\n\u001b[1;32m     14\u001b[0m plt\u001b[38;5;241m.\u001b[39mstem(xn, markerfmt\u001b[38;5;241m=\u001b[39m\u001b[38;5;124m'\u001b[39m\u001b[38;5;124m.\u001b[39m\u001b[38;5;124m'\u001b[39m, label\u001b[38;5;241m=\u001b[39m\u001b[38;5;124m\"\u001b[39m\u001b[38;5;124m$x[n]$\u001b[39m\u001b[38;5;124m\"\u001b[39m)\n\u001b[1;32m     15\u001b[0m plt\u001b[38;5;241m.\u001b[39mstem(yn, markerfmt\u001b[38;5;241m=\u001b[39m\u001b[38;5;124m\"\u001b[39m\u001b[38;5;124mx\u001b[39m\u001b[38;5;124m\"\u001b[39m, linefmt\u001b[38;5;241m=\u001b[39m\u001b[38;5;124m\"\u001b[39m\u001b[38;5;124mC1\u001b[39m\u001b[38;5;124m\"\u001b[39m, label\u001b[38;5;241m=\u001b[39m\u001b[38;5;124m\"\u001b[39m\u001b[38;5;124m$y[n]$\u001b[39m\u001b[38;5;124m\"\u001b[39m)\n",
      "\u001b[0;31mNameError\u001b[0m: name 'plt' is not defined"
     ]
    }
   ],
   "source": [
    "import scipy.signal as sig\n",
    "# Filterkoeffisienter\n",
    "b = [1,-1]\n",
    "a = [1]\n",
    "\n",
    "# Inngangssignal x[n]\n",
    "N = 128\n",
    "n = np.arange(N)\n",
    "xn = sig.square(np.pi/27*n)\n",
    "\n",
    "yn = sig.lfilter(b, a, xn)\n",
    "\n",
    "plt.figure()\n",
    "plt.stem(xn, markerfmt='.', label=\"$x[n]$\")\n",
    "plt.stem(yn, markerfmt=\"x\", linefmt=\"C1\", label=\"$y[n]$\")\n",
    "plt.legend(loc=\"lower right\")\n",
    "plt.xlim([0, N-1])"
   ]
  },
  {
   "cell_type": "markdown",
   "metadata": {
    "slideshow": {
     "slide_type": "slide"
    }
   },
   "source": [
    "# Spørsmål?"
   ]
  }
 ],
 "metadata": {
  "celltoolbar": "Slideshow",
  "kernelspec": {
   "display_name": "Python 3 (ipykernel)",
   "language": "python",
   "name": "python3"
  },
  "language_info": {
   "codemirror_mode": {
    "name": "ipython",
    "version": 3
   },
   "file_extension": ".py",
   "mimetype": "text/x-python",
   "name": "python",
   "nbconvert_exporter": "python",
   "pygments_lexer": "ipython3",
   "version": "3.10.8"
  },
  "varInspector": {
   "cols": {
    "lenName": 16,
    "lenType": 16,
    "lenVar": 40
   },
   "kernels_config": {
    "python": {
     "delete_cmd_postfix": "",
     "delete_cmd_prefix": "del ",
     "library": "var_list.py",
     "varRefreshCmd": "print(var_dic_list())"
    },
    "r": {
     "delete_cmd_postfix": ") ",
     "delete_cmd_prefix": "rm(",
     "library": "var_list.r",
     "varRefreshCmd": "cat(var_dic_list()) "
    }
   },
   "types_to_exclude": [
    "module",
    "function",
    "builtin_function_or_method",
    "instance",
    "_Feature"
   ],
   "window_display": false
  }
 },
 "nbformat": 4,
 "nbformat_minor": 4
}
