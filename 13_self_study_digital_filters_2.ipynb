{
 "cells": [
  {
   "cell_type": "code",
   "execution_count": 2,
   "metadata": {},
   "outputs": [],
   "source": [
    "# Generelle moduler og funksjonsbeskrivelser brukt i forelesningen\n",
    "from numpy import sin, cos, pi, exp\n",
    "import numpy.fft as fft\n",
    "import numpy as np\n",
    "import matplotlib.pyplot as plt\n",
    "import scipy.signal as sig\n",
    "\n",
    "%matplotlib ipympl"
   ]
  },
  {
   "cell_type": "markdown",
   "metadata": {
    "editable": true,
    "slideshow": {
     "slide_type": "slide"
    },
    "tags": []
   },
   "source": [
    "<img src=\"Figurer/NTNU_Logo.png\" align=\"left\" style=\"width: 30%\">\n",
    "<br clear=\"all\" />\n",
    "<br><br>\n",
    "\n",
    "#  Impulsrespons og konvolusjon\n",
    "* **Emne AIS2201 - Signalbehandling**\n",
    "* **Uke 10, 2022**\n",
    "<br>"
   ]
  },
  {
   "cell_type": "markdown",
   "metadata": {
    "slideshow": {
     "slide_type": "slide"
    }
   },
   "source": [
    "# Video 1 - Impulsrespons"
   ]
  },
  {
   "cell_type": "code",
   "execution_count": 11,
   "metadata": {
    "deletable": false,
    "editable": false,
    "hide_input": false,
    "init_cell": true,
    "run_control": {
     "frozen": true
    },
    "slideshow": {
     "slide_type": ""
    },
    "tags": []
   },
   "outputs": [
    {
     "data": {
      "text/html": [
       "<iframe src=\"https://ntnu.cloud.panopto.eu/Panopto/Pages/Embed.aspx?id=4cbcfc7d-44c8-4036-8db4-ae4e00c13a5a&autoplay=false&offerviewer=true&showtitle=true&showbrand=true&captions=false&interactivity=all\" height=\"405\" width=\"720\" style=\"border: 1px solid #464646;\" allowfullscreen allow=\"autoplay\"></iframe>\n"
      ],
      "text/plain": [
       "<IPython.core.display.HTML object>"
      ]
     },
     "metadata": {},
     "output_type": "display_data"
    }
   ],
   "source": [
    "%%html\n",
    "<iframe src=\"https://ntnu.cloud.panopto.eu/Panopto/Pages/Embed.aspx?id=4cbcfc7d-44c8-4036-8db4-ae4e00c13a5a&autoplay=false&offerviewer=true&showtitle=true&showbrand=true&captions=false&interactivity=all\" height=\"405\" width=\"720\" style=\"border: 1px solid #464646;\" allowfullscreen allow=\"autoplay\"></iframe>"
   ]
  },
  {
   "cell_type": "markdown",
   "metadata": {},
   "source": [
    "# Nøkkelpunkt fra video"
   ]
  },
  {
   "cell_type": "markdown",
   "metadata": {
    "editable": true,
    "slideshow": {
     "slide_type": "slide"
    },
    "tags": []
   },
   "source": [
    "## Repetisjon deltapuls\n",
    "\n",
    "\n",
    "\n",
    "<img src=\"Figurer/10_Digitale Filtre Intro/Fig1_dn.png\" style=\"width: 40%; margin-left: 10%; margin-right :10%\" align=\"right\"/>\n",
    "\n",
    "\n",
    "<br>\n",
    "\n",
    "* **Definisjon:**\n",
    "$$\n",
    "\\delta[n] = \n",
    "\\begin{cases}\n",
    "1, \\ \\ n=0\\\\\n",
    "0, \\ \\ n\\neq 0\n",
    "\\end{cases}\n",
    "$$\n"
   ]
  },
  {
   "cell_type": "markdown",
   "metadata": {
    "slideshow": {
     "slide_type": "slide"
    }
   },
   "source": [
    "## Impulsrespons\n",
    "\n",
    "* Premiss for LTI-system:\n",
    "    * *Dersom systemets reaksjon til en deltapuls $\\delta[n]$ er kjent, er det mulig å predikere hvordan systemet vil reagere på alle mulige inngangssignal.*\n",
    "* Utgangssignalet til et LTI-system gitt en impuls $\\delta[n]$ som inngangssignal kalles impulsresponsen $h[n]$ til systemet.\n",
    "\n",
    "<br>\n",
    "<br>\n",
    "<img src=\"Figurer/10_Digitale Filtre Intro/Fig10_hn.png\" style=\"width: 60%; margin-left: 200px%\" />"
   ]
  },
  {
   "cell_type": "markdown",
   "metadata": {
    "slideshow": {
     "slide_type": "slide"
    }
   },
   "source": [
    "## For FIR-Filtre\n",
    "\n",
    "\n",
    "* Impulsresponsen til et filter finner vi ved å sette inngangssignalet $x[n] = \\delta[n]$\n",
    "\\begin{align}\n",
    "y[n] &= \\sum_{k=0}^{M} b_k \\cdot x[n-k]\\\\\n",
    "h[n] &= y[n]\\big|_{x[n] = \\delta[n]}\\\\\n",
    "h[n] &= \\sum_{k=0}^{M} b_k \\cdot \\delta[n-k]\\\\\n",
    "&= b_0 \\cdot \\delta[n] + b_1\\cdot \\delta[n-1] + \\ldots + b_M\\cdot \\delta[n-M]\\\\ \\\\\n",
    "&= \n",
    "\\begin{cases}\n",
    "b_{k=n}, \\ \\ 0\\leq n \\leq M \\\\\n",
    "0, \\ \\ \\ \\ \\ \\ \\ \\text{ellers}\n",
    "\\end{cases}\n",
    "\\end{align}\n",
    "\n",
    "\n",
    "* Impulsresponen har en endelig lengde $M+1$, der alle sampler før $n=0$ og etter $n=M$ har verdien $0$. \n",
    "    * Derav navnet **FIR** - **F**inite **I**mpulse **R**esponse\n",
    "    * Impulsresponsen til et FIR filter er et signal som gjengir filterkoeffisientene $b_k$\n",
    "<img src=\"Figurer/10_Digitale Filtre Intro/Fig11_FIR.png\" style=\"width: 80%; margin-left: 100px%\" />"
   ]
  },
  {
   "cell_type": "markdown",
   "metadata": {
    "slideshow": {
     "slide_type": "slide"
    }
   },
   "source": [
    "## Eksempel på FIR filter: *Middelverdifilter*\n",
    "\n",
    "* Et $L$-punkts middelverdifilter rgner ut gjennomsnittsverdien av de $L$ foregående samplene til signalet $x[n]$.\n",
    "* Fungerer som et lavpassfilter ved å glatte ut momentane endringer i signalet.\n",
    "* Filterkoeffisienter:\n",
    "$$b_k = \\left[\\frac{1}{L}, \\frac{1}{L}, \\ldots, \\frac{1}{L}\\right]$$\n",
    "\n",
    "* Lite komplisert og mye brukt."
   ]
  },
  {
   "cell_type": "markdown",
   "metadata": {
    "slideshow": {
     "slide_type": "slide"
    }
   },
   "source": [
    "## Video: *impulsrespons regneeksempel*\n",
    "\n",
    "* Finn et uttrykk for impulsresponsen $h[n]$ til et 8-punkts middelverdifilter."
   ]
  },
  {
   "cell_type": "code",
   "execution_count": 12,
   "metadata": {
    "deletable": false,
    "hide_input": true,
    "init_cell": true,
    "run_control": {
     "frozen": true
    },
    "slideshow": {
     "slide_type": ""
    },
    "tags": []
   },
   "outputs": [
    {
     "data": {
      "text/html": [
       "<iframe src=\"https://ntnu.cloud.panopto.eu/Panopto/Pages/Embed.aspx?id=edebdc51-e957-4d5f-8502-ae5000e2f091&autoplay=false&offerviewer=true&showtitle=true&showbrand=true&captions=false&interactivity=all\" height=\"405\" width=\"720\" style=\"border: 1px solid #464646;\" allowfullscreen allow=\"autoplay\"></iframe>\n"
      ],
      "text/plain": [
       "<IPython.core.display.HTML object>"
      ]
     },
     "metadata": {},
     "output_type": "display_data"
    }
   ],
   "source": [
    "%%html\n",
    "<iframe src=\"https://ntnu.cloud.panopto.eu/Panopto/Pages/Embed.aspx?id=edebdc51-e957-4d5f-8502-ae5000e2f091&autoplay=false&offerviewer=true&showtitle=true&showbrand=true&captions=false&interactivity=all\" height=\"405\" width=\"720\" style=\"border: 1px solid #464646;\" allowfullscreen allow=\"autoplay\"></iframe>"
   ]
  },
  {
   "cell_type": "markdown",
   "metadata": {},
   "source": [
    "## Kontrollspørsmål:"
   ]
  },
  {
   "cell_type": "markdown",
   "metadata": {
    "solution2": "shown",
    "solution2_first": true
   },
   "source": [
    "1. Finn et uttrykk for impulsresponen til filteret med filterkoeffisienter gitt i tabellen under:\n",
    "\n",
    "| $k$ | $0$ | $1$ | $2$ | $3$ | $4$ | \n",
    "|---|---|---|---|---|---|\n",
    "|$b_k$| $\\frac{1}{4}$ | $0$ | $- \\frac{1}{2}$ | $0$ | $\\frac{1}{4}$ | "
   ]
  },
  {
   "cell_type": "markdown",
   "metadata": {
    "solution2": "shown"
   },
   "source": [
    "**Svar:**<br>\n",
    "Differanseligningen blir:\n",
    "$$\n",
    "\\begin{align}\n",
    "y[n] &= b_0 \\cdot x[n] + b_1 \\cdot x[n-1] + b_2 \\cdot x[n-2] + \\ldots \\\\\n",
    "&= \\frac{1}{4} \\cdot x[n] + 0 \\cdot x[n-1] - \\frac{1}{2}\\cdot x[n-2] + 0 \\cdot x[n-3] + \\frac{1}{4}\\cdot x[n-4]\\\\\n",
    "&= \\frac{1}{4} \\cdot x[n] - \\frac{1}{2}\\cdot x[n-2] + \\frac{1}{4}\\cdot x[n-4]\\\\\n",
    "\\end{align}\n",
    "$$\n",
    "\n",
    "\n",
    "Dermed finner vi impulsresponsen med substitusjonen $x[n] = \\delta[n]$:\n",
    "\n",
    "\n",
    "$$\n",
    "\\begin{align}\n",
    "h[n] &= y[n]\\big|_{x[n] = \\delta[n]}\\\\\n",
    "&= \\frac{1}{4} \\cdot \\delta[n] - \\frac{1}{2}\\cdot \\delta[n-2] + \\frac{1}{4}\\cdot \\delta[n-4]\\\\\n",
    "\\end{align}\n",
    "$$"
   ]
  },
  {
   "cell_type": "code",
   "execution_count": 4,
   "metadata": {
    "solution2": "shown"
   },
   "outputs": [
    {
     "data": {
      "application/vnd.jupyter.widget-view+json": {
       "model_id": "d569be19923d4102b7fc0cd54be43001",
       "version_major": 2,
       "version_minor": 0
      },
      "image/png": "[encoded data removed]",
      "text/html": [
       "\n",
       "            <div style=\"display: inline-block;\">\n",
       "                <div class=\"jupyter-widgets widget-label\" style=\"text-align: center;\">\n",
       "                    Figure\n",
       "                </div>\n",
       "                <img src='data:image/png;base64,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' width=500.0/>\n",
       "            </div>\n",
       "        "
      ],
      "text/plain": [
       "Canvas(toolbar=Toolbar(toolitems=[('Home', 'Reset original view', 'home', 'home'), ('Back', 'Back to previous …"
      ]
     },
     "metadata": {},
     "output_type": "display_data"
    }
   ],
   "source": [
    "# Pythonkode for å lage plot av impulsresponsen\n",
    "n = np.arange(5)\n",
    "hn = np.array([1/4, 0, -1/2, 0, 1/4])\n",
    "plt.close(1); plt.figure(1, figsize=(5,2.5))\n",
    "plt.stem(n, hn, basefmt=\"grey\")\n",
    "plt.grid(True)\n",
    "plt.title(r\"Impulsrespons $h[n]$\")\n",
    "plt.xlabel(r\"Samplenummer $n$\")\n",
    "plt.tight_layout()"
   ]
  },
  {
   "cell_type": "markdown",
   "metadata": {},
   "source": [
    "# Video 2 - Konvolusjon"
   ]
  },
  {
   "cell_type": "code",
   "execution_count": 13,
   "metadata": {
    "deletable": false,
    "editable": false,
    "hide_input": true,
    "init_cell": true,
    "run_control": {
     "frozen": true
    },
    "slideshow": {
     "slide_type": ""
    },
    "tags": []
   },
   "outputs": [
    {
     "data": {
      "text/html": [
       "<iframe src=\"https://ntnu.cloud.panopto.eu/Panopto/Pages/Embed.aspx?id=1cc8cc9d-2437-4a7f-b387-ae5000eac177&autoplay=false&offerviewer=true&showtitle=true&showbrand=true&captions=false&interactivity=all\" height=\"405\" width=\"720\" style=\"border: 1px solid #464646;\" allowfullscreen allow=\"autoplay\"></iframe>\n"
      ],
      "text/plain": [
       "<IPython.core.display.HTML object>"
      ]
     },
     "metadata": {},
     "output_type": "display_data"
    }
   ],
   "source": [
    "%%html\n",
    "<iframe src=\"https://ntnu.cloud.panopto.eu/Panopto/Pages/Embed.aspx?id=1cc8cc9d-2437-4a7f-b387-ae5000eac177&autoplay=false&offerviewer=true&showtitle=true&showbrand=true&captions=false&interactivity=all\" height=\"405\" width=\"720\" style=\"border: 1px solid #464646;\" allowfullscreen allow=\"autoplay\"></iframe>"
   ]
  },
  {
   "cell_type": "markdown",
   "metadata": {},
   "source": [
    "# Nøkkelpunkt fra video"
   ]
  },
  {
   "cell_type": "markdown",
   "metadata": {
    "slideshow": {
     "slide_type": "slide"
    }
   },
   "source": [
    "## Utregning av utgangssignal\n",
    "\n",
    "* Impulsrespons:\n",
    "$$h[n] = F(\\delta[n])$$\n",
    "\n",
    "* Etthvert signal kan beskrives som en *lineær kombinasjon* av deltapulser:\n",
    "\\begin{align}\n",
    "x[n] &=\\ldots + x[-1] \\cdot \\delta[n+1] + x[0]\\cdot \\delta[n] + x[1] \\cdot \\delta[n-1] + \\ldots \\\\\n",
    "&= \\sum_{k=0}^{\\infty} x[k]\\cdot \\delta[n-k]\n",
    "\\end{align}\n",
    "\n",
    "* Utregning av arbitrært utgangssignal $y[n]$ vil derfor kunne beskrives som en *lineær kombinasjon* av impulsresponser:\n",
    "\\begin{align}\n",
    "y[n] &= F(x[n])\\\\\n",
    "     &= F\\left(\\sum_{k=0}^{\\infty} x[k]\\cdot \\delta[n-k]\\right)\\\\\n",
    "     &= \\sum_{k=0}^{\\infty} x[k]\\cdot F(\\delta[n-k])\\\\\n",
    "     &= \\sum_{k=0}^{\\infty} x[k]\\cdot h[n-k]\n",
    "\\end{align}\n"
   ]
  },
  {
   "cell_type": "markdown",
   "metadata": {
    "slideshow": {
     "slide_type": "slide"
    }
   },
   "source": [
    "## Konvolusjon\n",
    "\n",
    "* Utgangssignalet til et LTI-system utregnes ved å utføre ***konvolusjon*** av inngangssignalet $x[n]$ og impulsresponsen $h[n]$.\n",
    "    * Konvolusjon har en egen matematisk operator: $*$.\n",
    "\n",
    "\\begin{align}\n",
    "y[n] &= \\sum_{k=-\\infty}^{\\infty} x[k]\\cdot h[n-k]\\\\\n",
    "&= x[n]*h[n]\n",
    "\\end{align}"
   ]
  },
  {
   "cell_type": "markdown",
   "metadata": {
    "slideshow": {
     "slide_type": "slide"
    }
   },
   "source": [
    "## Konvolusjon med python\n",
    "\n",
    "* Vi bruker `numpy`-funksjonen `convolve()`."
   ]
  },
  {
   "cell_type": "code",
   "execution_count": 6,
   "metadata": {
    "slideshow": {
     "slide_type": "fragment"
    }
   },
   "outputs": [
    {
     "name": "stdout",
     "output_type": "stream",
     "text": [
      "[ 0.33333333  1.          0.33333333 -0.33333333 -1.         -0.33333333]\n"
     ]
    }
   ],
   "source": [
    "xn = np.array([1, 2, -2, -1])\n",
    "hn = np.array([1/3, 1/3, 1/3])\n",
    "yn = np.convolve(xn, hn)\n",
    "print(yn)"
   ]
  },
  {
   "cell_type": "markdown",
   "metadata": {
    "slideshow": {
     "slide_type": "slide"
    }
   },
   "source": [
    "## Demo: Filtrering av signal med konvolusjon"
   ]
  },
  {
   "cell_type": "code",
   "execution_count": 3,
   "metadata": {
    "deletable": false,
    "editable": true,
    "hide_input": false,
    "init_cell": true,
    "run_control": {
     "frozen": true
    },
    "slideshow": {
     "slide_type": "slide"
    },
    "tags": []
   },
   "outputs": [
    {
     "data": {
      "application/vnd.jupyter.widget-view+json": {
       "model_id": "a274feb8008d4628b17db5c9bb68d411",
       "version_major": 2,
       "version_minor": 0
      },
      "text/plain": [
       "VBox(children=(IntSlider(value=0, description='Samplenummer $n$', layout=Layout(width='95%'), max=38, style=Sl…"
      ]
     },
     "metadata": {},
     "output_type": "display_data"
    },
    {
     "data": {
      "application/vnd.jupyter.widget-view+json": {
       "model_id": "e029dedec19a497d9621367a8b0d2aea",
       "version_major": 2,
       "version_minor": 0
      },
      "text/plain": [
       "Output()"
      ]
     },
     "metadata": {},
     "output_type": "display_data"
    },
    {
     "data": {
      "application/vnd.jupyter.widget-view+json": {
       "model_id": "2c6edcbfe3674fc680bfbc7f941c50a0",
       "version_major": 2,
       "version_minor": 0
      },
      "image/png": "[encoded data removed]",
      "text/html": [
       "\n",
       "            <div style=\"display: inline-block;\">\n",
       "                <div class=\"jupyter-widgets widget-label\" style=\"text-align: center;\">\n",
       "                    Figure\n",
       "                </div>\n",
       "                <img src='data:image/png;base64,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' width=900.0/>\n",
       "            </div>\n",
       "        "
      ],
      "text/plain": [
       "Canvas(toolbar=Toolbar(toolitems=[('Home', 'Reset original view', 'home', 'home'), ('Back', 'Back to previous …"
      ]
     },
     "metadata": {},
     "output_type": "display_data"
    }
   ],
   "source": [
    "from Kildekode._10_Konvolusjon import convolutionDemo\n",
    "n = np.arange(32)\n",
    "xn = sin(2*pi/9*n)+1# Sinussekvens\n",
    "hn = np.ones(8)/8 # 5-punkts middelverdifilter\n",
    "convolutionDemo(xn, hn, fig_num=2,figsize=(9,6)); #"
   ]
  },
  {
   "cell_type": "markdown",
   "metadata": {
    "slideshow": {
     "slide_type": "skip"
    }
   },
   "source": [
    "* Stegvis beskrivelse av konvolusjon visuelt:\n",
    "    1. Tidsreverser (flip) impulsresponsen $h[k]$ rund $k=0$\n",
    "    2. Forskyv den filppede impulsresponsen $h[-k]$ langs tidsaksen $n$ antall sampler.\n",
    "    3. Utfør punktvis multiplikasjon mellom flippet og forskjøvet impulsrespons med inngangssignalet.\n",
    "    4. Summen av resultatet fra punkt 3 gir utgangsverien $y[n]$.\n",
    "* Anbefaler å prøve seg frem med ulike typer signal og impulsrespons. "
   ]
  },
  {
   "cell_type": "markdown",
   "metadata": {
    "slideshow": {
     "slide_type": "slide"
    }
   },
   "source": [
    "## Observasjoner.\n",
    "\n",
    "* Lengde utgangssignal tilsvarer summen av lengden til inngangssignalet og impulsresponsen minus 1.\n",
    "$$L_y = L_x + L_h -1$$\n",
    "\n",
    "\n",
    "* Digitale filtre har en \"responstid\", og det filtrerte signalet vil ofte \"henge etter\" inngangssignalet."
   ]
  },
  {
   "cell_type": "markdown",
   "metadata": {
    "slideshow": {
     "slide_type": "slide"
    }
   },
   "source": [
    "## Konvolusjon egenskaper\n",
    "\n",
    "1. Kommutativ \n",
    "\\begin{align}\n",
    "x[n]*h[n] &= h[n]*x[n] \\\\\n",
    "\\sum_{k=0}^{\\infty} x[k]\\cdot h[n-k] &= \\sum_{k=0}^{\\infty} h[k]\\cdot x[n-k]\n",
    "\\end{align}\n",
    "\n",
    "\n",
    "2. Assossiativ\n",
    "$$(x[n]*y[n])*v[n] = x[n]*(y[n]*v[n])$$\n",
    "\n",
    "\n",
    "3. Distributiv *(linearitet)*\n",
    "$$(x[n] + y[n])*v[n] = x[n]*v[n] + y[n]*v[n]$$\n",
    "\n",
    "\n",
    "4. Konvolusjon og fouriertransformasjon\n",
    "$$ x[n]*y[n] \\leftrightarrow X\\left(\\hat{\\omega} \\right)\\cdot Y\\left(\\hat{\\omega} \\right)$$"
   ]
  },
  {
   "cell_type": "markdown",
   "metadata": {
    "slideshow": {
     "slide_type": "slide"
    }
   },
   "source": [
    "## Manuell utregning av konvolusjon\n",
    "*(Ofte enklere å snu om på uttrykket slik at vi summerer sammen ulikt forskjøvne og vektede kopier av inngangssignalet $x[n]$)*\n",
    "\n",
    "\\begin{align}\n",
    "y[n] &= \\sum_{k=0}^{\\infty} x[k]\\cdot h[n-k] \\\\\n",
    "     &= \\sum_{k=0}^{\\infty} h[k]\\cdot x[n-k]\\\\\n",
    "     &= h[0]\\cdot x[n]+h[1]\\cdot x[n-1] + h[2]\\cdot x[n-2]\\ldots \n",
    "\\end{align}\n",
    "\n",
    "1. Sett opp de ulikt forkjøvne singalrekkene $x[n-k]$ \n",
    "2. Multipliser med hver av samplene til impulsresponen $h[k]$\n",
    "3. Legg sammen alle de ulikt vektede signalene."
   ]
  },
  {
   "cell_type": "markdown",
   "metadata": {
    "slideshow": {
     "slide_type": "slide"
    }
   },
   "source": [
    "## Video:  *stegrespons regneeksempel*\n",
    "* Bruk konvolusjon til å finne stegresponsen $s[n]$ til et system der impulsresponsen er \n",
    "$$h[n] = \\delta[n]-\\delta[n-1]+2\\delta[n-2]-\\delta[n-3]+\\delta[n-4]$$"
   ]
  },
  {
   "cell_type": "code",
   "execution_count": 14,
   "metadata": {
    "deletable": false,
    "editable": false,
    "hide_input": true,
    "init_cell": true,
    "run_control": {
     "frozen": true
    },
    "slideshow": {
     "slide_type": ""
    },
    "tags": []
   },
   "outputs": [
    {
     "data": {
      "text/html": [
       "<iframe src=\"https://ntnu.cloud.panopto.eu/Panopto/Pages/Embed.aspx?id=c991b421-962e-4584-b434-ae5000f649ef&autoplay=false&offerviewer=true&showtitle=true&showbrand=true&captions=false&interactivity=all\" height=\"405\" width=\"720\" style=\"border: 1px solid #464646;\" allowfullscreen allow=\"autoplay\"></iframe>\n"
      ],
      "text/plain": [
       "<IPython.core.display.HTML object>"
      ]
     },
     "metadata": {},
     "output_type": "display_data"
    }
   ],
   "source": [
    "%%html\n",
    "<iframe src=\"https://ntnu.cloud.panopto.eu/Panopto/Pages/Embed.aspx?id=c991b421-962e-4584-b434-ae5000f649ef&autoplay=false&offerviewer=true&showtitle=true&showbrand=true&captions=false&interactivity=all\" height=\"405\" width=\"720\" style=\"border: 1px solid #464646;\" allowfullscreen allow=\"autoplay\"></iframe>"
   ]
  },
  {
   "cell_type": "markdown",
   "metadata": {
    "solution2": "shown",
    "solution2_first": true
   },
   "source": [
    "## Kontrollspørsmål\n",
    "1. Et digitalt filter har impulsresponsen $h[n] = (u[n] - u[n-4])\\cdot \\frac{1}{4}$. Hva blir filterets stegrespons $s[n]$?"
   ]
  },
  {
   "cell_type": "markdown",
   "metadata": {
    "solution2": "shown"
   },
   "source": [
    "**Svar:**\n",
    "Vi bruker tabellutregning:\n",
    "\n",
    "| $n$ | $-1$ | $0$ | $1$ | $2$ | $3$ | $4$ | $5$ | $6$ | $\\ldots$ |\n",
    "|---|---|---|---|---|---|---|---|---|---|\n",
    "| $h[n]$ | $0$ | $\\frac{1}{4}$ | $\\frac{1}{4}$ | $\\frac{1}{4}$ | $\\frac{1}{4}$ | $0$ | $0$ | $0$ | $0$ |\n",
    "| $x[n]=u[n]$ | $0$ | $1$ | $1$ | $1$ | $1$ | $1$ | $1$ | $1$ | $1$ |\n",
    "|  |  |  |  |  |  |  |  |  |  |\n",
    "| $h[0]\\cdot u[n-0]$ | $0$ | $\\frac{1}{4}$ | $\\frac{1}{4}$ | $\\frac{1}{4}$ | $\\frac{1}{4}$ | $\\frac{1}{4}$ | $\\frac{1}{4}$ | $\\frac{1}{4}$ | $\\frac{1}{4}$|\n",
    "| $h[1]\\cdot u[n-1]$ | $0$ | $0$ | $\\frac{1}{4}$ | $\\frac{1}{4}$ | $\\frac{1}{4}$ | $\\frac{1}{4}$ | $\\frac{1}{4}$ | $\\frac{1}{4}$ | $\\frac{1}{4}$|\n",
    "| $h[2]\\cdot u[n-2]$ | $0$ | $0$ | $0$ | $\\frac{1}{4}$ | $\\frac{1}{4}$ | $\\frac{1}{4}$ | $\\frac{1}{4}$ | $\\frac{1}{4}$ | $\\frac{1}{4}$|\n",
    "| $h[3]\\cdot u[n-3]$ | $0$ | $0$ | $0$ | $0$ | $\\frac{1}{4}$ | $\\frac{1}{4}$ | $\\frac{1}{4}$ | $\\frac{1}{4}$ | $\\frac{1}{4}$|\n",
    "| $h[4]\\cdot u[n-4]$ | $0$ | $0$ | $0$ | $0$ | $0$ | $0$ | $0$ | $0$ | $0$|\n",
    "|  |  |  |  |  |  |  |  |  |  |\n",
    "|$s[n]$ | $0$ | $\\frac{1}{4}$ | $\\frac{2}{4}$ | $\\frac{3}{4}$ | $1$ | $1$ | $1$ | $1$ | $1$|"
   ]
  },
  {
   "cell_type": "code",
   "execution_count": 9,
   "metadata": {
    "solution2": "shown"
   },
   "outputs": [
    {
     "data": {
      "application/vnd.jupyter.widget-view+json": {
       "model_id": "9004bda6665a4d478531f6d6cc17c58e",
       "version_major": 2,
       "version_minor": 0
      },
      "image/png": "[encoded data removed]",
      "text/html": [
       "\n",
       "            <div style=\"display: inline-block;\">\n",
       "                <div class=\"jupyter-widgets widget-label\" style=\"text-align: center;\">\n",
       "                    Figure\n",
       "                </div>\n",
       "                <img src='data:image/png;base64,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' width=500.0/>\n",
       "            </div>\n",
       "        "
      ],
      "text/plain": [
       "Canvas(toolbar=Toolbar(toolitems=[('Home', 'Reset original view', 'home', 'home'), ('Back', 'Back to previous …"
      ]
     },
     "metadata": {},
     "output_type": "display_data"
    }
   ],
   "source": [
    "N = 12\n",
    "n = np.arange(N)\n",
    "un = np.ones(N)\n",
    "hn = np.array([1/4, 1/4, 1/4, 1/4])\n",
    "sn = np.convolve(un, hn)\n",
    "\n",
    "plt.close(3); plt.figure(3, figsize=(5,2.5))\n",
    "plt.stem(n, sn[0:N], basefmt=\"grey\")\n",
    "plt.grid(True)\n",
    "plt.title(r\"Stegrespons $s[n]$\")\n",
    "plt.xlabel(r\"Samplenummer $n$\")\n",
    "plt.tight_layout()"
   ]
  },
  {
   "cell_type": "markdown",
   "metadata": {},
   "source": [
    "# Video 3 - Sammensatte System"
   ]
  },
  {
   "cell_type": "code",
   "execution_count": 15,
   "metadata": {
    "deletable": false,
    "hide_input": true,
    "init_cell": true,
    "run_control": {
     "frozen": true
    },
    "slideshow": {
     "slide_type": ""
    },
    "tags": []
   },
   "outputs": [
    {
     "data": {
      "text/html": [
       "<iframe src=\"https://ntnu.cloud.panopto.eu/Panopto/Pages/Embed.aspx?id=2879357e-9bc9-47c7-8cd8-ae5000fef813&autoplay=false&offerviewer=true&showtitle=true&showbrand=true&captions=false&interactivity=all\" height=\"405\" width=\"720\" style=\"border: 1px solid #464646;\" allowfullscreen allow=\"autoplay\"></iframe>\n"
      ],
      "text/plain": [
       "<IPython.core.display.HTML object>"
      ]
     },
     "metadata": {},
     "output_type": "display_data"
    }
   ],
   "source": [
    "%%html\n",
    "<iframe src=\"https://ntnu.cloud.panopto.eu/Panopto/Pages/Embed.aspx?id=2879357e-9bc9-47c7-8cd8-ae5000fef813&autoplay=false&offerviewer=true&showtitle=true&showbrand=true&captions=false&interactivity=all\" height=\"405\" width=\"720\" style=\"border: 1px solid #464646;\" allowfullscreen allow=\"autoplay\"></iframe>"
   ]
  },
  {
   "cell_type": "markdown",
   "metadata": {},
   "source": [
    "# Nøkkelpunkt fra video"
   ]
  },
  {
   "cell_type": "markdown",
   "metadata": {
    "slideshow": {
     "slide_type": "slide"
    }
   },
   "source": [
    "<img src=\"Figurer/10_Digitale Filtre Intro/Fig12_LTI_par.png\" style=\"width: 60%; margin-right: 40%\" />"
   ]
  },
  {
   "cell_type": "markdown",
   "metadata": {
    "slideshow": {
     "slide_type": "slide"
    }
   },
   "source": [
    "<img src=\"Figurer/10_Digitale Filtre Intro/Fig12_LTI_cas.png\" style=\"width: 60%; margin-right: 40%\" />"
   ]
  },
  {
   "cell_type": "markdown",
   "metadata": {
    "editable": true,
    "slideshow": {
     "slide_type": "slide"
    },
    "tags": []
   },
   "source": [
    "# Oppsummering impulsrespons og konvolusjon\n",
    "\n",
    "* Digitale filtre tar i bruk en lineær kombinasjon av tilgjengelige signalsampler for å regne ut en utgangsverdi $y[n]$ for hver sample.\n",
    "* *Lineære*, og *Tidsinvariante* (LTI) system tillater mye fleksibilitet med tanke på rekkefølge av operasjoner, og kan beskrives med sin *impulsrespons* $h[n]$.\n",
    "* Utgangssignalet $y[n]$ til et LTI-system utregnes ved *konvolusjon* ($y[n] = x[n]*h[n]$).\n",
    "* *Kausale* system baserer seg kun på foregående signalsampler som allerede har \"vert gjennom\" systemet ved utregning av utgangsverdi $y[n]$. \n",
    "* *Filterordenen* for et digitalt filter forteller hvor langt bak i tid systemet må huske tidligere sampler.\n",
    "* FIR filter er en undergruppe av LTI-system hvor kun impulsresponsen $h[n]$ korresponderer med filterkoeffisentene.\n",
    "    * Kun definert med filterkoeffisenter $b_k$"
   ]
  }
 ],
 "metadata": {
  "celltoolbar": "Edit Metadata",
  "hide_input": false,
  "kernelspec": {
   "display_name": "Python 3 (ipykernel)",
   "language": "python",
   "name": "python3"
  },
  "language_info": {
   "codemirror_mode": {
    "name": "ipython",
    "version": 3
   },
   "file_extension": ".py",
   "mimetype": "text/x-python",
   "name": "python",
   "nbconvert_exporter": "python",
   "pygments_lexer": "ipython3",
   "version": "3.12.2"
  },
  "toc": {
   "base_numbering": 1,
   "nav_menu": {},
   "number_sections": false,
   "sideBar": true,
   "skip_h1_title": false,
   "title_cell": "Table of Contents",
   "title_sidebar": "Contents",
   "toc_cell": false,
   "toc_position": {},
   "toc_section_display": true,
   "toc_window_display": false
  },
  "varInspector": {
   "cols": {
    "lenName": 16,
    "lenType": 16,
    "lenVar": 40
   },
   "kernels_config": {
    "python": {
     "delete_cmd_postfix": "",
     "delete_cmd_prefix": "del ",
     "library": "var_list.py",
     "varRefreshCmd": "print(var_dic_list())"
    },
    "r": {
     "delete_cmd_postfix": ") ",
     "delete_cmd_prefix": "rm(",
     "library": "var_list.r",
     "varRefreshCmd": "cat(var_dic_list()) "
    }
   },
   "position": {
    "height": "393px",
    "left": "991px",
    "right": "20px",
    "top": "120px",
    "width": "355px"
   },
   "types_to_exclude": [
    "module",
    "function",
    "builtin_function_or_method",
    "instance",
    "_Feature"
   ],
   "window_display": false
  }
 },
 "nbformat": 4,
 "nbformat_minor": 4
}
