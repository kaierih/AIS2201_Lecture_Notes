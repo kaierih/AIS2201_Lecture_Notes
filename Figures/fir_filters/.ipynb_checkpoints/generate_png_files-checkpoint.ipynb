{
 "cells": [
  {
   "cell_type": "markdown",
   "id": "3098afd4-dd4d-4855-9cb7-ccc2bfca5f3a",
   "metadata": {},
   "source": [
    "# Minimum Mean Square Error Illustration"
   ]
  },
  {
   "cell_type": "code",
   "execution_count": 6,
   "id": "7dfeaa09-a012-4820-aa84-1b7f7d8d05c4",
   "metadata": {},
   "outputs": [
    {
     "data": {
      "image/png": "[encoded data removed]",
      "text/plain": [
       "<Figure size 500x500 with 1 Axes>"
      ]
     },
     "metadata": {},
     "output_type": "display_data"
    }
   ],
   "source": [
    "import matplotlib.pyplot as plt\n",
    "import numpy as np\n",
    "\n",
    "fig = plt.figure(figsize=(5,5))\n",
    "ax = fig.subplots()\n",
    "# Move the left and bottom spines to x = 0 and y = 0, respectively.\n",
    "ax.spines[\"left\"].set_position((\"data\", 0))\n",
    "ax.spines[\"bottom\"].set_position((\"data\", 0))\n",
    "# Hide the top and right spines.\n",
    "ax.spines[\"top\"].set_visible(False)\n",
    "ax.spines[\"right\"].set_visible(False)\n",
    "\n",
    "# Create axis arrows\n",
    "ax.plot(1, 0, \">k\", transform=ax.get_yaxis_transform(), clip_on=False)\n",
    "ax.plot(0, 1, \"^k\", transform=ax.get_xaxis_transform(), clip_on=False)\n",
    "\n",
    "\n",
    "x = np.linspace(-0, 2., 100)\n",
    "ax.plot(x, (x-1)**2+0.5)\n",
    "ax.plot([1,1],[0, 0.5], color=\"tab:blue\", linestyle=\":\")\n",
    "ax.plot([1],[0.5], color=\"tab:blue\", marker=\"o\")\n",
    "plt.yticks([])\n",
    "plt.xticks([1],[\"$\\\\vec{h}_{opt}$\"], fontsize=12)\n",
    "ax.set_ylabel(\"$\\\\text{MSE}\\\\left(\\\\vec{h}\\\\right)$\", fontsize=12)\n",
    "\n",
    "\n",
    "# Annotate the marker with \"MMSE\"\n",
    "ax.annotate(\"MMSE\", xy=(1, 0.5), xytext=(1.1, 0.7),\n",
    "            textcoords='data', fontsize=12, color='k',\n",
    "            arrowprops=dict(arrowstyle=\"->\", color='k'))\n",
    "\n",
    "#plt.xlabel(\"h\", loc=\"right\")\n",
    "# Set axis labels at the end of arrows\n",
    "ax.text(ax.get_xlim()[1]*1.04, -ax.get_ylim()[1]*.02, '$\\\\vec{h}$', fontsize=12, ha='center')\n",
    "#ax.text(0, ax.get_ylim()[1]*1.05, r'$e$', fontsize=12, va='center')\n",
    "\n",
    "plt.savefig(\"MMSE.png\")"
   ]
  },
  {
   "cell_type": "markdown",
   "id": "41a5573e-6eba-46a8-b653-740f422a6fcf",
   "metadata": {},
   "source": [
    "# System Diagrams"
   ]
  },
  {
   "cell_type": "code",
   "execution_count": 2,
   "id": "68ab748d-3582-4a65-b4e2-18ede08a5b55",
   "metadata": {},
   "outputs": [],
   "source": [
    "%load_ext jupyter_tikz"
   ]
  },
  {
   "cell_type": "code",
   "execution_count": 3,
   "id": "a51f6e5f-2df6-432d-b372-236b6d30e04f",
   "metadata": {},
   "outputs": [
    {
     "name": "stderr",
     "output_type": "stream",
     "text": [
      "This is pdfTeX, Version 3.141592653-2.6-1.40.26 (MiKTeX 24.4) (preloaded format=pdflatex.fmt)\n",
      " restricted \\write18 enabled.\n",
      "entering extended mode\n",
      "! Undefined control sequence.\n",
      "<*> D:\\OneDrive\n",
      "                - NTNU\\AIS2201-Signal_Processing_Public\\AIS2201_Lecture_Note...\n",
      "\n",
      "? \n",
      "! Emergency stop.\n",
      "<*> \n",
      "    \n",
      "!  ==> Fatal error occurred, no output PDF file produced!\n",
      "Transcript written on ?.\n"
     ]
    }
   ],
   "source": [
    "%%tikz -p=\\include{prefix.tex} -sc=0.5 --dpi=300 -r -S df1.png\n",
    "\\begin{tikzpicture}[auto, node distance=25mm]\n",
    "\t% blocks 1st level\n",
    "\t\\node[input] (in){};\n",
    "\t\\node[sum, right of=in, xshift=10mm, label={$b_0$}](b0){$\\times$};\n",
    "\t\\node[sum, right of=b0, xshift=10mm](s0){$+$};\n",
    "\t\\node[sum, right of=s0, xshift=5mm](s0r){$+$};\n",
    "    \\node[mul, right of=s0r, xshift=30mm, label={$1/a_0$}](ma0){$\\times$}; \n",
    "\t\\node[output, right of=ma0, xshift=-15mm] (out){};\n",
    "\t\\node at ($(b0.west)-(1, 0)$) (c0){};\n",
    "\t\\node at ($(ma0)-(.8, 0)$) (c0r){};\n",
    "\n",
    "\t% blocks 2nd level\n",
    "\t\\node[block, below of=c0, minimum width=5mm, minimum height=7mm, yshift=15mm](d0){$z^{-1}$};\n",
    "\t\\node[sum, below of=b0, yshift=-10mm, label={$b_1$}](b1){$\\times$};\n",
    "\t\\node[sum, below of=s0, yshift=-10mm](s1){$+$};\n",
    "\t\\node[sum, below of=s0r, yshift=-10mm](s1r){$+$};\n",
    "\t\\node[sum, right of=s1r, xshift=10mm, label={$- a_1$}](a1){$\\times$};\n",
    "\t\\node[block, below of=c0r, minimum width=5mm, minimum height=7mm, yshift=15mm](d0r){$z^{-1}$};\n",
    "\t\n",
    "\t% blocks M-th level\n",
    "\t\\node[block, below of=d0, minimum width=5mm, minimum height=7mm, yshift=-5mm](d1){$z^{-1}$};\n",
    "\t\\node[sum, below of=b1, yshift=-20mm, label={$b_M$}](b2){$\\times$};\n",
    "\t\\node[block, below of=d0r, minimum width=5mm, minimum height=7mm, yshift=-5mm](d1r){$z^{-1}$};\n",
    "\t\\node[sum, below of=a1, yshift=-20mm, label={$-a_N$}](a2){$\\times$};\n",
    "\t\n",
    "\t%lines\n",
    "\t\\draw[->] (in) node[left]{$x[n]$}--(b0);\n",
    "\t\\draw[->] (b0)--(s0);\n",
    "\t\\draw[->] (s0)--(s0r);\n",
    "\t\\draw[->] (s0r)--(ma0);\n",
    "\t\\draw[->] (ma0)--(out) node[right]{$y[n]$};\n",
    "\t\n",
    "\t\\draw[->] (c0.center)--(d0);\n",
    "\t\\draw[->] (d0) |- (b1);\n",
    "\t\\draw[->] (b1) -- (s1);\n",
    "\t\\draw[->] (s1) -- (s0);\n",
    "\t\\draw[->] (c0r.center) -- (d0r);\n",
    "\t\\draw[->] (d0r) |- (a1);\n",
    "\t\\draw[->] (a1) -- (s1r);\n",
    "\t\\draw[->] (s1r) -- (s0r);\n",
    "\t\n",
    "\t\\draw[->, dashed] (d0)--(d1);\n",
    "\t\\draw[->] (d1) |- (b2);\n",
    "\t\\draw[->, dashed] (b2) -| (s1);\n",
    "\t\\draw (b2) -| ($(s1)-(0,1.5)$);\n",
    "\t\n",
    "\t\\draw[->, dashed] (d0r)--(d1r);\n",
    "\t\\draw[->] (d1r) |- (a2);\n",
    "\t\\draw[->, dashed] (a2) -| (s1r);\n",
    "\t\\draw (a2) -| ($(s1r)-(0,1.5)$);\n",
    "\t\n",
    "\t% delayed signals\n",
    "\t\\node[below of=in, yshift=5mm, xshift=-2mm] {\\tiny $x[n-1]$};\n",
    "\t\\node[below of=in, yshift=-25mm, xshift=-1mm] {\\tiny $x[n-N]$};\n",
    "\t\\node[below of=ma0, yshift=5mm, xshift=2mm] {\\tiny $y[n-1]$};\n",
    "\t\\node[below of=ma0, yshift=-25mm, xshift=1mm] {\\tiny $y[n-M]$};\n",
    "\t\n",
    "\t\\node[right of=s0, yshift=-3mm, xshift=-18mm] {};\n",
    "\t\n",
    "\t\\node[below of=b1, yshift=15mm]{\\large $\\vdots$};\n",
    "\t\\node[below of=a1, yshift=15mm]{\\large $\\vdots$};\n",
    "\n",
    "\\end{tikzpicture}"
   ]
  },
  {
   "cell_type": "code",
   "execution_count": 1,
   "id": "50a65f41-782e-4c36-a080-caa255283d60",
   "metadata": {},
   "outputs": [
    {
     "name": "stderr",
     "output_type": "stream",
     "text": [
      "UsageError: Cell magic `%%tikz` not found.\n"
     ]
    }
   ],
   "source": [
    "%%tikz -p=\\include{prefix.tex} --dpi=300 -sc=0.5 -r -S summation.png\n",
    "\\begin{tikzpicture}[auto, node distance=25mm]\n",
    "\n",
    "\t% blocks 1st level\n",
    "\t\\node[input] (in){};\n",
    "    \\node[sum, right of=in, xshift=0mm, yshift=-7mm](s0){$+$};\n",
    "    \\node[input, below of=in, yshift=11mm](in2){};\n",
    "\t\\node[output, right of=s0, xshift=-10mm] (out){};\n",
    "\t\n",
    "\t% lines\n",
    "\t\\draw[->] (in) node[left]{$x_1[n]$}-|(s0) node[above]{};\n",
    " \t\\draw[->] (in2) node[left]{$x_2[n]$}-|(s0) node[below]{};\n",
    "   \t\\draw[->] (s0) node[right]{}--(out) node[right]{$y[n]$};\n",
    "\t\n",
    "\\end{tikzpicture}"
   ]
  },
  {
   "cell_type": "code",
   "execution_count": 7,
   "id": "9947c0b4-c331-4678-a3e2-4bfe97bcbe74",
   "metadata": {},
   "outputs": [
    {
     "data": {
      "image/png": "[encoded data removed]",
      "text/plain": [
       "<IPython.core.display.Image object>"
      ]
     },
     "execution_count": 7,
     "metadata": {},
     "output_type": "execute_result"
    }
   ],
   "source": [
    "%%tikz -p=\\include{prefix.tex} --dpi=300 -r -S multiply.png\n",
    "\\begin{tikzpicture}[auto, node distance=25mm]\n",
    "\t% blocks 1st level\n",
    "\t\\node[input] (in){};\n",
    "    \\node[mul, right of=in, xshift=0mm, label={$\\alpha$}](m0){$\\times$};\n",
    "\t\\node[output, right of=m0, xshift=-10mm] (out){};\n",
    "\t\n",
    "\t% lines\n",
    "\t\\draw[->] (in) node[left]{$x[n]$}--(m0) node[left]{};\n",
    "   \t\\draw[->] (m0) node[right]{}--(out) node[right]{$y[n]$};\n",
    "\\end{tikzpicture}"
   ]
  },
  {
   "cell_type": "code",
   "execution_count": 8,
   "id": "36bb74d3-9fb0-4938-9014-74a15cf60461",
   "metadata": {},
   "outputs": [
    {
     "data": {
      "image/png": "[encoded data removed]",
      "text/plain": [
       "<IPython.core.display.Image object>"
      ]
     },
     "execution_count": 8,
     "metadata": {},
     "output_type": "execute_result"
    }
   ],
   "source": [
    "%%tikz -p=\\include{prefix.tex} --dpi=300 -r -S delay.png\n",
    "\\begin{tikzpicture}[auto, node distance=25mm]\n",
    "\t% blocks 1st level\n",
    "\t\\node[input] (in){};\n",
    "\t\\node[block, right of=in, minimum width=5mm, minimum height=7mm, xshift=-14mm](d1){$z^{-1}$};\n",
    "\t\\node[output, right of=d1, xshift=-10mm] (out){};\n",
    "\t\n",
    "\t% lines\n",
    "\t\\draw[->] (in) node[left]{$x[n]$}--(d1) node[left]{};\n",
    "   \t\\draw[->] (d1) node[right]{}--(out) node[right]{$y[n]$};\n",
    "\\end{tikzpicture}"
   ]
  },
  {
   "cell_type": "code",
   "execution_count": 12,
   "id": "f6ae5a73-dfb9-4723-a65f-7cb395eced11",
   "metadata": {},
   "outputs": [
    {
     "data": {
      "image/png": "[encoded data removed]",
      "text/plain": [
       "<IPython.core.display.Image object>"
      ]
     },
     "execution_count": 12,
     "metadata": {},
     "output_type": "execute_result"
    }
   ],
   "source": [
    "%%tikz -p=\\include{prefix.tex} --dpi=300 -r -S impulse_response.png\n",
    "\\begin{tikzpicture}[auto, node distance=25mm]\n",
    "\t% blocks 1st level\n",
    "\t\\node[input] (in){};\n",
    "\t\\node[block, right of=in](sys1){$\\text{LTI-System}$};\n",
    "\t\\node[output, right of=sys1] (out){};\n",
    "\t\n",
    "\t% lines\n",
    "\t\\draw[->] (in) node[left]{\\Large $\\delta[n]$}--(sys1) node[left]{};\n",
    "   \t\\draw[->] (sys1) node[right]{}--(out) node[right]{\\Large $h[n]$};\n",
    "\\end{tikzpicture}"
   ]
  },
  {
   "cell_type": "code",
   "execution_count": null,
   "id": "e6ece13a-8113-40a6-b018-348f5d397606",
   "metadata": {},
   "outputs": [],
   "source": [
    "%%tikz -p=\\include{prefix.tex} --dpi=300 -r -S tapped_delay_line.png\n",
    "\\begin{tikzpicture}[auto, node distance=25mm]\n",
    "\t% blocks 1st level\n",
    "\t\\node[input] (in){};                   \n",
    "\t\\node[block, below of=c0, minimum width=5mm, minimum height=7mm, yshift=15mm](d0){$z^{-1}$};\n",
    "    \\node[block, below of=c0, minimum width=5mm, minimum height=7mm, yshift=15mm](d0){$z^{-1}$};\n",
    "\t\\node[sum, right of=in, xshift=10mm, label={$b_0$}](b0){$\\times$};\n",
    "\t\\node[sum, right of=b0, xshift=10mm](s0){$+$};\n",
    "\t\\node[sum, right of=s0, xshift=5mm](s0r){$+$};\n",
    "    \\node[mul, right of=s0r, xshift=30mm, label={$1/a_0$}](ma0){$\\times$}; \n",
    "\t\\node[output, right of=ma0, xshift=-15mm] (out){};\n",
    "\t\\node at ($(b0.west)-(1, 0)$) (c0){};\n",
    "\t\\node at ($(ma0)-(.8, 0)$) (c0r){};\n",
    "\n",
    "\t% blocks 2nd level\n",
    "\t\\node[block, below of=c0, minimum width=5mm, minimum height=7mm, yshift=15mm](d0){$z^{-1}$};\n",
    "\t\\node[sum, below of=b0, yshift=-10mm, label={$b_1$}](b1){$\\times$};\n",
    "\t\\node[sum, below of=s0, yshift=-10mm](s1){$+$};\n",
    "\t\\node[sum, below of=s0r, yshift=-10mm](s1r){$+$};\n",
    "\t\\node[sum, right of=s1r, xshift=10mm, label={$- a_1$}](a1){$\\times$};\n",
    "\t\\node[block, below of=c0r, minimum width=5mm, minimum height=7mm, yshift=15mm](d0r){$z^{-1}$};\n",
    "\t\n",
    "\t% blocks M-th level\n",
    "\t\\node[block, below of=d0, minimum width=5mm, minimum height=7mm, yshift=-5mm](d1){$z^{-1}$};\n",
    "\t\\node[sum, below of=b1, yshift=-20mm, label={$b_M$}](b2){$\\times$};\n",
    "\t\\node[block, below of=d0r, minimum width=5mm, minimum height=7mm, yshift=-5mm](d1r){$z^{-1}$};\n",
    "\t\\node[sum, below of=a1, yshift=-20mm, label={$-a_N$}](a2){$\\times$};\n",
    "\t\n",
    "\t%lines\n",
    "\t\\draw[->] (in) node[left]{$x[n]$}--(b0);\n",
    "\t\\draw[->] (b0)--(s0);\n",
    "\t\\draw[->] (s0)--(s0r);\n",
    "\t\\draw[->] (s0r)--(ma0);\n",
    "\t\\draw[->] (ma0)--(out) node[right]{$y[n]$};\n",
    "\t\n",
    "\t\\draw[->] (c0.center)--(d0);\n",
    "\t\\draw[->] (d0) |- (b1);\n",
    "\t\\draw[->] (b1) -- (s1);\n",
    "\t\\draw[->] (s1) -- (s0);\n",
    "\t\\draw[->] (c0r.center) -- (d0r);\n",
    "\t\\draw[->] (d0r) |- (a1);\n",
    "\t\\draw[->] (a1) -- (s1r);\n",
    "\t\\draw[->] (s1r) -- (s0r);\n",
    "\t\n",
    "\t\\draw[->, dashed] (d0)--(d1);\n",
    "\t\\draw[->] (d1) |- (b2);\n",
    "\t\\draw[->, dashed] (b2) -| (s1);\n",
    "\t\\draw (b2) -| ($(s1)-(0,1.5)$);\n",
    "\t\n",
    "\t\\draw[->, dashed] (d0r)--(d1r);\n",
    "\t\\draw[->] (d1r) |- (a2);\n",
    "\t\\draw[->, dashed] (a2) -| (s1r);\n",
    "\t\\draw (a2) -| ($(s1r)-(0,1.5)$);\n",
    "\t\n",
    "\t% delayed signals\n",
    "\t\\node[below of=in, yshift=5mm, xshift=-2mm] {\\tiny $x[n-1]$};\n",
    "\t\\node[below of=in, yshift=-25mm, xshift=-1mm] {\\tiny $x[n-N]$};\n",
    "\t\\node[below of=ma0, yshift=5mm, xshift=2mm] {\\tiny $y[n-1]$};\n",
    "\t\\node[below of=ma0, yshift=-25mm, xshift=1mm] {\\tiny $y[n-M]$};\n",
    "\t\n",
    "\t\\node[right of=s0, yshift=-3mm, xshift=-18mm] {};\n",
    "\t\n",
    "\t\\node[below of=b1, yshift=15mm]{\\large $\\vdots$};\n",
    "\t\\node[below of=a1, yshift=15mm]{\\large $\\vdots$};\n",
    "\n",
    "\\end{tikzpicture}"
   ]
  }
 ],
 "metadata": {
  "kernelspec": {
   "display_name": "Python 3 (ipykernel)",
   "language": "python",
   "name": "python3"
  },
  "language_info": {
   "codemirror_mode": {
    "name": "ipython",
    "version": 3
   },
   "file_extension": ".py",
   "mimetype": "text/x-python",
   "name": "python",
   "nbconvert_exporter": "python",
   "pygments_lexer": "ipython3",
   "version": "3.12.2"
  }
 },
 "nbformat": 4,
 "nbformat_minor": 5
}
