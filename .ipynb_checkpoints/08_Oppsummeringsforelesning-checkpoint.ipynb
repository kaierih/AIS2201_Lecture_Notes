{
 "cells": [
  {
   "cell_type": "markdown",
   "metadata": {
    "slideshow": {
     "slide_type": "slide"
    }
   },
   "source": [
    "<img src=\"Figurer/NTNU_Logo.png\" align=\"left\" style=\"width: 30%\">\n",
    "<br clear=\"all\" />\n",
    "<br></br>\n",
    "\n",
    "# Oppsummeringsforelesning\n",
    "\n",
    "* **Emne AIS2201 - Signalbehandling**\n",
    "* **Uke 39, 2023**\n",
    "* **Underviser: Kai Erik Hoff**"
   ]
  },
  {
   "cell_type": "markdown",
   "metadata": {
    "slideshow": {
     "slide_type": "slide"
    }
   },
   "source": [
    "# Aktuelle tema i del 1: Signalanalyse\n",
    "\n",
    "* Sinussignal og deres egenskaper\n",
    "* Signal i frekvensdomenet\n",
    "* Sampling og Aliasing\n",
    "* Diskrét Fouriertransformasjon\n",
    "* Frekvensanalyse med DFT"
   ]
  },
  {
   "cell_type": "markdown",
   "metadata": {
    "slideshow": {
     "slide_type": "slide"
    }
   },
   "source": [
    "<div style=\"width: 90%;\">\n",
    "    <img src=\"Figurer/03_Sinussignal/Fig19_phasorSum.gif\" align=\"right\" width=\"25%\" />\n",
    "    <div style=\"width: 75%\">\n",
    "    <h1>Sinussignal og deres egenskaper</h1>\n",
    "    <ul>\n",
    "      <br>\n",
    "        <li>Frekvens, amplitude & fase</li>\n",
    "        <li>Sinussignal på eulerform (vektorrepresentasjon)</li>\n",
    "        <li>Positiv og negativ frekvens</li>\n",
    "        <li>Regneoperasjoner med sinussignal</li>\n",
    "        <ul>\n",
    "        <li>Miksing (multiplikasjon) av sinusbølger</li>\n",
    "        <li>Addisjon av sinuser med vektoraddisjon</li>\n",
    "        </ul>\n",
    "       </ul>  \n",
    "    </div>\n",
    "</div> \n"
   ]
  },
  {
   "cell_type": "markdown",
   "metadata": {
    "slideshow": {
     "slide_type": "slide"
    }
   },
   "source": [
    "# Signal i frekvensdomenet\n",
    "<div style=\"width: 100%;\">\n",
    "    <img src=\"Figurer/04_Frekvensrepresentasjon/Fig0_EKG.png\" style=\"float: right; width: 40%\" />\n",
    "    <div style=\"width: 50%\">\n",
    "    <br>\n",
    "    <ul>\n",
    "      <li>Frekvensspekter som konsept</li>\n",
    "      <li>Negativ frekvens og tosidig frekvensspekter.</li>\n",
    "      <li>Fourierrekke-dekomposisjon</li>\n",
    "      <li>Om å tolke en fourier-rekke.</li>\n",
    "      <li>Ulike operasjoner i tid- og frekvensdomenet</li>\n",
    "        <ul>\n",
    "            <li>Amplitudemodulasjon</li>\n",
    "            <li>Tidsforskyvning</li>\n",
    "            <li>etc..</li>\n",
    "        </ul>\n",
    "    </ul>  \n",
    "    </div>\n",
    "</div> "
   ]
  },
  {
   "cell_type": "markdown",
   "metadata": {
    "slideshow": {
     "slide_type": "slide"
    }
   },
   "source": [
    "# Sampling og Aliasing\n",
    "\n",
    "* Forhold mellom tid $t$ og samplenummer $n$\n",
    "\n",
    "$$ x[n] = x(t) \\bigg|_{t = n\\cdot T_s}$$\n",
    "\n",
    "* Samplingsteoremet\n",
    "* Frekvensinnholdet til digitale signal\n",
    "* Aliasing og frekvensfolding\n",
    "    * Spektrale kopier\n",
    "\n",
    "<img src=\"Figurer/05_Sampling_og_Aliasing/Fig10_SpectralSamling2.png\" style=\"width: 90%\">"
   ]
  },
  {
   "cell_type": "markdown",
   "metadata": {
    "slideshow": {
     "slide_type": "slide"
    }
   },
   "source": [
    "# Diskrét Fouriertransformasjon\n",
    "\n",
    "<div style=\"width: 100%;\">\n",
    "    <img src=\"Figurer/08_Effektspekter_Spektrogram/Fig4_DFT.png\" style=\"float: right; width: 30%\" />\n",
    "    <div style=\"width: 60%\">\n",
    "    <br>\n",
    "    <ul>\n",
    "      <li>Fra digitalt signal til diskrét frekvensinformasjon (DFT)</li>\n",
    "      <li>Fra diskrét frekvensinformasjon til digitalt signal (IDFT)</li>\n",
    "      <li>Tolkning av en DFT-sekvens (f.eks. $X[m]$)</li>\n",
    "      <li>Signalbehandlingsoperasjoner utført i frekvensplanet</li>\n",
    "        <ul>\n",
    "            <li>Filtrering</li>\n",
    "            <li>Tidsforskyvning</li>\n",
    "            <li>etc..</li>\n",
    "        </ul>\n",
    "    </ul>  \n",
    "    </div>\n",
    "</div> "
   ]
  },
  {
   "cell_type": "markdown",
   "metadata": {
    "slideshow": {
     "slide_type": "slide"
    }
   },
   "source": [
    "# Frekvensanalyse med DFT\n",
    "<div style=\"width: 100%;\">\n",
    "    <img src=\"Figurer/07_Frekvensanalyse/Fig15_SineDFT.png\" style=\"float: right; width: 50%; margin-right: -2%\" />\n",
    "    <div style=\"width: 40%\">\n",
    "    <br>\n",
    "    <ul>\n",
    "      <li>Spektral lekkasje</li>\n",
    "      <li>Vindusfunksjoner</li>\n",
    "      <li>Diskret-Tids Fouriertransformasjon</li>\n",
    "      <li>Zero-padding</li>\n",
    "      <li>Effektspekter</li>\n",
    "      <li>Spektrogram</li>\n",
    "    </ul>  \n",
    "    </div>\n",
    "</div> "
   ]
  },
  {
   "cell_type": "markdown",
   "metadata": {
    "slideshow": {
     "slide_type": "skip"
    }
   },
   "source": [
    "# Relasjonell og instrumentell forståelse\n",
    "<br>\n",
    "<div style=\"width: 100%;\">\n",
    "    <div style=\"width: 45%; float: left\">\n",
    "    <h3>Relasjonell forståelse</h3>\n",
    "    <ul>\n",
    "      <li>Kunnskap om hvorfor regelen er slik den er</li>\n",
    "      <li>Basert på forståelse</li>\n",
    "      <li>Tidkrevende å tilegne seg</li>\n",
    "      <li>Lettere å tilpasse nye oppgaver</li>\n",
    "    </ul>  \n",
    "    </div>    <div style=\"width: 45%; float: right\">\n",
    "    <h3>Instrumentell forståelse</h3>\n",
    "    <ul>\n",
    "      <li>Kunnskap om hvordan en regel brukes</li>\n",
    "      <li>Basert på memorisering</li>\n",
    "      <li>Enklere å tilegne seg</li>\n",
    "      <li>Fungerer godt på kjente oppgavetyper</li>\n",
    "    </ul>  \n",
    "    </div>\n",
    "</div> "
   ]
  }
 ],
 "metadata": {
  "celltoolbar": "Slideshow",
  "hide_input": false,
  "kernelspec": {
   "display_name": "Python 3 (ipykernel)",
   "language": "python",
   "name": "python3"
  },
  "language_info": {
   "codemirror_mode": {
    "name": "ipython",
    "version": 3
   },
   "file_extension": ".py",
   "mimetype": "text/x-python",
   "name": "python",
   "nbconvert_exporter": "python",
   "pygments_lexer": "ipython3",
   "version": "3.10.8"
  },
  "toc": {
   "base_numbering": 1,
   "nav_menu": {},
   "number_sections": false,
   "sideBar": true,
   "skip_h1_title": false,
   "title_cell": "Table of Contents",
   "title_sidebar": "Contents",
   "toc_cell": false,
   "toc_position": {},
   "toc_section_display": true,
   "toc_window_display": false
  },
  "varInspector": {
   "cols": {
    "lenName": 16,
    "lenType": 16,
    "lenVar": 40
   },
   "kernels_config": {
    "python": {
     "delete_cmd_postfix": "",
     "delete_cmd_prefix": "del ",
     "library": "var_list.py",
     "varRefreshCmd": "print(var_dic_list())"
    },
    "r": {
     "delete_cmd_postfix": ") ",
     "delete_cmd_prefix": "rm(",
     "library": "var_list.r",
     "varRefreshCmd": "cat(var_dic_list()) "
    }
   },
   "types_to_exclude": [
    "module",
    "function",
    "builtin_function_or_method",
    "instance",
    "_Feature"
   ],
   "window_display": false
  }
 },
 "nbformat": 4,
 "nbformat_minor": 4
}
