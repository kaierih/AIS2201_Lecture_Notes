{
 "cells": [
  {
   "cell_type": "code",
   "execution_count": null,
   "id": "03d7095a-853b-4836-a5d2-1bf7d5404868",
   "metadata": {
    "editable": true,
    "slideshow": {
     "slide_type": "slide"
    },
    "tags": []
   },
   "outputs": [],
   "source": [
    "# Generelle moduler og funksjonsbeskrivelser brukt i forelesningen\n",
    "from numpy import sin, cos, pi, exp\n",
    "import scipy.signal as sig\n",
    "import numpy.fft as fft\n",
    "import numpy as np\n",
    "import matplotlib.pyplot as plt\n",
    "from Kildekode._10_Konvolusjon import *\n",
    "\n",
    "%matplotlib ipympl"
   ]
  },
  {
   "cell_type": "markdown",
   "id": "28814559-efda-41d5-b58c-776838fce8c3",
   "metadata": {
    "editable": true,
    "slideshow": {
     "slide_type": "slide"
    },
    "tags": []
   },
   "source": [
    "<img src=\"Figurer/NTNU_Logo.png\" align=\"left\" style=\"width: 30%\">\n",
    "<br clear=\"all\" />\n",
    "<br></br>\n",
    "\n",
    "# Matched filters and correlation\n",
    "\n",
    "* **AIS2201 - Signal Processing**\n",
    "* **Uke 42, 2024**\n",
    "* **Related reading materials:**\n",
    "    * Chapter 7.3 in Understanding Digital Signal Processing\n",
    "    * Other sources:\n",
    "        * Introductory text on correlation from [The Scientist and Engineer's Guide to Digital Signal Processing](http://www.dspguide.com/ch7/3.htm)\n",
    "        * A [Jupyter Notebook learning resource](https://github.com/spatialaudio/digital-signal-processing-lecture/blob/f4829a118144c66d1bf61d6dbc630cdb5019ee36//random_signals/correlation_functions.ipynb) with a more rigorous mathematical overview and python examples\n",
    "* **Lecturerer: Kai Erik Hoff**"
   ]
  },
  {
   "cell_type": "markdown",
   "id": "d98bab04-cbc9-41ea-9a77-a94fc6b77186",
   "metadata": {
    "editable": true,
    "slideshow": {
     "slide_type": "slide"
    },
    "tags": []
   },
   "source": [
    "# Topics\n",
    "\n",
    "* The matched filter\n",
    "    * How to detect a particular signal buried in noise\n",
    "* The cross-correlation function\n",
    "* Computing the cross-correlation between two signals\n",
    "* The auto-correlation function\n",
    "    * Autocorrelation of some typical signals\n",
    "* Computing the autocorrelation of a signal"
   ]
  }
 ],
 "metadata": {
  "kernelspec": {
   "display_name": "Python 3 (ipykernel)",
   "language": "python",
   "name": "python3"
  },
  "language_info": {
   "codemirror_mode": {
    "name": "ipython",
    "version": 3
   },
   "file_extension": ".py",
   "mimetype": "text/x-python",
   "name": "python",
   "nbconvert_exporter": "python",
   "pygments_lexer": "ipython3",
   "version": "3.12.2"
  },
  "toc": {
   "base_numbering": 1
  }
 },
 "nbformat": 4,
 "nbformat_minor": 5
}
