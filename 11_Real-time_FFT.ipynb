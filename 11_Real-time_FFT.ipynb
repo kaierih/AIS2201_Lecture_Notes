{
 "cells": [
  {
   "cell_type": "code",
   "execution_count": 1,
   "id": "d4c15d70-c4c9-4fd5-849c-ca4ae9d1ab96",
   "metadata": {
    "slideshow": {
     "slide_type": "skip"
    }
   },
   "outputs": [],
   "source": [
    "# Generelle moduler og funksjonsbeskrivelser brukt i forelesningen\n",
    "import numpy as np\n",
    "import matplotlib.pyplot as plt\n",
    "\n",
    "plt.rcParams[\"figure.figsize\"] = [8.00, 4.5]\n",
    "plt.rcParams[\"figure.autolayout\"] = True\n",
    "plt.rcParams[\"axes.grid\"] = True\n",
    "plt.rcParams[\"axes.xmargin\"] = 0.0\n",
    "\n",
    "%matplotlib ipympl"
   ]
  },
  {
   "cell_type": "markdown",
   "id": "3f951e67-0905-4bbc-9ac6-d05ec604f3c6",
   "metadata": {
    "slideshow": {
     "slide_type": "slide"
    }
   },
   "source": [
    "<img src=\"Figurer/NTNU_Logo.png\" align=\"left\" style=\"width: 30%\">\n",
    "<br clear=\"all\" />\n",
    "<br></br>\n",
    "\n",
    "# Real-time FFT\n",
    "\n",
    "* **Course AIS2201 - Signal Processing**\n",
    "* **Week 39, 2024**\n",
    "* **Lecturer: Kai Erik Hoff**"
   ]
  },
  {
   "cell_type": "markdown",
   "id": "6e8989a4-e0c5-4c4f-9bbe-9697635f43fd",
   "metadata": {
    "slideshow": {
     "slide_type": "slide"
    }
   },
   "source": [
    "# Topics\n",
    "\n",
    "* Hardware Timers\n",
    "* Direct Memory Access (DMA)\n",
    "* Pointers and Arrays in `C`\n",
    "* Using the DSP Library\n",
    "* The FFT function(s)"
   ]
  },
  {
   "cell_type": "markdown",
   "id": "07e42b03-2ce1-4d9a-9d3b-9e9bf4f637e8",
   "metadata": {
    "slideshow": {
     "slide_type": "slide"
    }
   },
   "source": [
    "# Real-time DFT challenges"
   ]
  },
  {
   "cell_type": "markdown",
   "id": "68925707-6aed-41a3-b176-71677c2975d8",
   "metadata": {
    "slideshow": {
     "slide_type": "fragment"
    }
   },
   "source": [
    "* As the DFT is calculated using \"blocks\" of $N$ signal samples at a time, the DFT must be calculated once every $N$ sample periods.\n",
    "\n"
   ]
  },
  {
   "cell_type": "markdown",
   "id": "7278e08c-12af-46bb-89ef-49c361feea64",
   "metadata": {
    "slideshow": {
     "slide_type": "fragment"
    }
   },
   "source": [
    "* All samples acquired between \"windows\" must be stored in a buffer"
   ]
  },
  {
   "cell_type": "markdown",
   "id": "3216182a-1d7b-43c2-a9d8-51d6b3292fcf",
   "metadata": {
    "slideshow": {
     "slide_type": "fragment"
    }
   },
   "source": [
    "* The ADC must be able to continue converting samples for the next window while the FFT is processing the preceding window."
   ]
  },
  {
   "cell_type": "markdown",
   "id": "58c1ee99-358a-4569-83e3-5e7b8c7661ac",
   "metadata": {
    "slideshow": {
     "slide_type": "fragment"
    }
   },
   "source": [
    "* *But first: using Hardware Timers to control Sampling Frequency $fs$*"
   ]
  },
  {
   "cell_type": "markdown",
   "id": "efd63a19-2638-46ed-abc7-d3d7d012a2e1",
   "metadata": {
    "slideshow": {
     "slide_type": "slide"
    }
   },
   "source": [
    "# What are Hardware Timers?"
   ]
  },
  {
   "cell_type": "markdown",
   "id": "74af61ea-1ab0-4b4b-b8fe-f13c8eb77000",
   "metadata": {
    "slideshow": {
     "slide_type": "fragment"
    }
   },
   "source": [
    "* Digital circuits which can count clock cycles.\n",
    "    * This is done in a \"Counting Register\" (`TIMx_CNT`)."
   ]
  },
  {
   "cell_type": "markdown",
   "id": "f9f86c02-386a-48b0-89a9-0121fff0bc96",
   "metadata": {
    "slideshow": {
     "slide_type": "fragment"
    }
   },
   "source": [
    "* Counting is reset once `TIMx_CNT` reaches a predetermined value.\n",
    "    * Reset intervals determined by the \"Auto Reload Register\" (`TIMx_ARR`)"
   ]
  },
  {
   "cell_type": "markdown",
   "id": "4f8063a0-317a-4aa9-b7fc-2228d963bf47",
   "metadata": {
    "slideshow": {
     "slide_type": "fragment"
    }
   },
   "source": [
    "* Can be configured to:\n",
    "    * Generate a specific output every `TIMx_ARR` clock cycles\n",
    "    * Measure number of clock cycles between between changes in logical signal"
   ]
  },
  {
   "cell_type": "markdown",
   "id": "93acf39f-9a84-4a12-9d5f-b1bc2598e05b",
   "metadata": {
    "slideshow": {
     "slide_type": "slide"
    }
   },
   "source": [
    "# What are hardware timers used for?"
   ]
  },
  {
   "cell_type": "markdown",
   "id": "7b9e96bd-4f5a-4ff7-8816-537a3341e8b5",
   "metadata": {
    "slideshow": {
     "slide_type": "fragment"
    }
   },
   "source": [
    "* Controlling Serial communication\n",
    "    * Serial data is transmitted at a certain \"Baud Rate\""
   ]
  },
  {
   "cell_type": "markdown",
   "id": "775295d1-449b-4ab2-8494-6ceb676e9483",
   "metadata": {
    "slideshow": {
     "slide_type": "fragment"
    }
   },
   "source": [
    "* Generating PWM Output\n",
    "    * A PWM duty cycle repeats every `TIMx_ARR` cycles, and has a pulse width of `TIMx_CCRy` cycles"
   ]
  },
  {
   "cell_type": "markdown",
   "id": "8c7d69e8-30bd-46fd-ac78-88426ebc8573",
   "metadata": {
    "slideshow": {
     "slide_type": "fragment"
    }
   },
   "source": [
    "* Measuring \"timed\" input\n",
    "    * Certain sensors use e.g. \"rise time\" for a capacitor voltage as metric.\n",
    "    * Can be measured with a hardware timer without \"pausing\" the program."
   ]
  },
  {
   "cell_type": "markdown",
   "id": "48647197-2d58-4809-86c7-fe3568ddbdff",
   "metadata": {
    "slideshow": {
     "slide_type": "fragment"
    }
   },
   "source": [
    "* Triggering hardware actions at certain intervals\n",
    "    * Primary example: sampling with an ADC\n",
    "        * Timer generates an internal signal, which we can use to initiate an A/D convertion on an ADC"
   ]
  },
  {
   "cell_type": "markdown",
   "id": "5bbfb6dd-1985-4c62-86a4-513d10004db9",
   "metadata": {
    "slideshow": {
     "slide_type": "slide"
    }
   },
   "source": [
    "## Timer operation illustrated"
   ]
  },
  {
   "cell_type": "code",
   "execution_count": 118,
   "id": "3700ef58-4468-434a-9d40-7718c48fad81",
   "metadata": {},
   "outputs": [
    {
     "data": {
      "text/plain": [
       "Text(0, 0.5, '$v_{out}$')"
      ]
     },
     "execution_count": 118,
     "metadata": {},
     "output_type": "execute_result"
    },
    {
     "data": {
      "image/png": "[encoded data removed]",
      "text/plain": [
       "<Figure size 640x480 with 2 Axes>"
      ]
     },
     "metadata": {},
     "output_type": "display_data"
    }
   ],
   "source": [
    "import numpy as np\n",
    "import matplotlib.pyplot as plt\n",
    "\n",
    "# Register settings\n",
    "ARR = 31\n",
    "CCR = 24\n",
    "\n",
    "# Generating PWM output\n",
    "n = np.arange(0, (ARR+1)*2)  # Generate 2 cycles of output\n",
    "cnt_val = n % (ARR + 1)  # Counting starts over from ARR (inclusive)\n",
    "pwm_sig = np.where(cnt_val < CCR, 3.3, 0)  # PWM Output is HIGH while cnt_val < CCR \n",
    "\n",
    "# Visualizing PWM output\n",
    "plt.subplot(2,1,1)\n",
    "plt.stairs(cnt_val, label=\"CNT\")\n",
    "plt.plot([0, len(n)], [ARR, ARR], label=\"ARR\")\n",
    "plt.plot([0, len(n)], [CCR, CCR], label=\"CCR\")\n",
    "plt.legend(loc=\"upper right\")\n",
    "plt.ylabel(\"Counter value\")\n",
    "plt.subplot(2,1,2)\n",
    "plt.stairs(pwm_sig, linewidth=2, label=f\"PWM Duty Cycle: {int(CCR/(ARR+1)*100)}%\")\n",
    "plt.legend(loc=\"upper right\")\n",
    "plt.xlabel(\"Clock Cycles\")\n",
    "plt.ylabel(\"$v_{out}$\")"
   ]
  },
  {
   "cell_type": "markdown",
   "id": "c37d226b-76eb-42d9-a252-1b8850a1f277",
   "metadata": {
    "slideshow": {
     "slide_type": "slide"
    }
   },
   "source": [
    "# Direct Memory Access"
   ]
  },
  {
   "cell_type": "markdown",
   "id": "4f42711a-7cc0-4c26-877c-29a2f01a02ef",
   "metadata": {
    "slideshow": {
     "slide_type": "fragment"
    }
   },
   "source": [
    "* What is DMA?\n",
    ">\"DMA is a bus master and system peripheral providing high-speed data transfers between peripherals and memory, as well as memory-to-memory.\n",
    "Data can be quickly moved by DMA without any CPU action, keeping CPU resources free for other operations.\"\n",
    ">\n",
    "*Source: [wiki.st.com](https://wiki.st.com/stm32mcu/wiki/Getting_started_with_DMA)* "
   ]
  },
  {
   "cell_type": "markdown",
   "id": "ce128814-bfc7-49ea-a0a4-0a1247cd6a13",
   "metadata": {
    "slideshow": {
     "slide_type": "fragment"
    }
   },
   "source": [
    "* Using DMA, the ADC can write a constant stream of input samples to memory without requiring any CPU action.\n",
    "    * DMA Bus width is `32` bit (4 bytes).\n",
    "    * Given information on buffer location and buffer size, the DMA strema can write directly to the memory set aside as buffer.\n",
    "    * DMA buffer can be configured as `circular` or `normal`.\n",
    "    * Buffer allocation is achieved using `arrays`."
   ]
  },
  {
   "cell_type": "markdown",
   "id": "e72ad6e6-858b-4428-96a6-bfc6c7db363c",
   "metadata": {
    "slideshow": {
     "slide_type": "fragment"
    }
   },
   "source": [
    "* DMA can trigger interrupts once the buffer is overwritten."
   ]
  },
  {
   "cell_type": "markdown",
   "id": "0aa8d2ec-3f0f-4d33-8fd0-60d538fc2130",
   "metadata": {
    "slideshow": {
     "slide_type": "slide"
    }
   },
   "source": [
    "# Arrays in `C`\n"
   ]
  },
  {
   "cell_type": "markdown",
   "id": "c0412249-bd54-4ded-a1f4-ca77207bd8b4",
   "metadata": {
    "slideshow": {
     "slide_type": "fragment"
    }
   },
   "source": [
    "* Used to store a sequence of values of a certain type:\n",
    "```C\n",
    "int my_array[] = {1, 2, 3, 4, 5}; // Declares an array of length 5 with integer values 1-5\n",
    "```"
   ]
  },
  {
   "cell_type": "markdown",
   "id": "a1e724a5-c072-4d1b-9508-db180588c967",
   "metadata": {
    "slideshow": {
     "slide_type": "fragment"
    }
   },
   "source": [
    "* Since datatype `int` is 2 bytes, the above declaration of `my_array` will allocate $5\\cdot 2 = 10$ bytes for storage of array values."
   ]
  },
  {
   "cell_type": "markdown",
   "id": "8cb1bcab",
   "metadata": {
    "slideshow": {
     "slide_type": "fragment"
    }
   },
   "source": [
    "* Array elements are accessed using indexing:\n",
    "```C\n",
    "int value_at_2 = my_array[2];\n",
    "```"
   ]
  },
  {
   "cell_type": "markdown",
   "id": "983a8d38",
   "metadata": {
    "slideshow": {
     "slide_type": "fragment"
    }
   },
   "source": [
    "* Indexing out of bounds will not be prevented by compiler. The following will run without errors:\n",
    "```C\n",
    "int mystery_value = my_array[5]; // Acquires whatever is stored \"next to\" the array in system memory, and casts to 'int'\n",
    "```"
   ]
  },
  {
   "cell_type": "markdown",
   "id": "1d1fe79c-d0c1-470c-90b5-4781b57650c7",
   "metadata": {
    "slideshow": {
     "slide_type": "slide"
    }
   },
   "source": [
    "# Pointers in `C`"
   ]
  },
  {
   "cell_type": "markdown",
   "id": "a142eba0-be3a-48d4-bb88-2478ec44b071",
   "metadata": {
    "slideshow": {
     "slide_type": "fragment"
    }
   },
   "source": [
    "* A pointer is a reference to the memory location where a value is stored.<br>**Quick overview:**\n",
    "```C\n",
    "int my_value = 10;  // Declares integer variable\n",
    "int *value_ptr = &my_value;  // Creates pointer variable wich contains address for 'my_value' (eg. 0xd2e6eea4)\n",
    "int new_value = *value_ptr;  // Extracts value stored in address referenced by 'value_ptr' (i.e. 10)\n",
    "/* The variable 'new_value' is now equal to 10 */ \n",
    "```"
   ]
  },
  {
   "cell_type": "markdown",
   "id": "10a46b88-52be-458c-8a99-d390fac735da",
   "metadata": {
    "slideshow": {
     "slide_type": "fragment"
    }
   },
   "source": [
    "* Pointers allow functions to edit variables which are fed as input.<br>\n",
    "```C\n",
    "/* Example function description */\n",
    "void increment(int* x){\n",
    "    *x = *x + 1;\n",
    "}\n",
    "\n",
    "/* Example function call */\n",
    "void main() {\n",
    "    int my_value = 10;\n",
    "    increment(&my_value);\n",
    "    printf(\"%d\", my_value); // Prints '11'\n",
    "}\n",
    "```"
   ]
  },
  {
   "cell_type": "markdown",
   "id": "0d54bab5-975e-4116-ac4d-404319ed014a",
   "metadata": {
    "slideshow": {
     "slide_type": "slide"
    }
   },
   "source": [
    "# Arrays are pointers!"
   ]
  },
  {
   "cell_type": "markdown",
   "id": "9a34d9ae-ca51-4d3a-a1a1-7cb18f64e0ee",
   "metadata": {
    "slideshow": {
     "slide_type": "fragment"
    }
   },
   "source": [
    "* An array variable declared using `[]` simply contains a pointer to the location of the first element in the array.\n",
    "    * Indexing becomes equivalent to incrementing the pointer addreess:\n",
    ">```C\n",
    ">int my_array[] = {1, 2, 3, 4, 5}; // Declares an array of length 5 with integer values 1-5\n",
    ">int a = my_array[3]; // Assigns value at index 3 to variable 'a'\n",
    ">int b = *(my_array + 3); // Assigns integer stored at address 'my_array + 3' to variable b \n",
    ">printf(\"%d %d\", a, b); // Prints '4 4'\n",
    ">```"
   ]
  },
  {
   "cell_type": "markdown",
   "id": "da05d010-c26f-477b-8e20-21966ed703a1",
   "metadata": {
    "slideshow": {
     "slide_type": "fragment"
    }
   },
   "source": [
    "* Functions processing arrays use pointers.\n",
    "    * To avoid out-of-bounds errors, information about array size must be passed as well.\n",
    ">```C\n",
    "void square(int* x, int* y, int size){\n",
    "    for (int i=0; i<size; i++){\n",
    "        y[i] = x[i]*x[i];\n",
    "    }\n",
    "}\n",
    ">void main() {\n",
    "    int my_array[] = {1, 2, 3, 4, 5}; // Declares an array of length 5 with integer values 1-5\n",
    "    int out_array[5] = {}; // Allocate memory for output array\n",
    "    square(my_array, out_array, 5); // Compute elementwise squared\n",
    "    printf(\"%d^2 = %d\", my_array[2], out_array[2]); // Prints 3^2 = 9\n",
    "}\n",
    ">```"
   ]
  },
  {
   "cell_type": "markdown",
   "id": "347be926-7acf-4be3-baa0-d59f4d107044",
   "metadata": {
    "slideshow": {
     "slide_type": "fragment"
    }
   },
   "source": [
    "* Arrays can be cast to different types (*Not generally advisable, but common practice when using DMA.*)\n",
    ">```C\n",
    "uint32_t my_array[] = {0x1111aaaa}; // Declares an array of length 5 with integer values 1-5\n",
    "uint16_t* array_copy = (uint16_t*) my_array; \n",
    "printf(\"%x %x\", array_copy[1], array_copy[0]); // Prints '1111 aaaa'\n",
    ">```"
   ]
  },
  {
   "cell_type": "markdown",
   "id": "c6de4553",
   "metadata": {
    "slideshow": {
     "slide_type": "slide"
    }
   },
   "source": [
    "# CMSIS-DSP Library"
   ]
  },
  {
   "cell_type": "markdown",
   "id": "8f401338",
   "metadata": {
    "slideshow": {
     "slide_type": "fragment"
    }
   },
   "source": [
    "* [ARM](https://en.wikipedia.org/wiki/ARM_Architecture_(company)) have provided a library with useful math and DSP functions"
   ]
  },
  {
   "cell_type": "markdown",
   "id": "469af809",
   "metadata": {
    "slideshow": {
     "slide_type": "fragment"
    }
   },
   "source": [
    "* Full library part of firmware package installed with CubeMX\n",
    "    * Location: `<install_directory>\\STM32Cube\\Repository\\STM32Cube_FW_Fx_Vx.xx.x\\Drivers\\CMSIS\\DSP`"
   ]
  },
  {
   "cell_type": "markdown",
   "id": "c95c1fd5",
   "metadata": {
    "slideshow": {
     "slide_type": "fragment"
    }
   },
   "source": [
    "* Processes *entire arrays*.\n",
    "    * Allocate space for input *and* output in separate arrays, then pass both input and output to function.\n",
    "    * Example using [arm_abs_f32](https://arm-software.github.io/CMSIS_5/DSP/html/group__BasicAbs.html#ga0e8fc7df3033cdbe9cda8a766a46e6d9):\n",
    ">```C\n",
    ">float32_t input[2] = {-5, 5};\n",
    ">float32_t outpu[2] = {};\n",
    ">arm_abs_f32(input, output, 2);\n",
    ">```"
   ]
  },
  {
   "cell_type": "markdown",
   "id": "fa9c1213",
   "metadata": {
    "slideshow": {
     "slide_type": "fragment"
    }
   },
   "source": [
    "* Include instructions found [here](https://community.st.com/t5/stm32-mcus/how-to-integrate-cmsis-dsp-libraries-on-a-stm32-project/ta-p/666790)"
   ]
  },
  {
   "cell_type": "markdown",
   "id": "ddc8c876-bde9-42fc-8723-1c94b52966f9",
   "metadata": {
    "slideshow": {
     "slide_type": "slide"
    }
   },
   "source": [
    "# Double Buffering\n",
    "\n",
    "* Overall program structure for handling sample stream in \"batches\"\n",
    "\n",
    "<img src=\"Figurer/08_Effektspekter_Spektrogram/DualBufferAnim.gif\" width=\"80%\" style=\"margin-left:100px\" />"
   ]
  },
  {
   "cell_type": "markdown",
   "id": "d0b7e69d-5cfa-4a40-a0fb-165d03e12e5c",
   "metadata": {
    "slideshow": {
     "slide_type": "fragment"
    }
   },
   "source": [
    "* Total sample buffer size must be $2\\times$ FFT window size"
   ]
  },
  {
   "cell_type": "markdown",
   "id": "bdb8970b-1edf-446f-bb2e-44396fa77144",
   "metadata": {
    "slideshow": {
     "slide_type": "fragment"
    }
   },
   "source": [
    "* Alternating halves of the `ADC_buffer` are copied to FFT input."
   ]
  },
  {
   "cell_type": "markdown",
   "id": "809e8590-076c-4c33-9584-301bcb287301",
   "metadata": {
    "slideshow": {
     "slide_type": "slide"
    }
   },
   "source": [
    "# FFT on an STM32\n",
    "\n",
    "\n",
    "\n"
   ]
  },
  {
   "cell_type": "markdown",
   "id": "c1001865",
   "metadata": {
    "slideshow": {
     "slide_type": "fragment"
    }
   },
   "source": [
    "* Makes use of \"basic\" fft algorithms such as *radix-2*.\n",
    "    * Divide and conquer algorithm expexts window size $N=2^k, k \\in \\mathbb{Z}$\n",
    "    * Due to hardware limitations, FFT will only work for window sizes $N \\in \\{16, 32, 64, 128, 256, 512, 1024, 2048, 4096\\}$"
   ]
  },
  {
   "cell_type": "markdown",
   "id": "683b8540",
   "metadata": {
    "slideshow": {
     "slide_type": "fragment"
    }
   },
   "source": [
    "* FFT functions found in folder `TransformFunctions`\n",
    "    * Requires inclusion of `\"arm_const_structs.h\"` in addition to `\"arm_math.h\"`"
   ]
  },
  {
   "cell_type": "markdown",
   "id": "1adc38f1",
   "metadata": {
    "slideshow": {
     "slide_type": "fragment"
    }
   },
   "source": [
    "* An FFT-algorithm `struct` instance must be initialized before calculating FFT\n",
    "    * Accomplished with separate `init`-function\n",
    "    * Window size is determined here!\n",
    "    * Allocates memory needed "
   ]
  },
  {
   "cell_type": "markdown",
   "id": "086ba67c",
   "metadata": {
    "slideshow": {
     "slide_type": "fragment"
    }
   },
   "source": [
    "* Choose between `cfft` and `rfft`.\n",
    "    * `cfft` produces two-sided DFT. <br>Expects complex input.\n",
    "    * `rfft` produces one-sided DFT. <br>Expects real-valued input."
   ]
  },
  {
   "cell_type": "markdown",
   "id": "6dd45afa",
   "metadata": {
    "slideshow": {
     "slide_type": "fragment"
    }
   },
   "source": [
    "* Separate functions for different data types:\n",
    "    * Floating-point: `f16`, `f32`, `f64`\n",
    "    * Fixed-point: `q15`, `q31`\n",
    "    * Example: `arm_cfft_f32` for calculating two-sided DFT with 32-bit floating point values."
   ]
  },
  {
   "cell_type": "markdown",
   "id": "0a470f08-9e23-4cbe-bd15-5b5630297a6e",
   "metadata": {
    "slideshow": {
     "slide_type": "slide"
    }
   },
   "source": [
    "## Example:\n",
    "\n",
    "```C\n",
    "/* Parameters */\n",
    "uint32_t fftSize = 1024;\n",
    "uint32_t ifftFlag = 0;\n",
    "uint32_t doBitReverse = 1;\n",
    "\n",
    "/* Create struct for computing CFFT */\n",
    "arm_cfft_instance_f32 varInstCfftF32;\n",
    "\n",
    "/* Initialize FFT struct */\n",
    "arm_cfft_init_f32(&varInstCfftF32,fftSize);\n",
    "\n",
    "/* Process the data through the CFFT/CIFFT module \n",
    " Take note: the data in 'testInput_f32_10khz' is modified BY the function\n",
    " 'arm_cfft_f32 and will contain the FFT output once the function has \n",
    " executed.*/\n",
    "arm_cfft_f32(&varInstCfftF32, testInput_f32_10khz, ifftFlag, doBitReverse);\n",
    "```"
   ]
  }
 ],
 "metadata": {
  "celltoolbar": "Slideshow",
  "kernelspec": {
   "display_name": "Python 3 (ipykernel)",
   "language": "python",
   "name": "python3"
  },
  "language_info": {
   "codemirror_mode": {
    "name": "ipython",
    "version": 3
   },
   "file_extension": ".py",
   "mimetype": "text/x-python",
   "name": "python",
   "nbconvert_exporter": "python",
   "pygments_lexer": "ipython3",
   "version": "3.11.5"
  }
 },
 "nbformat": 4,
 "nbformat_minor": 5
}
