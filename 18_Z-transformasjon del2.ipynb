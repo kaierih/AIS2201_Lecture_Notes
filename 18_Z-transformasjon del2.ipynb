{
 "cells": [
  {
   "cell_type": "code",
   "execution_count": null,
   "metadata": {
    "slideshow": {
     "slide_type": "skip"
    }
   },
   "outputs": [],
   "source": [
    "# Generelle moduler og funksjonsbeskrivelser brukt i forelesningen\n",
    "from numpy import sin, cos, pi, exp\n",
    "import numpy as np\n",
    "import scipy.signal as sig\n",
    "import matplotlib.pyplot as plt\n",
    "from Kildekode._12_IIRFilt import *\n",
    "from Kildekode._14_Z_transformasjon import *\n",
    "\n",
    "\n",
    "%matplotlib ipympl"
   ]
  },
  {
   "cell_type": "markdown",
   "metadata": {
    "slideshow": {
     "slide_type": "slide"
    }
   },
   "source": [
    "<img src=\"Figurer/NTNU_Logo.png\" align=\"left\" style=\"width: 30%\">\n",
    "<br clear=\"all\" />\n",
    "<br></br>\n",
    "\n",
    "# Z-transformasjon del 2\n",
    "\n",
    "* **Emne AIS2201 - Signalbehandling**\n",
    "* **Uke 45, 2023**\n",
    "* **Underviser: Kai Erik Hoff**"
   ]
  },
  {
   "cell_type": "markdown",
   "metadata": {
    "slideshow": {
     "slide_type": "slide"
    }
   },
   "source": [
    "## Tema:\n",
    "* Repetisjon Z-transformasjon del 1\n",
    "    * Z-transformen\n",
    "    * Transferfunksjon\n",
    "    * Fra z-plan til frekvensrespons\n",
    "    * Grafisk fremstilling av transferfunksjon\n",
    "* Poler og nullpunkt\n",
    "    * Nullpunkt\n",
    "    * Poler\n",
    "    * Pol- og Nullpunktskart\n",
    "    * Stabilitet\n",
    "    * Mer om poler og frekvensrespons"
   ]
  },
  {
   "cell_type": "markdown",
   "metadata": {
    "slideshow": {
     "slide_type": "slide"
    }
   },
   "source": [
    "# Repetisjon: Z-transformasjon\n",
    "#### Notasjon:\n",
    "$$\\textbf{Z}(h[n]) = H(z)$$\n",
    "\n",
    "#### Formel:\n",
    "\\begin{align}\n",
    "H(z) &= \\sum_{n=0}^{\\infty} h[n]\\cdot z^{-n}\\\\\n",
    "& \\text{der}\\\\\n",
    "z &= r\\cdot e^{j\\hat{\\omega}}\n",
    "\\end{align}"
   ]
  },
  {
   "cell_type": "markdown",
   "metadata": {
    "slideshow": {
     "slide_type": "slide"
    }
   },
   "source": [
    "#### For LTI-system\n",
    "* Dersom $h[n]$ er impulsresponsen til et LTI-system, forteller dette hvordan systemet vil respondere til et inngangssignal $x[n] = z^{n} = r^{n} \\cdot e^{j \\hat{\\omega}\\cdot n}$.\n",
    "* Refleksjoner:\n",
    "    * Dersom $|r| = 1$, reduseres den 2-dimensjonale Z-transformen til DTFT. \n",
    "    * Dersom $|r| < 1$, vil amplitudent til $z^{n}$ synke over tid.\n",
    "    * Dersom $|r| > 1$, vil amplituden til $z^{n}$ øke eksponentielt, og vi får \"unbounded input\"."
   ]
  },
  {
   "cell_type": "code",
   "execution_count": null,
   "metadata": {
    "slideshow": {
     "slide_type": "fragment"
    }
   },
   "outputs": [],
   "source": [
    "from Kildekode._14_Z_transformasjon import showDiscreteOscillation\n",
    "z = 1*exp(1j*pi/4)\n",
    "showDiscreteOscillation(z, N=32, fig_num = 1)"
   ]
  },
  {
   "cell_type": "markdown",
   "metadata": {
    "slideshow": {
     "slide_type": "slide"
    }
   },
   "source": [
    "# Repetisjon: S-plan og Z-plan\n",
    "## $$z = e^{s\\cdot T_s}$$\n",
    "<img src=\"Figurer/14_Ztransform/Fig2_SandZ.png\" style=\"width: 80%; margin-left: 100px\" />"
   ]
  },
  {
   "cell_type": "markdown",
   "metadata": {
    "slideshow": {
     "slide_type": "slide"
    }
   },
   "source": [
    "# Repetisjon: Tidsforskyvning i Z-planet\n",
    "\n",
    "* Hver sample tidsforskyvning tilsvarer multiplikasjon med $z^{-1}$ i z-planet. \n",
    "$$\\textbf{Z}(x[n-D]) = z^{-D}\\cdot X(z)$$\n",
    "\n",
    "* I blokkskjemarepresentasjon av filter brukes derfor $z^{-1}$ for å symbolisere tidsforskyvning/delay.\n",
    "\n",
    "<br>\n",
    "\n",
    "<img src=\"Figurer/14_Ztransform/Fig4_Delay.png\" style=\"width: 70%; margin-left: 100px\" />"
   ]
  },
  {
   "cell_type": "markdown",
   "metadata": {
    "slideshow": {
     "slide_type": "slide"
    }
   },
   "source": [
    "# Repetisjon: Transferfunksjon / overføringsfunksjon\n",
    "\n",
    "* Z-transformen av impulsresponen $h[n]$ til et LTI-system kalles systemets *transferfunksjon*\n",
    "* For ethvert kausalt LTI-system med filterkoeffisienter **a** og **b**, vil transferfunksjonen være:\n",
    "\\begin{align}\n",
    "H(z) = \\frac{Y(z)}{X(z)} &= \\frac{\\sum_{k=0}^{M} b_k \\cdot z^{-k}}{\\sum_{k=0}^{N} a_k \\cdot z^{-k}}\\\\\n",
    "&\\text{eller}\\\\\n",
    "&= \\frac{b_0 + b_1\\cdot z^{-1} + b_2 \\cdot z^{-2} + \\ldots + b_M \\cdot z^{-M}}{a_0 + a_1\\cdot z^{-1} + a_2 \\cdot z^{-2} + \\ldots + a_N \\cdot z^{-N}}\n",
    "\\end{align}\n",
    "* Teller og nevner er polynomer\n",
    "* *samme utledning som for DTFT av differanseligning*"
   ]
  },
  {
   "cell_type": "markdown",
   "metadata": {
    "slideshow": {
     "slide_type": "slide"
    }
   },
   "source": [
    "# Repetisjon: Visualisering av $H(z)$\n",
    "\n",
    "* $H(z)$ funksjon av et komplekst tall.\n",
    "    * \"Gain\" i transferfunksjonen av størst interesse\n",
    "    * Et \"Surface Plot\" av $|H(z)|$ vil kunne gi informasjon om forsterkningen av ulike typer signal.\n",
    "    * Amplituderesponsen vil kunne leses av ved å studere konturene langs enhetssirkelen.\n",
    "    * For enkelte verdier av $z$ ser vi at overflateplottet trekkes opp mot uendelig, eller ned mot null.\n",
    "        * Disse punktene er kjent som poler og nullpunkt"
   ]
  },
  {
   "cell_type": "code",
   "execution_count": null,
   "metadata": {},
   "outputs": [],
   "source": [
    "# Eksempelfilter middelverdi med vindusfunksjon\n",
    "b = np.array([1, 1])*0.1\n",
    "a = [1, -0.8]\n",
    "visualizeTF(b, a, fig_num=2) # Ikke standardfunksjon, definert i kildekoden til forelesningen."
   ]
  },
  {
   "cell_type": "markdown",
   "metadata": {
    "slideshow": {
     "slide_type": "slide"
    }
   },
   "source": [
    "# Repetisjon: Z-plan og frekvensrespons\n",
    "\n",
    "* Substitusjonen $z=e^{j\\hat{\\omega}}$ i transferfunksjonen $H(z)$ gir systemets frekvensrespons $H(\\hat{\\omega})$.\n",
    "\n",
    "$$ H(\\hat{\\omega}) = H(z)\\bigg|_{z = e^{j\\hat{\\omega}}}$$\n",
    "\n",
    "* Frekvensresponsen er oppgitt langs ***enhetssirkelen*** i z-planet.\n",
    "    * Sirkulær \"frekvensakse\" medfører at alle aliaser av et digitalt signal er representert av samme punkt i z-planet.\n",
    "    \n",
    "<img src=\"Figurer/14_Ztransform/Fig11_Hz2Hw.png\" style=\"width: 90%\" />"
   ]
  },
  {
   "cell_type": "markdown",
   "metadata": {
    "slideshow": {
     "slide_type": "slide"
    }
   },
   "source": [
    "# Regneeksempel 1\n",
    "\n",
    "* Gitt differanseligningen $y[n] - 0.8y[n-1] = x[n] + x[n-1]$:\n",
    "    1. Finn transferfunksjonen $H(z)$\n",
    "    2. Finn frekvensresponsen $H(\\hat{\\omega})$\n",
    "    3. Skaler filteret med variabel $K$ slik at $H_{ny}(\\hat{\\omega}) = K\\cdot H(\\hat{\\omega})$. Konstanten $K$ skal være tilpasset slik at maksimal filtergain er lik 1.\n"
   ]
  },
  {
   "cell_type": "markdown",
   "metadata": {
    "slideshow": {
     "slide_type": "skip"
    }
   },
   "source": [
    "## Regneeksempel 1:\n",
    "\n",
    "1. Et filter har transferfunksjonen \n",
    "$$H(z) = K \\cdot \\frac{1 - z^{-1}+ z^{-2}}{1+0.7\\cdot z^{-1}+0.49\\cdot z^{-2}}$$\n",
    "der skaleringsfaktoren $K$ ikke er definert.\n",
    "Identifiser filterformen, og finn en skaleringsfaktor $K$, som fører til at $\\left| H\\left(\\hat{\\omega}\\right)\\right| \\approx 1$ i passbåndet.\n",
    "2. Finn det justerte filterets differanseligning"
   ]
  },
  {
   "cell_type": "code",
   "execution_count": null,
   "metadata": {
    "scrolled": true,
    "slideshow": {
     "slide_type": "fragment"
    }
   },
   "outputs": [],
   "source": [
    "b = np.array([1, 1])\n",
    "a = np.array([1, -0.8])\n",
    "plt.close(6); plt.figure(6)\n",
    "Magnitude_dB(b, a)\n",
    "Magnitude_dB(0.1*b, a)"
   ]
  },
  {
   "cell_type": "markdown",
   "metadata": {
    "slideshow": {
     "slide_type": "slide"
    }
   },
   "source": [
    "# Poler og nullpunkt\n",
    "<img src=\"Figurer/14_Ztransform/PZ_lecture/Slide2.PNG\" style=\"width: 70%\" align=\"left\"/>"
   ]
  },
  {
   "cell_type": "markdown",
   "metadata": {
    "slideshow": {
     "slide_type": "slide"
    }
   },
   "source": [
    "# Poler og nullpunkt\n",
    "<img src=\"Figurer/14_Ztransform/PZ_lecture/Slide3.PNG\" style=\"width: 70%\" align=\"left\"/>"
   ]
  },
  {
   "cell_type": "markdown",
   "metadata": {
    "slideshow": {
     "slide_type": "slide"
    }
   },
   "source": [
    "# Poler og nullpunkt til transferfunksjon\n",
    "<img src=\"Figurer/14_Ztransform/PZ_lecture/Slide4.PNG\" style=\"width: 70%\" align=\"left\"/>"
   ]
  },
  {
   "cell_type": "markdown",
   "metadata": {
    "slideshow": {
     "slide_type": "slide"
    }
   },
   "source": [
    "# Pol- og nullpuntkskart, 1. ordens filter\n",
    "<img src=\"Figurer/14_Ztransform/PZ_lecture/Slide5.PNG\" style=\"width: 70%\" align=\"left\" />"
   ]
  },
  {
   "cell_type": "markdown",
   "metadata": {
    "slideshow": {
     "slide_type": "slide"
    }
   },
   "source": [
    "# Pol- og nullpunktskart 2. ordens filter\n",
    "<img src=\"Figurer/14_Ztransform/PZ_lecture/Slide6.PNG\" style=\"width: 70%\" align=\"left\"/>"
   ]
  },
  {
   "cell_type": "markdown",
   "metadata": {
    "slideshow": {
     "slide_type": "slide"
    }
   },
   "source": [
    "# 2. Ordens filter utledning\n",
    "\n",
    "<img src=\"Figurer/14_Ztransform/PZ_lecture/Slide7.PNG\" style=\"width: 70%\" align=\"left\"/>"
   ]
  },
  {
   "cell_type": "markdown",
   "metadata": {
    "slideshow": {
     "slide_type": "slide"
    }
   },
   "source": [
    "# Poler, nullpunkt og frekvensrespons\n",
    "<img src=\"Figurer/14_Ztransform/PZ_lecture/Slide10.PNG\" style=\"width: 70%\" align=\"left\"/>"
   ]
  },
  {
   "cell_type": "markdown",
   "metadata": {
    "slideshow": {
     "slide_type": "slide"
    }
   },
   "source": [
    "## Illustrasjon\n",
    "<img src=\"Figurer/14_Ztransform/PZ_lecture/Slide11.PNG\" style=\"width: 80%\" align=\"left\"/>\n"
   ]
  },
  {
   "cell_type": "markdown",
   "metadata": {
    "slideshow": {
     "slide_type": "slide"
    }
   },
   "source": [
    "## Kodeeksempel: Frihåndsdesign av filter"
   ]
  },
  {
   "cell_type": "code",
   "execution_count": null,
   "metadata": {
    "slideshow": {
     "slide_type": "fragment"
    }
   },
   "outputs": [],
   "source": [
    "zeroes = np.array([exp(1j*pi/4), exp(-1j*pi/4), exp(1j*3*pi/7), exp(-1j*3*pi/7)])\n",
    "\n",
    "poles = np.array([0.87*exp(1j*pi/2), 0.87*exp(-1j*pi/2), 0.3])\n",
    "\n",
    "b, a = sig.zpk2tf(zeroes, poles, 1)\n",
    "visualizeTF(b, a, fig_num=5)"
   ]
  },
  {
   "cell_type": "markdown",
   "metadata": {
    "slideshow": {
     "slide_type": "slide"
    }
   },
   "source": [
    "# Quiz:\n",
    "<img src=\"Figurer/14_Ztransform/PZ_lecture/Slide17.PNG\" style=\"width: 90%\" align=\"left\"/>"
   ]
  },
  {
   "cell_type": "markdown",
   "metadata": {
    "slideshow": {
     "slide_type": "slide"
    }
   },
   "source": [
    "# Filteregenskaper: Stabilitet\n",
    "<img src=\"Figurer/14_Ztransform/PZ_lecture/Slide12.PNG\" style=\"width: 70%\" align=\"left\"/>"
   ]
  },
  {
   "cell_type": "markdown",
   "metadata": {
    "slideshow": {
     "slide_type": "slide"
    }
   },
   "source": [
    "# Stabilitet\n",
    "* Definisjon i $n$-domenet: \n",
    "    * Et filter som påtrykkes et inngangssignal $x[n]$ som er avgrenset mellom to definerbare maks- og minimumsverdier, skal også ha et utgangssignal $y[n]$ som er avgrenset mellom to definerbare maks- og minimumsverdier.\n",
    "        * Impulsresponsen $h[n]$ til et stabilt filter vil konvergere mot 0, og impulsresponsen til et ustbailt filter vil divergere.\n",
    "* Definisjon av stabilitet i z-domenet:\n",
    "    * Et filter er stabilt dersom alle filterets poler befinner seg innenfor enhetssirkelen.\n",
    "    * Et filter er såkalt \"marginalt stabilt\" dersom det har poler ***på*** enhetssirkelen\n",
    "    * Et filter er ustabilt dersom det har poler utenfor enhetssirkelen"
   ]
  },
  {
   "cell_type": "markdown",
   "metadata": {
    "slideshow": {
     "slide_type": "slide"
    }
   },
   "source": [
    "## Kodeillustrasjon: Impulsrespons andreordens IIR-filtre\n",
    "* Ser på følgende:\n",
    "    1. Impulsrespons for et filter med to poler i $z=0.9\\cdot e^{\\pm j\\cdot \\frac{\\pi}{8}}$\n",
    "    2. Impulsrespons for et filter med to poler i $z=1.0\\cdot e^{\\pm j\\cdot \\frac{\\pi}{8}}$\n",
    "    3. Impulsrespons for et filter med to poler i $z=1.1\\cdot e^{\\pm j\\cdot \\frac{\\pi}{8}}$"
   ]
  },
  {
   "cell_type": "code",
   "execution_count": null,
   "metadata": {},
   "outputs": [],
   "source": [
    "xn = np.zeros(64)\n",
    "xn[0] = 1\n",
    "\n",
    "\n",
    "r = [0.9, 1.0, 1.1] # Array med radius for polkoordinater innenfor, på & utenfor enhetssirkelen.\n",
    "\n",
    "plt.close(4); plt.figure(4, figsize=(6,6))\n",
    "for i in np.arange(3):\n",
    "    plt.subplot(3,1,i+1)\n",
    "    poles = r[i]*exp(1j*np.array([pi/8, -pi/8])) \n",
    "    b = [1]\n",
    "    a = np.real(np.poly(poles))\n",
    "    hn = sig.lfilter(b, a, xn)\n",
    "    plt.stem(hn, markerfmt=\".\", basefmt=\"grey\")\n",
    "    plt.xlim([-0.1, len(xn)])\n",
    "    plt.grid(True)\n",
    "    plt.xlabel('Samplenummer $n$')\n",
    "    plt.ylabel(r'$h[n]$')\n",
    "    plt.title(r\"Filter med to poler i  $z = \"+str(r[i])+r\"\\cdot e^{\\pm j \\frac{\\pi}{8}}$\")\n",
    "plt.tight_layout(pad=0.4, w_pad=0.5, h_pad=1.0)"
   ]
  },
  {
   "cell_type": "markdown",
   "metadata": {
    "slideshow": {
     "slide_type": "slide"
    }
   },
   "source": [
    "#  Regneeksempel 1:\n",
    "* Finn Polene og Nullpunktene til filteret gitt med transferfunksjonen $H(z)$, og vis de i et pol- og nullpunktskart.\n",
    "\n",
    "$$H(z) = \\frac{1+z^{-4}}{1+0.49\\cdot z^{-2}}$$\n",
    "\n",
    "* Avgjør om filteret er stabilt"
   ]
  },
  {
   "cell_type": "code",
   "execution_count": null,
   "metadata": {
    "slideshow": {
     "slide_type": "slide"
    }
   },
   "outputs": [],
   "source": [
    "b = [1, 0, 0, 0, 1]\n",
    "a = [1, 0, -0.49]\n",
    "visualizeTF(b, a, fig_num=3)"
   ]
  },
  {
   "cell_type": "markdown",
   "metadata": {
    "slideshow": {
     "slide_type": "slide"
    }
   },
   "source": [
    "## Regneeksempel 2:\n",
    "\n",
    "1. Finn koeffisientene til *lavpasfilteret* med poler og nullpunkt som følger:\n",
    "$$\\begin{align} z_k &\\in \\{-1, -j, j\\}\\\\\n",
    "p_k &\\in \\left\\{0.7\\cdot e^{j\\frac{\\pi}{3}}, 0.7\\cdot e^{-j\\frac{\\pi}{3}}\\right\\}\n",
    "\\end{align}$$\n",
    "\n",
    "2. Juster filterkoeffisientene slik at vi får følgende filtergain i $\\hat{\\omega}=0$:\n",
    "$$H(\\hat{\\omega})\\big|_{\\hat{\\omega}=0} = 1$$"
   ]
  },
  {
   "cell_type": "code",
   "execution_count": null,
   "metadata": {
    "slideshow": {
     "slide_type": "slide"
    }
   },
   "outputs": [],
   "source": [
    "zeroes = np.array([-1.0,\n",
    "                   1j,\n",
    "                   -1j])\n",
    "\n",
    "poles = np.array([0.7*exp(1j*pi/3),\n",
    "                  0.7*exp(-1j*pi/3)\n",
    "                 ])\n",
    "w_0 = 0 # Rad/sample\n",
    "z_0 = 1*np.exp(1j*w_0)\n",
    "\n",
    "\n",
    "K = 1/H_0\n",
    "b, a = sig.zpk2tf(zeroes, poles, K)\n",
    "\n",
    "visualizeTF(b, a, fig_num=4)\n",
    "print(\"b = \", b, \"\\na = \", a, \"K = \", K)"
   ]
  },
  {
   "cell_type": "markdown",
   "metadata": {
    "slideshow": {
     "slide_type": "slide"
    }
   },
   "source": [
    "# Spørsmål?"
   ]
  }
 ],
 "metadata": {
  "celltoolbar": "Slideshow",
  "hide_input": false,
  "kernelspec": {
   "display_name": "Python 3 (ipykernel)",
   "language": "python",
   "name": "python3"
  },
  "language_info": {
   "codemirror_mode": {
    "name": "ipython",
    "version": 3
   },
   "file_extension": ".py",
   "mimetype": "text/x-python",
   "name": "python",
   "nbconvert_exporter": "python",
   "pygments_lexer": "ipython3",
   "version": "3.11.5"
  },
  "toc": {
   "base_numbering": 1,
   "nav_menu": {},
   "number_sections": false,
   "sideBar": true,
   "skip_h1_title": false,
   "title_cell": "Innholdstabell",
   "title_sidebar": "Innhold",
   "toc_cell": false,
   "toc_position": {},
   "toc_section_display": true,
   "toc_window_display": false
  },
  "varInspector": {
   "cols": {
    "lenName": 16,
    "lenType": 16,
    "lenVar": 40
   },
   "kernels_config": {
    "python": {
     "delete_cmd_postfix": "",
     "delete_cmd_prefix": "del ",
     "library": "var_list.py",
     "varRefreshCmd": "print(var_dic_list())"
    },
    "r": {
     "delete_cmd_postfix": ") ",
     "delete_cmd_prefix": "rm(",
     "library": "var_list.r",
     "varRefreshCmd": "cat(var_dic_list()) "
    }
   },
   "types_to_exclude": [
    "module",
    "function",
    "builtin_function_or_method",
    "instance",
    "_Feature"
   ],
   "window_display": false
  }
 },
 "nbformat": 4,
 "nbformat_minor": 4
}
